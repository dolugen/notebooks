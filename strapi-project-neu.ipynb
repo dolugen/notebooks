{
 "cells": [
  {
   "cell_type": "markdown",
   "metadata": {},
   "source": [
    "# Insert data into Strapi CMS"
   ]
  },
  {
   "cell_type": "code",
   "execution_count": 19,
   "metadata": {},
   "outputs": [
    {
     "name": "stdin",
     "output_type": "stream",
     "text": [
      " ·········\n"
     ]
    }
   ],
   "source": [
    "import os\n",
    "import httpx\n",
    "import json\n",
    "from slugify import slugify\n",
    "from markdownify import markdownify\n",
    "import getpass\n",
    "\n",
    "from dotenv import load_dotenv\n",
    "load_dotenv()\n",
    "\n",
    "strapi_address = os.getenv(\"STRAPI_ADDRESS\", \"http://localhost:1337/\")\n",
    "project_dir = \"/Users/dulguun/source/artfilm-legacy/\"\n",
    "media_dir = f'{project_dir}/webapps/artfilm_static_media/media/'\n",
    "\n",
    "resp = httpx.post(f\"{strapi_address}auth/local\", data={\"identifier\": \"strapi\", \"password\": getpass.getpass()})\n",
    "jwt_token = resp.json()['jwt']\n",
    "\n",
    "headers = {\n",
    "    \"Authorization\": f\"Bearer {jwt_token}\"\n",
    "}"
   ]
  },
  {
   "cell_type": "markdown",
   "metadata": {},
   "source": [
    "## Filtering the collection you want from the big dump\n",
    "e.g.:\n",
    "```sh\n",
    "cat data-slim2.json | jq 'map(select(.model == \"film_journal.articlecategory\"))' > data-articlecategories.json\n",
    "```"
   ]
  },
  {
   "cell_type": "markdown",
   "metadata": {},
   "source": [
    "## Strapi API utilities"
   ]
  },
  {
   "cell_type": "code",
   "execution_count": 2,
   "metadata": {},
   "outputs": [],
   "source": [
    "def strapi_upload_image(file_path, *, headers):\n",
    "    with open(file_path, 'rb') as f:\n",
    "        files = {'files': f}\n",
    "        resp = httpx.post(f\"{strapi_address}upload\", headers=headers, files=files)\n",
    "        return resp\n",
    "    \n",
    "def strapi_create_entry(endpoint, data, *, headers):\n",
    "    resp = httpx.post(f\"{strapi_address}{endpoint}\", headers=headers, data=data)\n",
    "    return resp\n",
    "\n",
    "def strapi_get_entries(endpoint, kv_pairs=[]):\n",
    "    filters = '&'.join([f'{k}={v}' for (k, v) in kv_pairs])\n",
    "    resp = httpx.get(f\"{strapi_address}{endpoint}?{filters}\").json()\n",
    "    return resp\n",
    "\n",
    "def strapi_get_entry(endpoint, identifier):\n",
    "    return httpx.get(f\"{strapi_address}{endpoint}/{identifier}\").json()\n",
    "\n",
    "def strapi_update_entry(endpoint, identifier, value, *, headers):\n",
    "    resp = httpx.put(f\"{strapi_address}{endpoint}/{identifier}\", headers=headers, data=value)\n",
    "    return resp"
   ]
  },
  {
   "cell_type": "markdown",
   "metadata": {},
   "source": [
    "## Load data"
   ]
  },
  {
   "cell_type": "code",
   "execution_count": 4,
   "metadata": {},
   "outputs": [],
   "source": [
    "# load data from dump\n",
    "articles_path =  f\"{project_dir}data-articles.json\"\n",
    "with open(articles_path) as f:\n",
    "    articles = json.load(f)\n",
    "    \n",
    "author_ids = [a['fields']['author'] for a in articles]\n",
    "author_ids = set(author_ids)\n",
    "\n",
    "users_path = f\"{project_dir}data-users.json\"\n",
    "with open(users_path) as f:\n",
    "    users = json.load(f)\n",
    "    \n",
    "avatars_path = f\"{project_dir}data-avatars.json\"\n",
    "with open(avatars_path) as f:\n",
    "    avatars = json.load(f)\n",
    "    \n",
    "data_path = \"/Users/dulguun/source/artfilm-legacy/data-articlecategories.json\"\n",
    "with open(data_path) as f:\n",
    "    cats = json.load(f)"
   ]
  },
  {
   "cell_type": "markdown",
   "metadata": {},
   "source": [
    "## Create Categories"
   ]
  },
  {
   "cell_type": "code",
   "execution_count": 5,
   "metadata": {},
   "outputs": [],
   "source": [
    "def create_categories():\n",
    "    for cat in cats:\n",
    "        data = {\n",
    "            'title': cat['fields']['title'],\n",
    "            'legacy_id': cat['pk']\n",
    "        }\n",
    "        httpx.post(f\"{strapi_address}categories\", headers=headers, data=data)"
   ]
  },
  {
   "cell_type": "markdown",
   "metadata": {},
   "source": [
    "## Create Authors\n",
    "- get author IDs from articles\n",
    "- filter user data with author IDs\n",
    "- create Authors with user data\n",
    "  - upload author image\n",
    "  - post author"
   ]
  },
  {
   "cell_type": "code",
   "execution_count": 4,
   "metadata": {
    "jupyter": {
     "source_hidden": true
    }
   },
   "outputs": [],
   "source": [
    "def create_authors():\n",
    "    for author_id in author_ids:\n",
    "        # check if it's already created, then skip over it\n",
    "        r = strapi_get_entries('authors', {'legacy_id': author_id}.items())\n",
    "        if r:\n",
    "            continue\n",
    "\n",
    "        # find user name\n",
    "        (user,) = list(filter(lambda u: u['pk'] == author_id, users))\n",
    "        username = user['fields']['username']\n",
    "        # find avatar path\n",
    "        user_avatars = list(filter(lambda a: a['fields']['user'] == author_id and a['fields']['primary'], avatars))\n",
    "\n",
    "        # prepare author data\n",
    "        author_data = {\n",
    "            'name': username,\n",
    "            'legacy_id': user['pk'],\n",
    "        }\n",
    "        \n",
    "        if user_avatars == []:\n",
    "            print('no avatar found for', author_id, username)\n",
    "            # can set to a default image here\n",
    "        else:\n",
    "            avatar = user_avatars[0]\n",
    "            # upload user image first\n",
    "            print('uploading image of user', username)\n",
    "            # if this doesn't work check 1. auth token 2. role permissions\n",
    "            resp = strapi_upload_image(f\"{media_dir}{avatar['fields']['avatar']}\")\n",
    "            author_data['picture'] = resp.json()[0][\"id\"]\n",
    "\n",
    "        print('creating author entry for', username)\n",
    "        strapi_create_entry(endpoint='authors', data=author_data)"
   ]
  },
  {
   "cell_type": "code",
   "execution_count": 6,
   "metadata": {},
   "outputs": [],
   "source": [
    "def set_default_author_images():\n",
    "    # set default image for people without images\n",
    "    default_author_image = strapi_get_entries('upload/files', [('name', 'youth.jpg')])[0]\n",
    "    authors = [a for a in strapi_get_entries('authors') if a['picture'] is None]\n",
    "    authors\n",
    "    for author in authors:\n",
    "        author['picture'] = default_author_image['id']\n",
    "        r = strapi_update_entry(\"authors\", author['id'], author)\n",
    "        assert r.status_code == 200\n",
    "        print(\".\", end=\"\")\n",
    "    print(\"Done.\")"
   ]
  },
  {
   "cell_type": "markdown",
   "metadata": {},
   "source": [
    "## Create Articles\n",
    "\n",
    "- upload article cover image\n",
    "- markdownify the body\n",
    "- prepare article data\n",
    "  - set author using legacy_id relation"
   ]
  },
  {
   "cell_type": "code",
   "execution_count": 7,
   "metadata": {
    "jupyter": {
     "source_hidden": true
    }
   },
   "outputs": [],
   "source": [
    "def create_articles():  \n",
    "    for article_data in articles:\n",
    "        # check if it's already created, then skip over it\n",
    "        r = strapi_get_entries('posts', {'legacy_id': article_data['pk']}.items())\n",
    "        if r:\n",
    "            print('s', end='')\n",
    "            continue\n",
    "        \n",
    "        # begin create post\n",
    "        article = article_data['fields']\n",
    "        \n",
    "        # get author\n",
    "#         print('Get author by legacy_id', article['author'])\n",
    "        author = strapi_get_entries('authors', [('legacy_id', article['author'])])[0]\n",
    "        \n",
    "        # get categories\n",
    "#         print('Get categories by legacy_id', article['category'])\n",
    "        cat_filter = [\n",
    "            ('legacy_id_in', cat_id)\n",
    "            for cat_id in article['category']\n",
    "        ]\n",
    "        categories = strapi_get_entries('categories', cat_filter)\n",
    "        cat_ids = [cat['id'] for cat in categories]\n",
    "        \n",
    "        # create cover image\n",
    "#         print('Create article cover image', article['image'])\n",
    "        resp = strapi_upload_image(f\"{media_dir}{article['image']}\")\n",
    "        # from IPython.core.debugger import Pdb; Pdb().set_trace()\n",
    "        assert resp.status_code == 200\n",
    "\n",
    "        cover_image_id = resp.json()[0]['id']\n",
    "        \n",
    "        entry_data = {\n",
    "            \"title\": article[\"title\"],\n",
    "            \"slug\": slugify(str(article_data['pk']) + article[\"title\"]),\n",
    "            \"excerpt\": article[\"summary\"],\n",
    "            \"status\": \"published\",  # publish everything\n",
    "            \"content\": markdownify(article[\"body\"]),\n",
    "            \"date\": article['created_date'][:10],  # lazy date formatting\n",
    "            \"author\": author['id'],\n",
    "            \"coverImage\": cover_image_id,\n",
    "            \"categories\": cat_ids,\n",
    "            \"legacy_id\": article_data['pk'],\n",
    "        }\n",
    "#         print('Create post entry with title', article['title'])\n",
    "        resp = strapi_create_entry(endpoint='posts', data=entry_data)\n",
    "#         print(resp)\n",
    "#         from IPython.core.debugger import Pdb; Pdb().set_trace()\n",
    "        print('.', end='')\n",
    "        assert resp.status_code == 200\n",
    "        if resp.status_code != 200:\n",
    "            return\n",
    "    print('\\nDone.')"
   ]
  },
  {
   "cell_type": "code",
   "execution_count": 13,
   "metadata": {},
   "outputs": [
    {
     "name": "stdout",
     "output_type": "stream",
     "text": [
      "..........................................................................................................................................................................................................................Done.\n"
     ]
    }
   ],
   "source": [
    "def set_published_status():\n",
    "    # forgot to set correct published status\n",
    "    for article_data in articles:\n",
    "        is_published = article_data['fields']['published']\n",
    "        # strapi post status\n",
    "        status = 'published' if is_published else 'draft'\n",
    "        legacy_id = article_data['pk']\n",
    "        post = strapi_get_entries('posts', [('legacy_id', legacy_id)])[0]\n",
    "        r = strapi_update_entry('posts', post['id'], {'status': status}, headers=headers)\n",
    "        assert r.status_code == 200\n",
    "        print('.', end='')\n",
    "    print('Done.')\n",
    "\n",
    "set_published_status()"
   ]
  },
  {
   "cell_type": "code",
   "execution_count": 16,
   "metadata": {},
   "outputs": [],
   "source": [
    "strapi_published_count = len(strapi_get_entries('posts', [('status', 'published'), ('_limit', 1000)]))\n",
    "dump_published_count = len([a for a in articles if a['fields']['published']])\n",
    "assert strapi_published_count == dump_published_count"
   ]
  },
  {
   "cell_type": "code",
   "execution_count": null,
   "metadata": {},
   "outputs": [],
   "source": []
  }
 ],
 "metadata": {
  "kernelspec": {
   "display_name": "Python 3",
   "language": "python",
   "name": "python3"
  },
  "language_info": {
   "codemirror_mode": {
    "name": "ipython",
    "version": 3
   },
   "file_extension": ".py",
   "mimetype": "text/x-python",
   "name": "python",
   "nbconvert_exporter": "python",
   "pygments_lexer": "ipython3",
   "version": "3.9.0"
  }
 },
 "nbformat": 4,
 "nbformat_minor": 4
}

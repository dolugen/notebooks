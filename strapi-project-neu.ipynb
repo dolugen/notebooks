{
 "cells": [
  {
   "cell_type": "markdown",
   "metadata": {},
   "source": [
    "# Insert data into Strapi CMS"
   ]
  },
  {
   "cell_type": "code",
   "execution_count": 4,
   "metadata": {},
   "outputs": [],
   "source": [
    "import getpass\n",
    "import json\n",
    "import os\n",
    "\n",
    "import httpx\n",
    "import tqdm\n",
    "from dotenv import load_dotenv\n",
    "from markdownify import markdownify\n",
    "from slugify import slugify\n",
    "\n",
    "load_dotenv()\n",
    "\n",
    "strapi_address = os.getenv(\"STRAPI_ADDRESS\", \"http://localhost:1337/\")\n",
    "project_dir = \"/Users/dulguun/source/artfilm-legacy/\"\n",
    "media_dir = f\"{project_dir}/webapps/artfilm_static_media/media/\"\n",
    "\n",
    "resp = httpx.post(\n",
    "    f\"{strapi_address}auth/local\",\n",
    "    data={\"identifier\": \"strapi\", \"password\": getpass.getpass()},\n",
    ")\n",
    "jwt_token = resp.json()[\"jwt\"]\n",
    "\n",
    "headers = {\"Authorization\": f\"Bearer {jwt_token}\"}"
   ]
  },
  {
   "cell_type": "markdown",
   "metadata": {},
   "source": [
    "## Filtering the collection you want from the big dump\n",
    "e.g.:\n",
    "```sh\n",
    "cat data-slim2.json | jq 'map(select(.model == \"film_journal.articlecategory\"))' > data-articlecategories.json\n",
    "```"
   ]
  },
  {
   "cell_type": "markdown",
   "metadata": {},
   "source": [
    "## Strapi API utilities"
   ]
  },
  {
   "cell_type": "code",
   "execution_count": 5,
   "metadata": {},
   "outputs": [],
   "source": [
    "from httpx import Response\n",
    "\n",
    "\n",
    "def strapi_upload_image(file_path, *, headers) -> Response:\n",
    "    with open(file_path, \"rb\") as f:\n",
    "        files = {\"files\": f}\n",
    "        resp = httpx.post(\n",
    "            f\"{strapi_address}upload\", headers=headers, files=files, timeout=15\n",
    "        )\n",
    "        return resp\n",
    "\n",
    "\n",
    "def strapi_create_entry(endpoint, data, *, headers) -> Response:\n",
    "    resp = httpx.post(f\"{strapi_address}{endpoint}\", headers=headers, data=data)\n",
    "    return resp\n",
    "\n",
    "\n",
    "def strapi_get_entries(endpoint, kv_pairs=[]):\n",
    "    filters = \"&\".join([f\"{k}={v}\" for (k, v) in kv_pairs])\n",
    "    resp = httpx.get(f\"{strapi_address}{endpoint}?{filters}\").json()\n",
    "    return resp\n",
    "\n",
    "\n",
    "def strapi_get_entry(endpoint, identifier):\n",
    "    return httpx.get(f\"{strapi_address}{endpoint}/{identifier}\").json()\n",
    "\n",
    "\n",
    "def strapi_update_entry(endpoint, identifier, value, *, headers) -> Response:\n",
    "    resp = httpx.put(\n",
    "        f\"{strapi_address}{endpoint}/{identifier}\", headers=headers, data=value\n",
    "    )\n",
    "    return resp"
   ]
  },
  {
   "cell_type": "markdown",
   "metadata": {},
   "source": [
    "## Load data"
   ]
  },
  {
   "cell_type": "code",
   "execution_count": 6,
   "metadata": {},
   "outputs": [],
   "source": [
    "# load data from dump\n",
    "articles_path = f\"{project_dir}data-articles.json\"\n",
    "with open(articles_path) as f:\n",
    "    articles = json.load(f)\n",
    "\n",
    "author_ids = [a[\"fields\"][\"author\"] for a in articles]\n",
    "author_ids = set(author_ids)\n",
    "\n",
    "users_path = f\"{project_dir}data-users.json\"\n",
    "with open(users_path) as f:\n",
    "    users = json.load(f)\n",
    "\n",
    "avatars_path = f\"{project_dir}data-avatars.json\"\n",
    "with open(avatars_path) as f:\n",
    "    avatars = json.load(f)\n",
    "\n",
    "data_path = \"/Users/dulguun/source/artfilm-legacy/data-articlecategories.json\"\n",
    "with open(data_path) as f:\n",
    "    cats = json.load(f)"
   ]
  },
  {
   "cell_type": "markdown",
   "metadata": {},
   "source": [
    "## Create Categories"
   ]
  },
  {
   "cell_type": "code",
   "execution_count": 7,
   "metadata": {},
   "outputs": [],
   "source": [
    "def create_categories():\n",
    "    for cat in cats:\n",
    "        data = {\"title\": cat[\"fields\"][\"title\"], \"legacy_id\": cat[\"pk\"]}\n",
    "        httpx.post(f\"{strapi_address}categories\", headers=headers, data=data)"
   ]
  },
  {
   "cell_type": "markdown",
   "metadata": {},
   "source": [
    "## Create Authors\n",
    "- get author IDs from articles\n",
    "- filter user data with author IDs\n",
    "- create Authors with user data\n",
    "  - upload author image\n",
    "  - post author"
   ]
  },
  {
   "cell_type": "code",
   "execution_count": 4,
   "metadata": {},
   "outputs": [],
   "source": [
    "def create_authors():\n",
    "    for author_id in author_ids:\n",
    "        # check if it's already created, then skip over it\n",
    "        r = strapi_get_entries(\"authors\", {\"legacy_id\": author_id}.items())\n",
    "        if r:\n",
    "            continue\n",
    "\n",
    "        # find user name\n",
    "        (user,) = list(filter(lambda u: u[\"pk\"] == author_id, users))\n",
    "        username = user[\"fields\"][\"username\"]\n",
    "        # find avatar path\n",
    "        user_avatars = list(\n",
    "            filter(\n",
    "                lambda a: a[\"fields\"][\"user\"] == author_id and a[\"fields\"][\"primary\"],\n",
    "                avatars,\n",
    "            )\n",
    "        )\n",
    "\n",
    "        # prepare author data\n",
    "        author_data = {\n",
    "            \"name\": username,\n",
    "            \"legacy_id\": user[\"pk\"],\n",
    "        }\n",
    "\n",
    "        if user_avatars == []:\n",
    "            print(\"no avatar found for\", author_id, username)\n",
    "            # can set to a default image here\n",
    "        else:\n",
    "            avatar = user_avatars[0]\n",
    "            # upload user image first\n",
    "            print(\"uploading image of user\", username)\n",
    "            # if this doesn't work check 1. auth token 2. role permissions\n",
    "            resp = strapi_upload_image(f\"{media_dir}{avatar['fields']['avatar']}\")\n",
    "            author_data[\"picture\"] = resp.json()[0][\"id\"]\n",
    "\n",
    "        print(\"creating author entry for\", username)\n",
    "        strapi_create_entry(endpoint=\"authors\", data=author_data)"
   ]
  },
  {
   "cell_type": "code",
   "execution_count": 6,
   "metadata": {},
   "outputs": [],
   "source": [
    "def set_default_author_images():\n",
    "    # set default image for people without images\n",
    "    default_author_image = strapi_get_entries(\"upload/files\", [(\"name\", \"youth.jpg\")])[\n",
    "        0\n",
    "    ]\n",
    "    authors = [a for a in strapi_get_entries(\"authors\") if a[\"picture\"] is None]\n",
    "    authors\n",
    "    for author in authors:\n",
    "        author[\"picture\"] = default_author_image[\"id\"]\n",
    "        r = strapi_update_entry(\"authors\", author[\"id\"], author)\n",
    "        assert r.status_code == 200\n",
    "        print(\".\", end=\"\")\n",
    "    print(\"Done.\")"
   ]
  },
  {
   "cell_type": "markdown",
   "metadata": {},
   "source": [
    "## Create Articles\n",
    "\n",
    "- upload article cover image\n",
    "- markdownify the body\n",
    "- prepare article data\n",
    "  - set author using legacy_id relation"
   ]
  },
  {
   "cell_type": "code",
   "execution_count": 7,
   "metadata": {},
   "outputs": [],
   "source": [
    "def create_articles():\n",
    "    for article_data in articles:\n",
    "        # check if it's already created, then skip over it\n",
    "        r = strapi_get_entries(\"posts\", {\"legacy_id\": article_data[\"pk\"]}.items())\n",
    "        if r:\n",
    "            print(\"s\", end=\"\")\n",
    "            continue\n",
    "\n",
    "        # begin create post\n",
    "        article = article_data[\"fields\"]\n",
    "\n",
    "        # get author\n",
    "        #         print('Get author by legacy_id', article['author'])\n",
    "        author = strapi_get_entries(\"authors\", [(\"legacy_id\", article[\"author\"])])[0]\n",
    "\n",
    "        # get categories\n",
    "        #         print('Get categories by legacy_id', article['category'])\n",
    "        cat_filter = [(\"legacy_id_in\", cat_id) for cat_id in article[\"category\"]]\n",
    "        categories = strapi_get_entries(\"categories\", cat_filter)\n",
    "        cat_ids = [cat[\"id\"] for cat in categories]\n",
    "\n",
    "        # create cover image\n",
    "        #         print('Create article cover image', article['image'])\n",
    "        resp = strapi_upload_image(f\"{media_dir}{article['image']}\")\n",
    "        # from IPython.core.debugger import Pdb; Pdb().set_trace()\n",
    "        assert resp.status_code == 200\n",
    "\n",
    "        cover_image_id = resp.json()[0][\"id\"]\n",
    "\n",
    "        entry_data = {\n",
    "            \"title\": article[\"title\"],\n",
    "            \"slug\": slugify(str(article_data[\"pk\"]) + article[\"title\"]),\n",
    "            \"excerpt\": article[\"summary\"],\n",
    "            \"status\": \"published\",  # publish everything\n",
    "            \"content\": markdownify(article[\"body\"]),\n",
    "            \"date\": article[\"created_date\"][:10],  # lazy date formatting\n",
    "            \"author\": author[\"id\"],\n",
    "            \"coverImage\": cover_image_id,\n",
    "            \"categories\": cat_ids,\n",
    "            \"legacy_id\": article_data[\"pk\"],\n",
    "        }\n",
    "        #         print('Create post entry with title', article['title'])\n",
    "        resp = strapi_create_entry(endpoint=\"posts\", data=entry_data)\n",
    "        #         print(resp)\n",
    "        #         from IPython.core.debugger import Pdb; Pdb().set_trace()\n",
    "        print(\".\", end=\"\")\n",
    "        assert resp.status_code == 200\n",
    "        if resp.status_code != 200:\n",
    "            return\n",
    "    print(\"\\nDone.\")"
   ]
  },
  {
   "cell_type": "code",
   "execution_count": 13,
   "metadata": {},
   "outputs": [
    {
     "name": "stdout",
     "output_type": "stream",
     "text": [
      "..........................................................................................................................................................................................................................Done.\n"
     ]
    }
   ],
   "source": [
    "def set_published_status():\n",
    "    # forgot to set correct published status\n",
    "    for article_data in articles:\n",
    "        is_published = article_data[\"fields\"][\"published\"]\n",
    "        # strapi post status\n",
    "        status = \"published\" if is_published else \"draft\"\n",
    "        legacy_id = article_data[\"pk\"]\n",
    "        post = strapi_get_entries(\"posts\", [(\"legacy_id\", legacy_id)])[0]\n",
    "        r = strapi_update_entry(\n",
    "            \"posts\", post[\"id\"], {\"status\": status}, headers=headers\n",
    "        )\n",
    "        assert r.status_code == 200\n",
    "        print(\".\", end=\"\")\n",
    "    print(\"Done.\")\n",
    "\n",
    "\n",
    "set_published_status()"
   ]
  },
  {
   "cell_type": "code",
   "execution_count": 16,
   "metadata": {},
   "outputs": [],
   "source": [
    "strapi_published_count = len(\n",
    "    strapi_get_entries(\"posts\", [(\"status\", \"published\"), (\"_limit\", 1000)])\n",
    ")\n",
    "dump_published_count = len([a for a in articles if a[\"fields\"][\"published\"]])\n",
    "assert strapi_published_count == dump_published_count"
   ]
  },
  {
   "cell_type": "markdown",
   "metadata": {},
   "source": [
    "## Add Movies and related types\n",
    "\n",
    "First, add the related contents:\n",
    "- Countries\n",
    "- Languages\n",
    "- Categories\n",
    "\n",
    "### Add Countries"
   ]
  },
  {
   "cell_type": "code",
   "execution_count": 10,
   "metadata": {},
   "outputs": [],
   "source": [
    "def load_legacy_data(filename):\n",
    "    with open(f\"{project_dir}dumped-json-data/{filename}.json\") as f:\n",
    "        return json.load(f)\n",
    "\n",
    "\n",
    "def add_countries():\n",
    "    countries = load_legacy_data(\"countries\")\n",
    "    for country in countries:\n",
    "        data = {\n",
    "            \"name\": country[\"fields\"][\"name\"],\n",
    "            \"code\": country[\"fields\"][\"iso_3166_1\"] or country[\"pk\"],\n",
    "            \"legacy_id\": country[\"pk\"],\n",
    "        }\n",
    "        r = strapi_create_entry(\"countries\", data, headers=headers)\n",
    "        assert r.status_code == 200\n",
    "        print(\".\", end=\"\")\n",
    "    print(\"Done.\")"
   ]
  },
  {
   "cell_type": "markdown",
   "metadata": {},
   "source": [
    "### Add Languages"
   ]
  },
  {
   "cell_type": "code",
   "execution_count": 22,
   "metadata": {},
   "outputs": [
    {
     "name": "stdout",
     "output_type": "stream",
     "text": [
      "..........................................................................................................................................................................................Done.\n"
     ]
    }
   ],
   "source": [
    "def add_languages():\n",
    "    languages = load_legacy_data(\"languages\")\n",
    "    for lang in languages:\n",
    "        data = {\n",
    "            \"name\": lang[\"fields\"][\"name\"],\n",
    "            \"code\": lang[\"fields\"][\"iso_639_1\"] or lang[\"pk\"],\n",
    "            \"legacy_id\": lang[\"pk\"],\n",
    "        }\n",
    "        r = strapi_create_entry(\"languages\", data, headers=headers)\n",
    "        assert r.status_code == 200\n",
    "        print(\".\", end=\"\")\n",
    "    print(\"Done.\")\n",
    "\n",
    "\n",
    "add_languages()"
   ]
  },
  {
   "cell_type": "markdown",
   "metadata": {},
   "source": [
    "### Add Movie Categories"
   ]
  },
  {
   "cell_type": "code",
   "execution_count": 25,
   "metadata": {},
   "outputs": [
    {
     "name": "stdout",
     "output_type": "stream",
     "text": [
      "..........................................Done.\n"
     ]
    }
   ],
   "source": [
    "def add_movie_categories():\n",
    "    cats = load_legacy_data(\"categories\")\n",
    "    for cat in cats:\n",
    "        data = {\"name\": cat[\"fields\"][\"name\"], \"legacy_id\": cat[\"pk\"]}\n",
    "        r = strapi_create_entry(\"movie-categories\", data, headers=headers)\n",
    "        assert r.status_code == 200\n",
    "        print(\".\", end=\"\")\n",
    "    print(\"Done.\")\n",
    "\n",
    "\n",
    "add_movie_categories()"
   ]
  },
  {
   "cell_type": "markdown",
   "metadata": {},
   "source": [
    "### Add Movies"
   ]
  },
  {
   "cell_type": "code",
   "execution_count": 3,
   "metadata": {},
   "outputs": [],
   "source": [
    "def create_legacy_id_mapping(collection):\n",
    "    \"\"\"create { legacy_id: id } mapping for lookup\"\"\"\n",
    "    return {int(item[\"legacy_id\"]): int(item[\"id\"]) for item in collection}\n",
    "\n",
    "\n",
    "# get related data\n",
    "# cats = create_legacy_id_mapping(strapi_get_entries('movie-categories', [('_limit', 1000)]))\n",
    "# langs = create_legacy_id_mapping(strapi_get_entries('languages', [('_limit', 1000)]))\n",
    "# countries = create_legacy_id_mapping(strapi_get_entries('countries', [('_limit', 1000)]))\n",
    "# movies = load_legacy_data('movies')\n",
    "\n",
    "\n",
    "def create_movies(movies):\n",
    "    for movie in movies:\n",
    "        # skipping already inserted movies\n",
    "        #         if movie['pk'] <= 4138:\n",
    "        #             continue\n",
    "        m = movie[\"fields\"]\n",
    "\n",
    "        # upload image\n",
    "        image_id = None\n",
    "        if m[\"image\"]:\n",
    "            # THE STRAPI UPLOAD HAS PROBLEM WITH LARGISH FILES (~10MB)\n",
    "            # CONSIDER RESIZING BIGGER IMAGES IF YOU HAVE PROBLEM WITH UPLOADS TIMING OUT\n",
    "            r = strapi_upload_image(f\"{media_dir}{m['image']}\", headers=headers)\n",
    "            assert r.status_code == 200\n",
    "            image_id = r.json()[0][\"id\"]\n",
    "        # prepare data\n",
    "\n",
    "        data = {\n",
    "            \"title\": m[\"name\"],\n",
    "            \"title_mongolian\": m[\"name_mongolian\"],\n",
    "            \"title_original\": m[\"name_original\"],\n",
    "            \"slug\": slugify(m[\"name\"] + \"-\" + str(movie[\"pk\"])),\n",
    "            \"year\": m[\"year\"] or 0,\n",
    "            \"synopsis\": m[\"synopsis\"],\n",
    "            \"silent\": m[\"silent\"],\n",
    "            \"length_min\": m[\"length\"] or 0,\n",
    "            \"trailer_url\": m[\"trailer\"],\n",
    "            \"imdb_url\": m[\"imdb_url\"],\n",
    "            \"legacy_id\": movie[\"pk\"],\n",
    "            \"languages\": [langs[_id] for _id in m[\"languages\"]],\n",
    "            \"countries\": [countries[_id] for _id in m[\"country\"]],\n",
    "            \"categories\": [cats[_id] for _id in m[\"category\"]],\n",
    "        }\n",
    "        if image_id:\n",
    "            data[\"image\"] = image_id\n",
    "        r = strapi_create_entry(\"movies\", data, headers=headers)\n",
    "        if r.status_code != 200:\n",
    "            print(r.content)\n",
    "        assert r.status_code == 200\n",
    "        print(\".\", end=\"\")\n",
    "    print(\"Done.\")"
   ]
  },
  {
   "cell_type": "markdown",
   "metadata": {},
   "source": [
    "### Add Movie Crew & Casts"
   ]
  },
  {
   "cell_type": "code",
   "execution_count": 11,
   "metadata": {},
   "outputs": [],
   "source": [
    "persons = load_legacy_data(\"persons\")\n",
    "movie_teams = load_legacy_data(\"casts\")\n",
    "roles = load_legacy_data(\"castcategories\")\n",
    "\n",
    "\n",
    "def add_persons():\n",
    "    for person in persons:\n",
    "        # skipping already inserted movies\n",
    "        if person[\"pk\"] <= 4286:\n",
    "            continue\n",
    "        m = person[\"fields\"]\n",
    "\n",
    "        # upload image\n",
    "        image_id = None\n",
    "        if m[\"image\"]:\n",
    "            # THE STRAPI UPLOAD HAS PROBLEM WITH LARGISH FILES (~10MB)\n",
    "            # CONSIDER RESIZING BIGGER IMAGES IF YOU HAVE PROBLEM WITH UPLOADS TIMING OUT\n",
    "            r = strapi_upload_image(f\"{media_dir}{m['image']}\", headers=headers)\n",
    "            assert r.status_code == 200\n",
    "            image_id = r.json()[0][\"id\"]\n",
    "        # prepare data\n",
    "\n",
    "        data = {\n",
    "            \"name\": m[\"name\"],\n",
    "            \"name_mongolian\": m[\"name_mongolian\"],\n",
    "            \"bio\": m[\"bio\"] or \"\",\n",
    "            \"birth_year\": m[\"birth_year\"] or \"\",\n",
    "            \"death_year\": m[\"death_year\"] or \"\",\n",
    "            \"quote\": m[\"quote\"] or \"\",\n",
    "            \"legacy_id\": person[\"pk\"],\n",
    "        }\n",
    "        if image_id:\n",
    "            data[\"image\"] = image_id\n",
    "        r = strapi_create_entry(\"people\", data, headers=headers)\n",
    "        if r.status_code != 200:\n",
    "            print(r.content)\n",
    "        assert r.status_code == 200\n",
    "        print(\".\", end=\"\")\n",
    "    print(\"Done.\")\n",
    "\n",
    "\n",
    "def add_roles():\n",
    "    for role in roles:\n",
    "        data = {\n",
    "            \"name\": role[\"fields\"][\"name\"],\n",
    "            \"slug\": role[\"fields\"][\"slug\"],\n",
    "            \"weight\": role[\"fields\"][\"weight\"],\n",
    "            \"legacy_id\": role[\"pk\"],\n",
    "        }\n",
    "        r = strapi_create_entry(\"role-categories\", data, headers=headers)\n",
    "        if r.status_code != 200:\n",
    "            print(r.content)\n",
    "        assert r.status_code == 200\n",
    "    print(\"Done.\")"
   ]
  },
  {
   "cell_type": "code",
   "execution_count": 24,
   "metadata": {},
   "outputs": [],
   "source": [
    "# we need to make a mapping of legacy_id: id for all cast relation objects\n",
    "# don't want to get all the details, so let's use graphql here\n",
    "\n",
    "#!pip install graphqlclient\n",
    "from graphqlclient import GraphQLClient\n",
    "\n",
    "client = GraphQLClient(f\"{strapi_address}graphql\")\n",
    "client.inject_token(f\"Bearer {jwt_token}\")\n",
    "\n",
    "# the limit will work after increasing Strapi GraphQL plugin amountLimit\n",
    "variables = {\"limit\": 10000}\n",
    "result = client.execute(\n",
    "    \"\"\"\n",
    "query getDataForCasts($limit: Int) {\n",
    "  movies (limit: $limit) {\n",
    "    id\n",
    "    legacy_id\n",
    "  }\n",
    "  \n",
    "  people (limit: $limit) {\n",
    "    id\n",
    "    legacy_id\n",
    "  }\n",
    "  \n",
    "  roleCategories (limit: $limit) {\n",
    "    id\n",
    "    legacy_id\n",
    "  }\n",
    "}\n",
    "\"\"\",\n",
    "    variables,\n",
    ")\n",
    "result = json.loads(result)\n",
    "\n",
    "movies_map = create_legacy_id_mapping(result[\"data\"][\"movies\"])\n",
    "people_map = create_legacy_id_mapping(result[\"data\"][\"people\"])\n",
    "role_categories_map = create_legacy_id_mapping(result[\"data\"][\"roleCategories\"])"
   ]
  },
  {
   "cell_type": "code",
   "execution_count": 26,
   "metadata": {},
   "outputs": [
    {
     "name": "stderr",
     "output_type": "stream",
     "text": [
      "100%|██████████| 20122/20122 [1:08:51<00:00,  4.87it/s]\n"
     ]
    }
   ],
   "source": [
    "from tqdm import tqdm\n",
    "\n",
    "\n",
    "def add_movie_crew_and_casts():\n",
    "    for role in tqdm(movie_teams):\n",
    "        data = {\n",
    "            \"movie\": movies_map[role[\"fields\"][\"film\"]],\n",
    "            \"role_category\": roleCategories_map[role[\"fields\"][\"cast\"]],\n",
    "            \"person\": people_map[role[\"fields\"][\"artist\"]],\n",
    "        }\n",
    "        r = strapi_create_entry(\"movie-crew-and-casts\", data, headers=headers)\n",
    "        assert r.status_code == 200\n",
    "\n",
    "\n",
    "add_movie_crew_and_casts()"
   ]
  },
  {
   "cell_type": "code",
   "execution_count": null,
   "metadata": {},
   "outputs": [],
   "source": []
  }
 ],
 "metadata": {
  "kernelspec": {
   "display_name": "Python 3",
   "language": "python",
   "name": "python3"
  },
  "language_info": {
   "codemirror_mode": {
    "name": "ipython",
    "version": 3
   },
   "file_extension": ".py",
   "mimetype": "text/x-python",
   "name": "python",
   "nbconvert_exporter": "python",
   "pygments_lexer": "ipython3",
   "version": "3.8.6"
  }
 },
 "nbformat": 4,
 "nbformat_minor": 4
}

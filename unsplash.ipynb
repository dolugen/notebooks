{
 "cells": [
  {
   "cell_type": "markdown",
   "metadata": {},
   "source": [
    "# Unsplash API"
   ]
  },
  {
   "cell_type": "code",
   "execution_count": null,
   "metadata": {},
   "outputs": [],
   "source": [
    "import os\n",
    "import urllib.request\n",
    "import urllib.parse\n",
    "from urllib.error import HTTPError\n",
    "\n",
    "from dotenv import load_dotenv\n",
    "load_dotenv()\n",
    "\n",
    "UNSPLASH_API = \"https://api.unsplash.com\"\n",
    "UNSPLASH_ACCESS_KEY = os.getenv(\"UNSPLASH_CLIENT_ID\", \"\")\n",
    "\n",
    "def unsplash_random_image(keyword, client_id=UNSPLASH_ACCESS_KEY):\n",
    "    query_params = urllib.parse.urlencode({\"query\": keyword})\n",
    "    random_photo_url = f\"{UNSPLASH_API}/photos/random?{query_params}\"\n",
    "    request = urllib.request.Request(random_photo_url, headers={\"Authorization\": f\"Client-ID {client_id}\"})\n",
    "    try:\n",
    "        with urllib.request.urlopen(request) as f:\n",
    "            response =  f.read().decode('utf-8')\n",
    "            result = json.loads(response)\n",
    "            return result\n",
    "    except HTTPError as err:\n",
    "        print(err)"
   ]
  },
  {
   "cell_type": "code",
   "execution_count": null,
   "metadata": {},
   "outputs": [],
   "source": [
    "import json\n",
    "from IPython.display import Image\n",
    "\n",
    "result = unsplash_random_image(\"ramen bowl\")\n",
    "url = result['urls']['regular']\n",
    "print(result['alt_description'])\n",
    "Image(url=url)"
   ]
  },
  {
   "cell_type": "code",
   "execution_count": null,
   "metadata": {},
   "outputs": [],
   "source": [
    "result"
   ]
  },
  {
   "cell_type": "code",
   "execution_count": null,
   "metadata": {},
   "outputs": [],
   "source": []
  }
 ],
 "metadata": {
  "kernelspec": {
   "display_name": "Python 3",
   "language": "python",
   "name": "python3"
  },
  "language_info": {
   "codemirror_mode": {
    "name": "ipython",
    "version": 3
   },
   "file_extension": ".py",
   "mimetype": "text/x-python",
   "name": "python",
   "nbconvert_exporter": "python",
   "pygments_lexer": "ipython3",
   "version": "3.9.4"
  }
 },
 "nbformat": 4,
 "nbformat_minor": 4
}

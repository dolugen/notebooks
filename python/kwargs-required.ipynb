{
 "cells": [
  {
   "cell_type": "code",
   "execution_count": 5,
   "metadata": {},
   "outputs": [],
   "source": [
    "def function_with_confusing_parameters(foo, bar, baz):\n",
    "    pass\n",
    "\n",
    "function_with_confusing_parameters(1, 2, False)\n",
    "\n",
    "\n",
    "# Add a * parameter so that everything afterwards are mandatory keyword arguments\n",
    "\n",
    "# make parameters keyword only so that the caller doesn't get confused\n",
    "def function_with_keyword_arguments(*, foo, bar, baz):\n",
    "    pass\n",
    "\n",
    "function_with_keyword_arguments(foo=1, bar=2, baz=True)\n",
    "\n",
    "# this will error:\n",
    "# function_with_keyword_arguments(1, 1, True)\n",
    "# the error is:\n",
    "# TypeError: function_with_keyword_arguments() takes 0 positional arguments but 3 were given\n",
    "\n",
    "# you can mix positional and mandatory keyword arguments\n",
    "def func(alpha, *, beta):\n",
    "    pass\n",
    "\n",
    "func(1, beta=2)"
   ]
  },
  {
   "cell_type": "code",
   "execution_count": null,
   "metadata": {},
   "outputs": [],
   "source": []
  }
 ],
 "metadata": {
  "kernelspec": {
   "display_name": "Python 3",
   "language": "python",
   "name": "python3"
  },
  "language_info": {
   "codemirror_mode": {
    "name": "ipython",
    "version": 3
   },
   "file_extension": ".py",
   "mimetype": "text/x-python",
   "name": "python",
   "nbconvert_exporter": "python",
   "pygments_lexer": "ipython3",
   "version": "3.9.0"
  }
 },
 "nbformat": 4,
 "nbformat_minor": 4
}

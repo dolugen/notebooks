{
 "cells": [
  {
   "cell_type": "markdown",
   "metadata": {},
   "source": [
    "# US mobile air quality stations"
   ]
  },
  {
   "cell_type": "markdown",
   "metadata": {},
   "source": [
    "OpenAQ API currently doesn't support filtering by mobile stations. Here's a quick way to see which ones are mobile. \n",
    "\n",
    "A mobile station's name stays the same as it moves around, but its coordinates change. A station's change in coordinates is treated as relocation. So technically it will be seen as a new station."
   ]
  },
  {
   "cell_type": "markdown",
   "metadata": {},
   "source": [
    "If you want to run these yourself, make sure you install necessary tools with `pipenv install` before starting the notebook."
   ]
  },
  {
   "cell_type": "code",
   "execution_count": 4,
   "metadata": {},
   "outputs": [],
   "source": [
    "import httpx\n",
    "import itertools\n",
    "from IPython.display import GeoJSON\n",
    "import geojson"
   ]
  },
  {
   "cell_type": "code",
   "execution_count": 5,
   "metadata": {},
   "outputs": [],
   "source": [
    "OPENAQADDR = \"https://api.openaq.org/v1/locations\""
   ]
  },
  {
   "cell_type": "code",
   "execution_count": 6,
   "metadata": {},
   "outputs": [],
   "source": [
    "response = httpx.get(OPENAQADDR, params={'country': 'US', 'limit': 10000})"
   ]
  },
  {
   "cell_type": "code",
   "execution_count": 7,
   "metadata": {},
   "outputs": [],
   "source": [
    "stations = response.json()['results']"
   ]
  },
  {
   "cell_type": "markdown",
   "metadata": {},
   "source": [
    "## Stations that changed their position more than 5 times"
   ]
  },
  {
   "cell_type": "code",
   "execution_count": 20,
   "metadata": {},
   "outputs": [
    {
     "name": "stdout",
     "output_type": "stream",
     "text": [
      "MMCA81033 205\n",
      "GBUAPCD EBAM @ Lee V 126\n",
      "GBUAPCD EBAM @ June 122\n",
      "MMCA81010 120\n",
      "MMFRA1001 115\n",
      "Cle Elum_Mobile 101\n",
      "MMCA81014 93\n",
      "GBUAPCD EBAM @ Bridg 93\n",
      "Unit153 92\n",
      "GBUAPCD EBAM @ Alpin 85\n",
      "GBUAPCD EBAM @ Bento 67\n",
      "Plain_Mobile 65\n",
      "GBUAPCD EBAM @ Crowl 62\n",
      "MMCA81006 57\n",
      "MMCA81036 54\n",
      "MMCA81042 52\n",
      "GBUAPCD EBAM @ Lone 50\n",
      "Unit1019 46\n",
      "Unit1029 45\n",
      "MMCA81023 44\n",
      "Unit0216 42\n",
      "MMCA81015 38\n",
      "Mobile_Newport 37\n",
      "Unit0269 37\n",
      "Leavenworth_Mobile 35\n",
      "GBUAPCD EBAM @ Woodf 35\n",
      "MMCA81030 33\n",
      "Mobile_WhiteSalmon 32\n",
      "MMCA81024 32\n",
      "MMCA81051 32\n",
      "MMCA81012 31\n",
      "MMCA81032 29\n",
      "Santa Rosa Fire Stat 28\n",
      "MMNPS1017 28\n",
      "Mobile_Cle Elum 25\n",
      "MMCA81044 25\n",
      "Vichy Elementary Sch 25\n",
      "Mobile-Goldendale 24\n",
      "Rincon Valley School 23\n",
      "Unit386 22\n",
      "MMCA81027 21\n",
      "MMNPS1027 21\n",
      "Hidden Valley School 20\n",
      "GBUAPCD EBAM @ Coso 19\n",
      "MMCA81016 18\n",
      "MMCA81011 18\n",
      "MMCA81008 17\n",
      "MMCA81026 17\n",
      "Unit1027 17\n",
      "Unit328 16\n",
      "Newport_Mobile 15\n",
      "MMCA81009 15\n",
      "MMCA81017 15\n",
      "MMCA81039 15\n",
      "MMCA81046 15\n",
      "GBUAPCD EBAM 1 15\n",
      "Brewster_Mobile 14\n",
      "MMCA81001 11\n",
      "GBUAPCD EBAM @ Bisho 10\n",
      "MMCA81038 7\n",
      "1001 6\n",
      "1008 6\n"
     ]
    }
   ],
   "source": [
    "groupby_location = lambda station: station['location']\n",
    "\n",
    "groups = [(group_name, list(group)) for (group_name, group) in itertools.groupby(stations, key=groupby_location)]\n",
    "groups = sorted(groups, key=lambda g: len(g[1]), reverse=True)\n",
    "groups = list(filter(lambda g: len(g[1]) > 5, groups))\n",
    "\n",
    "for group_name, group in groups:\n",
    "    print(group_name, len(group))\n",
    "    \n"
   ]
  },
  {
   "cell_type": "markdown",
   "metadata": {},
   "source": [
    "## Last known positions of these mobile stations\n",
    "\n",
    "[See the result GeoJSON file: `us-mobile-stations.geojson`](us-mobile-stations.geojson)\n",
    "\n",
    "Also would be cool to visualize the path they took."
   ]
  },
  {
   "cell_type": "code",
   "execution_count": 47,
   "metadata": {},
   "outputs": [
    {
     "data": {
      "application/geo+json": {
       "features": [
        {
         "geometry": {
          "coordinates": [
           -121.5072,
           38.5608
          ],
          "type": "Point"
         },
         "properties": {
          "city": "CA8 - ARB",
          "coordinates": {
           "latitude": 38.5608,
           "longitude": -121.5072
          },
          "count": 16,
          "country": "US",
          "countsByMeasurement": [
           {
            "count": 16,
            "parameter": "pm25"
           }
          ],
          "firstUpdated": "2020-06-17T08:00:00.000Z",
          "id": "US-4675",
          "lastUpdated": "2020-06-18T07:00:00.000Z",
          "location": "MMCA81033",
          "parameters": [
           "pm25"
          ],
          "sourceName": "AirNow",
          "sourceType": "government"
         },
         "type": "Feature"
        },
        {
         "geometry": {
          "coordinates": [
           -119.12093,
           37.95691
          ],
          "type": "Point"
         },
         "properties": {
          "city": "GBU",
          "coordinates": {
           "latitude": 37.95691,
           "longitude": -119.12093
          },
          "count": 47,
          "country": "US",
          "countsByMeasurement": [
           {
            "count": 47,
            "parameter": "pm25"
           }
          ],
          "firstUpdated": "2016-08-10T07:00:00.000Z",
          "id": "US-1812",
          "lastUpdated": "2017-11-21T22:00:00.000Z",
          "location": "GBUAPCD EBAM @ Lee V",
          "parameters": [
           "pm25"
          ],
          "sourceName": "AirNow",
          "sourceType": "government"
         },
         "type": "Feature"
        },
        {
         "geometry": {
          "coordinates": [
           -118.47583,
           37.81762
          ],
          "type": "Point"
         },
         "properties": {
          "city": "GBU",
          "coordinates": {
           "latitude": 37.81762,
           "longitude": -118.47583
          },
          "count": 11,
          "country": "US",
          "countsByMeasurement": [
           {
            "count": 11,
            "parameter": "pm25"
           }
          ],
          "firstUpdated": "2019-08-07T03:00:00.000Z",
          "id": "US-3519",
          "lastUpdated": "2019-08-07T13:00:00.000Z",
          "location": "GBUAPCD EBAM @ June",
          "parameters": [
           "pm25"
          ],
          "sourceName": "AirNow",
          "sourceType": "government"
         },
         "type": "Feature"
        },
        {
         "geometry": {
          "coordinates": [
           -122.54348,
           40.50525
          ],
          "type": "Point"
         },
         "properties": {
          "city": "CA8 - ARB",
          "coordinates": {
           "latitude": 40.50525,
           "longitude": -122.54348
          },
          "count": 16,
          "country": "US",
          "countsByMeasurement": [
           {
            "count": 16,
            "parameter": "pm25"
           }
          ],
          "firstUpdated": "2020-06-17T08:00:00.000Z",
          "id": "US-4674",
          "lastUpdated": "2020-06-18T07:00:00.000Z",
          "location": "MMCA81010",
          "parameters": [
           "pm25"
          ],
          "sourceName": "AirNow",
          "sourceType": "government"
         },
         "type": "Feature"
        },
        {
         "geometry": {
          "coordinates": [
           -121.14392,
           39.39642
          ],
          "type": "Point"
         },
         "properties": {
          "city": "FRA",
          "coordinates": {
           "latitude": 39.39642,
           "longitude": -121.14392
          },
          "count": 33,
          "country": "US",
          "countsByMeasurement": [
           {
            "count": 33,
            "parameter": "pm25"
           }
          ],
          "firstUpdated": "2020-08-26T19:00:00.000Z",
          "id": "US-4783",
          "lastUpdated": "2020-09-17T16:00:00.000Z",
          "location": "MMFRA1001",
          "parameters": [
           "pm25"
          ],
          "sourceName": "AirNow",
          "sourceType": "government"
         },
         "type": "Feature"
        },
        {
         "geometry": {
          "coordinates": [
           -120.81369,
           45.81583
          ],
          "type": "Point"
         },
         "properties": {
          "city": "037",
          "coordinates": {
           "latitude": 45.81583,
           "longitude": -120.81369
          },
          "count": 21,
          "country": "US",
          "countsByMeasurement": [
           {
            "count": 21,
            "parameter": "pm25"
           }
          ],
          "firstUpdated": "2020-09-19T20:00:00.000Z",
          "id": "US-4904",
          "lastUpdated": "2020-09-21T06:00:00.000Z",
          "location": "Cle Elum_Mobile",
          "parameters": [
           "pm25"
          ],
          "sourceName": "AirNow",
          "sourceType": "government"
         },
         "type": "Feature"
        },
        {
         "geometry": {
          "coordinates": [
           -120.54662,
           35.40792
          ],
          "type": "Point"
         },
         "properties": {
          "city": "CA8 - ARB",
          "coordinates": {
           "latitude": 35.40792,
           "longitude": -120.54662
          },
          "count": 4,
          "country": "US",
          "countsByMeasurement": [
           {
            "count": 4,
            "parameter": "pm25"
           }
          ],
          "firstUpdated": "2020-03-18T14:00:00.000Z",
          "id": "US-4543",
          "lastUpdated": "2020-03-19T13:00:00.000Z",
          "location": "MMCA81014",
          "parameters": [
           "pm25"
          ],
          "sourceName": "AirNow",
          "sourceType": "government"
         },
         "type": "Feature"
        },
        {
         "geometry": {
          "coordinates": [
           -119.21848,
           38.25766
          ],
          "type": "Point"
         },
         "properties": {
          "city": "GBU",
          "coordinates": {
           "latitude": 38.25766,
           "longitude": -119.21848
          },
          "count": 28,
          "country": "US",
          "countsByMeasurement": [
           {
            "count": 28,
            "parameter": "pm25"
           }
          ],
          "firstUpdated": "2018-08-23T10:00:00.000Z",
          "id": "US-2961",
          "lastUpdated": "2020-06-29T22:00:00.000Z",
          "location": "GBUAPCD EBAM @ Bridg",
          "parameters": [
           "pm25"
          ],
          "sourceName": "AirNow",
          "sourceType": "government"
         },
         "type": "Feature"
        },
        {
         "geometry": {
          "coordinates": [
           -114.09616,
           46.92683
          ],
          "type": "Point"
         },
         "properties": {
          "city": "FS1 - Forest Service",
          "coordinates": {
           "latitude": 46.92683,
           "longitude": -114.09616
          },
          "count": 21,
          "country": "US",
          "countsByMeasurement": [
           {
            "count": 21,
            "parameter": "pm25"
           }
          ],
          "firstUpdated": "2019-10-10T18:00:00.000Z",
          "id": "US-3638",
          "lastUpdated": "2019-10-11T14:00:00.000Z",
          "location": "Unit153",
          "parameters": [
           "pm25"
          ],
          "sourceName": "AirNow",
          "sourceType": "government"
         },
         "type": "Feature"
        },
        {
         "geometry": {
          "coordinates": [
           -119.07379,
           37.78446
          ],
          "type": "Point"
         },
         "properties": {
          "city": "GBU",
          "coordinates": {
           "latitude": 37.78446,
           "longitude": -119.07379
          },
          "count": 1,
          "country": "US",
          "countsByMeasurement": [
           {
            "count": 1,
            "parameter": "pm25"
           }
          ],
          "firstUpdated": "2018-07-02T18:00:00.000Z",
          "id": "US-2668",
          "lastUpdated": "2018-07-02T18:00:00.000Z",
          "location": "GBUAPCD EBAM @ Alpin",
          "parameters": [
           "pm25"
          ],
          "sourceName": "AirNow",
          "sourceType": "government"
         },
         "type": "Feature"
        },
        {
         "geometry": {
          "coordinates": [
           -118.47532,
           37.81726
          ],
          "type": "Point"
         },
         "properties": {
          "city": "GBU",
          "coordinates": {
           "latitude": 37.81726,
           "longitude": -118.47532
          },
          "count": 3,
          "country": "US",
          "countsByMeasurement": [
           {
            "count": 3,
            "parameter": "pm25"
           }
          ],
          "firstUpdated": "2020-07-30T07:00:00.000Z",
          "id": "US-4723",
          "lastUpdated": "2020-07-30T13:00:00.000Z",
          "location": "GBUAPCD EBAM @ Bento",
          "parameters": [
           "pm25"
          ],
          "sourceName": "AirNow",
          "sourceType": "government"
         },
         "type": "Feature"
        },
        {
         "geometry": {
          "coordinates": [
           -120.95821,
           47.19756
          ],
          "type": "Point"
         },
         "properties": {
          "city": "007",
          "coordinates": {
           "latitude": 47.19756,
           "longitude": -120.95821
          },
          "count": 12,
          "country": "US",
          "countsByMeasurement": [
           {
            "count": 12,
            "parameter": "pm25"
           }
          ],
          "firstUpdated": "2018-10-17T19:00:00.000Z",
          "id": "US-3164",
          "lastUpdated": "2020-09-17T20:00:00.000Z",
          "location": "Plain_Mobile",
          "parameters": [
           "pm25"
          ],
          "sourceName": "AirNow",
          "sourceType": "government"
         },
         "type": "Feature"
        },
        {
         "geometry": {
          "coordinates": [
           -118.74206,
           37.56678
          ],
          "type": "Point"
         },
         "properties": {
          "city": "GBU",
          "coordinates": {
           "latitude": 37.56678,
           "longitude": -118.74206
          },
          "count": 15,
          "country": "US",
          "countsByMeasurement": [
           {
            "count": 15,
            "parameter": "pm25"
           }
          ],
          "firstUpdated": "2020-08-25T18:00:00.000Z",
          "id": "US-4777",
          "lastUpdated": "2020-08-26T06:00:00.000Z",
          "location": "GBUAPCD EBAM @ Crowl",
          "parameters": [
           "pm25"
          ],
          "sourceName": "AirNow",
          "sourceType": "government"
         },
         "type": "Feature"
        },
        {
         "geometry": {
          "coordinates": [
           -120.59592,
           38.76577
          ],
          "type": "Point"
         },
         "properties": {
          "city": "CA8 - ARB",
          "coordinates": {
           "latitude": 38.76577,
           "longitude": -120.59592
          },
          "count": 40,
          "country": "US",
          "countsByMeasurement": [
           {
            "count": 40,
            "parameter": "pm25"
           }
          ],
          "firstUpdated": "2020-03-08T01:00:00.000Z",
          "id": "US-4520",
          "lastUpdated": "2020-03-09T17:00:00.000Z",
          "location": "MMCA81006",
          "parameters": [
           "pm25"
          ],
          "sourceName": "AirNow",
          "sourceType": "government"
         },
         "type": "Feature"
        },
        {
         "geometry": {
          "coordinates": [
           -122.62216,
           38.7531
          ],
          "type": "Point"
         },
         "properties": {
          "city": "CA8 - ARB",
          "coordinates": {
           "latitude": 38.7531,
           "longitude": -122.62216
          },
          "count": 28,
          "country": "US",
          "countsByMeasurement": [
           {
            "count": 28,
            "parameter": "pm25"
           }
          ],
          "firstUpdated": "2019-11-04T09:00:00.000Z",
          "id": "US-3718",
          "lastUpdated": "2019-12-05T17:00:00.000Z",
          "location": "MMCA81036",
          "parameters": [
           "pm25"
          ],
          "sourceName": "AirNow",
          "sourceType": "government"
         },
         "type": "Feature"
        },
        {
         "geometry": {
          "coordinates": [
           -122.80597,
           38.51072
          ],
          "type": "Point"
         },
         "properties": {
          "city": "CA8 - ARB",
          "coordinates": {
           "latitude": 38.51072,
           "longitude": -122.80597
          },
          "count": 34,
          "country": "US",
          "countsByMeasurement": [
           {
            "count": 34,
            "parameter": "pm25"
           }
          ],
          "firstUpdated": "2019-11-06T20:00:00.000Z",
          "id": "US-3738",
          "lastUpdated": "2019-12-04T18:00:00.000Z",
          "location": "MMCA81042",
          "parameters": [
           "pm25"
          ],
          "sourceName": "AirNow",
          "sourceType": "government"
         },
         "type": "Feature"
        },
        {
         "geometry": {
          "coordinates": [
           -118.05786,
           36.60894
          ],
          "type": "Point"
         },
         "properties": {
          "city": "GBU",
          "coordinates": {
           "latitude": 36.60894,
           "longitude": -118.05786
          },
          "count": 31,
          "country": "US",
          "countsByMeasurement": [
           {
            "count": 31,
            "parameter": "pm25"
           }
          ],
          "firstUpdated": "2020-10-04T19:00:00.000Z",
          "id": "US-4946",
          "lastUpdated": "2020-10-05T05:00:00.000Z",
          "location": "GBUAPCD EBAM @ Lone",
          "parameters": [
           "pm25"
          ],
          "sourceName": "AirNow",
          "sourceType": "government"
         },
         "type": "Feature"
        },
        {
         "geometry": {
          "coordinates": [
           -118.61713,
           36.13838
          ],
          "type": "Point"
         },
         "properties": {
          "city": "FS1 - Forest Service",
          "coordinates": {
           "latitude": 36.13838,
           "longitude": -118.61713
          },
          "count": 2,
          "country": "US",
          "countsByMeasurement": [
           {
            "count": 2,
            "parameter": "pm25"
           }
          ],
          "firstUpdated": "2017-11-20T18:00:00.000Z",
          "id": "US-2484",
          "lastUpdated": "2017-11-20T20:00:00.000Z",
          "location": "Unit1019",
          "parameters": [
           "pm25"
          ],
          "sourceName": "AirNow",
          "sourceType": "government"
         },
         "type": "Feature"
        },
        {
         "geometry": {
          "coordinates": [
           -122.52161,
           41.72858
          ],
          "type": "Point"
         },
         "properties": {
          "city": "FS1 - Forest Service",
          "coordinates": {
           "latitude": 41.72858,
           "longitude": -122.52161
          },
          "count": 4,
          "country": "US",
          "countsByMeasurement": [
           {
            "count": 4,
            "parameter": "pm25"
           }
          ],
          "firstUpdated": "2019-12-12T17:00:00.000Z",
          "id": "US-4187",
          "lastUpdated": "2019-12-12T21:00:00.000Z",
          "location": "Unit1029",
          "parameters": [
           "pm25"
          ],
          "sourceName": "AirNow",
          "sourceType": "government"
         },
         "type": "Feature"
        },
        {
         "geometry": {
          "coordinates": [
           -116.83379,
           34.25204
          ],
          "type": "Point"
         },
         "properties": {
          "city": "CA8 - ARB",
          "coordinates": {
           "latitude": 34.25204,
           "longitude": -116.83379
          },
          "count": 16,
          "country": "US",
          "countsByMeasurement": [
           {
            "count": 16,
            "parameter": "pm25"
           }
          ],
          "firstUpdated": "2020-03-09T01:00:00.000Z",
          "id": "US-4528",
          "lastUpdated": "2020-03-09T17:00:00.000Z",
          "location": "MMCA81023",
          "parameters": [
           "pm25"
          ],
          "sourceName": "AirNow",
          "sourceType": "government"
         },
         "type": "Feature"
        },
        {
         "geometry": {
          "coordinates": [
           -110.62902,
           32.60134
          ],
          "type": "Point"
         },
         "properties": {
          "city": "FS1 - Forest Service",
          "coordinates": {
           "latitude": 32.60134,
           "longitude": -110.62902
          },
          "count": 3,
          "country": "US",
          "countsByMeasurement": [
           {
            "count": 3,
            "parameter": "pm25"
           }
          ],
          "firstUpdated": "2020-06-18T04:00:00.000Z",
          "id": "US-4676",
          "lastUpdated": "2020-06-18T07:00:00.000Z",
          "location": "Unit0216",
          "parameters": [
           "pm25"
          ],
          "sourceName": "AirNow",
          "sourceType": "government"
         },
         "type": "Feature"
        },
        {
         "geometry": {
          "coordinates": [
           -122.86886,
           38.61096
          ],
          "type": "Point"
         },
         "properties": {
          "city": "SACRAMENTO",
          "coordinates": {
           "latitude": 38.61096,
           "longitude": -122.86886
          },
          "count": 18,
          "country": "US",
          "countsByMeasurement": [
           {
            "count": 18,
            "parameter": "pm25"
           }
          ],
          "firstUpdated": "2019-12-06T20:00:00.000Z",
          "id": "US-4137",
          "lastUpdated": "2019-12-12T20:00:00.000Z",
          "location": "MMCA81015",
          "parameters": [
           "pm25"
          ],
          "sourceName": "AirNow",
          "sourceType": "government"
         },
         "type": "Feature"
        },
        {
         "geometry": {
          "coordinates": [
           -117.04905,
           48.18647
          ],
          "type": "Point"
         },
         "properties": {
          "city": "051",
          "coordinates": {
           "latitude": 48.18647,
           "longitude": -117.04905
          },
          "count": 11,
          "country": "US",
          "countsByMeasurement": [
           {
            "count": 11,
            "parameter": "pm25"
           }
          ],
          "firstUpdated": "2018-08-09T06:00:00.000Z",
          "id": "US-2819",
          "lastUpdated": "2018-08-09T18:00:00.000Z",
          "location": "Mobile_Newport",
          "parameters": [
           "pm25"
          ],
          "sourceName": "AirNow",
          "sourceType": "government"
         },
         "type": "Feature"
        },
        {
         "geometry": {
          "coordinates": [
           -105.35306,
           38.97928
          ],
          "type": "Point"
         },
         "properties": {
          "city": "FS1 - Forest Service",
          "coordinates": {
           "latitude": 38.97928,
           "longitude": -105.35306
          },
          "count": 4,
          "country": "US",
          "countsByMeasurement": [
           {
            "count": 4,
            "parameter": "pm25"
           }
          ],
          "firstUpdated": "2019-12-23T08:00:00.000Z",
          "id": "US-4200",
          "lastUpdated": "2019-12-23T11:00:00.000Z",
          "location": "Unit0269",
          "parameters": [
           "pm25"
          ],
          "sourceName": "AirNow",
          "sourceType": "government"
         },
         "type": "Feature"
        },
        {
         "geometry": {
          "coordinates": [
           -120.67267,
           47.55857
          ],
          "type": "Point"
         },
         "properties": {
          "city": "007",
          "coordinates": {
           "latitude": 47.55857,
           "longitude": -120.67267
          },
          "count": 1,
          "country": "US",
          "countsByMeasurement": [
           {
            "count": 1,
            "parameter": "pm25"
           }
          ],
          "firstUpdated": "2018-11-09T19:00:00.000Z",
          "id": "US-3236",
          "lastUpdated": "2018-11-09T19:00:00.000Z",
          "location": "Leavenworth_Mobile",
          "parameters": [
           "pm25"
          ],
          "sourceName": "AirNow",
          "sourceType": "government"
         },
         "type": "Feature"
        },
        {
         "geometry": {
          "coordinates": [
           -119.80745,
           38.76566
          ],
          "type": "Point"
         },
         "properties": {
          "city": "GBU",
          "coordinates": {
           "latitude": 38.76566,
           "longitude": -119.80745
          },
          "count": 63,
          "country": "US",
          "countsByMeasurement": [
           {
            "count": 63,
            "parameter": "pm25"
           }
          ],
          "firstUpdated": "2020-09-14T06:00:00.000Z",
          "id": "US-4881",
          "lastUpdated": "2020-10-11T13:00:00.000Z",
          "location": "GBUAPCD EBAM @ Woodf",
          "parameters": [
           "pm25"
          ],
          "sourceName": "AirNow",
          "sourceType": "government"
         },
         "type": "Feature"
        },
        {
         "geometry": {
          "coordinates": [
           -121.5089,
           38.56128
          ],
          "type": "Point"
         },
         "properties": {
          "city": "CA8 - ARB",
          "coordinates": {
           "latitude": 38.56128,
           "longitude": -121.5089
          },
          "count": 38,
          "country": "US",
          "countsByMeasurement": [
           {
            "count": 38,
            "parameter": "pm25"
           }
          ],
          "firstUpdated": "2020-03-08T01:00:00.000Z",
          "id": "US-4522",
          "lastUpdated": "2020-03-09T17:00:00.000Z",
          "location": "MMCA81030",
          "parameters": [
           "pm25"
          ],
          "sourceName": "AirNow",
          "sourceType": "government"
         },
         "type": "Feature"
        },
        {
         "geometry": {
          "coordinates": [
           -117.04903,
           48.18655
          ],
          "type": "Point"
         },
         "properties": {
          "city": "039",
          "coordinates": {
           "latitude": 48.18655,
           "longitude": -117.04903
          },
          "count": 7,
          "country": "US",
          "countsByMeasurement": [
           {
            "count": 7,
            "parameter": "pm25"
           }
          ],
          "firstUpdated": "2018-08-07T22:00:00.000Z",
          "id": "US-2813",
          "lastUpdated": "2018-08-08T08:00:00.000Z",
          "location": "Mobile_WhiteSalmon",
          "parameters": [
           "pm25"
          ],
          "sourceName": "AirNow",
          "sourceType": "government"
         },
         "type": "Feature"
        },
        {
         "geometry": {
          "coordinates": [
           -121.509,
           38.56125
          ],
          "type": "Point"
         },
         "properties": {
          "city": "CA8 - ARB",
          "coordinates": {
           "latitude": 38.56125,
           "longitude": -121.509
          },
          "count": 17,
          "country": "US",
          "countsByMeasurement": [
           {
            "count": 17,
            "parameter": "pm25"
           }
          ],
          "firstUpdated": "2020-02-20T02:00:00.000Z",
          "id": "US-4411",
          "lastUpdated": "2020-02-20T21:00:00.000Z",
          "location": "MMCA81024",
          "parameters": [
           "pm25"
          ],
          "sourceName": "AirNow",
          "sourceType": "government"
         },
         "type": "Feature"
        },
        {
         "geometry": {
          "coordinates": [
           -120.52879,
           35.52719
          ],
          "type": "Point"
         },
         "properties": {
          "city": "CA8 - ARB",
          "coordinates": {
           "latitude": 35.52719,
           "longitude": -120.52879
          },
          "count": 5,
          "country": "US",
          "countsByMeasurement": [
           {
            "count": 5,
            "parameter": "pm25"
           }
          ],
          "firstUpdated": "2020-01-06T19:00:00.000Z",
          "id": "US-4233",
          "lastUpdated": "2020-02-14T14:00:00.000Z",
          "location": "MMCA81051",
          "parameters": [
           "pm25"
          ],
          "sourceName": "AirNow",
          "sourceType": "government"
         },
         "type": "Feature"
        },
        {
         "geometry": {
          "coordinates": [
           -122.23833,
           40.63952
          ],
          "type": "Point"
         },
         "properties": {
          "city": "CA8 - ARB",
          "coordinates": {
           "latitude": 40.63952,
           "longitude": -122.23833
          },
          "count": 4,
          "country": "US",
          "countsByMeasurement": [
           {
            "count": 4,
            "parameter": "pm25"
           }
          ],
          "firstUpdated": "2020-02-16T19:00:00.000Z",
          "id": "US-4388",
          "lastUpdated": "2020-03-09T21:00:00.000Z",
          "location": "MMCA81012",
          "parameters": [
           "pm25"
          ],
          "sourceName": "AirNow",
          "sourceType": "government"
         },
         "type": "Feature"
        },
        {
         "geometry": {
          "coordinates": [
           -122.13297,
           38.21148
          ],
          "type": "Point"
         },
         "properties": {
          "city": "CA8 - ARB",
          "coordinates": {
           "latitude": 38.21148,
           "longitude": -122.13297
          },
          "count": 56,
          "country": "US",
          "countsByMeasurement": [
           {
            "count": 56,
            "parameter": "pm25"
           }
          ],
          "firstUpdated": "2019-10-28T08:00:00.000Z",
          "id": "US-3651",
          "lastUpdated": "2019-12-04T15:00:00.000Z",
          "location": "MMCA81032",
          "parameters": [
           "pm25"
          ],
          "sourceName": "AirNow",
          "sourceType": "government"
         },
         "type": "Feature"
        },
        {
         "geometry": {
          "coordinates": [
           -122.67102,
           38.43832
          ],
          "type": "Point"
         },
         "properties": {
          "city": "CA8 - ARB",
          "coordinates": {
           "latitude": 38.43832,
           "longitude": -122.67102
          },
          "count": 3,
          "country": "US",
          "countsByMeasurement": [
           {
            "count": 3,
            "parameter": "pm25"
           }
          ],
          "firstUpdated": "2017-12-04T00:00:00.000Z",
          "id": "US-2543",
          "lastUpdated": "2017-12-04T04:00:00.000Z",
          "location": "Santa Rosa Fire Stat",
          "parameters": [
           "pm25"
          ],
          "sourceName": "AirNow",
          "sourceType": "government"
         },
         "type": "Feature"
        },
        {
         "geometry": {
          "coordinates": [
           -122.38115,
           41.42678
          ],
          "type": "Point"
         },
         "properties": {
          "city": "NPS",
          "coordinates": {
           "latitude": 41.42678,
           "longitude": -122.38115
          },
          "count": 2,
          "country": "US",
          "countsByMeasurement": [
           {
            "count": 2,
            "parameter": "pm25"
           }
          ],
          "firstUpdated": "2019-12-12T20:00:00.000Z",
          "id": "US-4194",
          "lastUpdated": "2019-12-12T21:00:00.000Z",
          "location": "MMNPS1017",
          "parameters": [
           "pm25"
          ],
          "sourceName": "AirNow",
          "sourceType": "government"
         },
         "type": "Feature"
        },
        {
         "geometry": {
          "coordinates": [
           -120.95821,
           47.19749
          ],
          "type": "Point"
         },
         "properties": {
          "city": "037",
          "coordinates": {
           "latitude": 47.19749,
           "longitude": -120.95821
          },
          "count": 1,
          "country": "US",
          "countsByMeasurement": [
           {
            "count": 1,
            "parameter": "pm25"
           }
          ],
          "firstUpdated": "2017-09-26T18:00:00.000Z",
          "id": "US-2306",
          "lastUpdated": "2017-09-26T18:00:00.000Z",
          "location": "Mobile_Cle Elum",
          "parameters": [
           "pm25"
          ],
          "sourceName": "AirNow",
          "sourceType": "government"
         },
         "type": "Feature"
        },
        {
         "geometry": {
          "coordinates": [
           -123.67709,
           41.04745
          ],
          "type": "Point"
         },
         "properties": {
          "city": "CA8 - ARB",
          "coordinates": {
           "latitude": 41.04745,
           "longitude": -123.67709
          },
          "count": 19,
          "country": "US",
          "countsByMeasurement": [
           {
            "count": 19,
            "parameter": "pm25"
           }
          ],
          "firstUpdated": "2020-04-14T01:00:00.000Z",
          "id": "US-4582",
          "lastUpdated": "2020-04-14T20:00:00.000Z",
          "location": "MMCA81044",
          "parameters": [
           "pm25"
          ],
          "sourceName": "AirNow",
          "sourceType": "government"
         },
         "type": "Feature"
        },
        {
         "geometry": {
          "coordinates": [
           -122.25798,
           38.33502
          ],
          "type": "Point"
         },
         "properties": {
          "city": "CA8 - ARB",
          "coordinates": {
           "latitude": 38.33502,
           "longitude": -122.25798
          },
          "count": 5,
          "country": "US",
          "countsByMeasurement": [
           {
            "count": 5,
            "parameter": "pm25"
           }
          ],
          "firstUpdated": "2017-11-21T14:00:00.000Z",
          "id": "US-2489",
          "lastUpdated": "2017-12-04T04:00:00.000Z",
          "location": "Vichy Elementary Sch",
          "parameters": [
           "pm25"
          ],
          "sourceName": "AirNow",
          "sourceType": "government"
         },
         "type": "Feature"
        },
        {
         "geometry": {
          "coordinates": [
           -120.81371,
           45.81577
          ],
          "type": "Point"
         },
         "properties": {
          "city": "037",
          "coordinates": {
           "latitude": 45.81577,
           "longitude": -120.81371
          },
          "count": 25,
          "country": "US",
          "countsByMeasurement": [
           {
            "count": 25,
            "parameter": "pm25"
           }
          ],
          "firstUpdated": "2020-10-01T19:00:00.000Z",
          "id": "US-4936",
          "lastUpdated": "2020-10-11T12:00:00.000Z",
          "location": "Mobile-Goldendale",
          "parameters": [
           "pm25"
          ],
          "sourceName": "AirNow",
          "sourceType": "government"
         },
         "type": "Feature"
        },
        {
         "geometry": {
          "coordinates": [
           -122.67072,
           38.48186
          ],
          "type": "Point"
         },
         "properties": {
          "city": "CA8 - ARB",
          "coordinates": {
           "latitude": 38.48186,
           "longitude": -122.67072
          },
          "count": 3,
          "country": "US",
          "countsByMeasurement": [
           {
            "count": 3,
            "parameter": "pm25"
           }
          ],
          "firstUpdated": "2017-12-04T00:00:00.000Z",
          "id": "US-2542",
          "lastUpdated": "2017-12-04T04:00:00.000Z",
          "location": "Rincon Valley School",
          "parameters": [
           "pm25"
          ],
          "sourceName": "AirNow",
          "sourceType": "government"
         },
         "type": "Feature"
        },
        {
         "geometry": {
          "coordinates": [
           -105.89558,
           35.68704
          ],
          "type": "Point"
         },
         "properties": {
          "city": "FS1 - Forest Service",
          "coordinates": {
           "latitude": 35.68704,
           "longitude": -105.89558
          },
          "count": 63,
          "country": "US",
          "countsByMeasurement": [
           {
            "count": 63,
            "parameter": "pm25"
           }
          ],
          "firstUpdated": "2019-07-11T19:00:00.000Z",
          "id": "US-3458",
          "lastUpdated": "2019-08-13T23:00:00.000Z",
          "location": "Unit386",
          "parameters": [
           "pm25"
          ],
          "sourceName": "AirNow",
          "sourceType": "government"
         },
         "type": "Feature"
        },
        {
         "geometry": {
          "coordinates": [
           -123.37524,
           41.79627
          ],
          "type": "Point"
         },
         "properties": {
          "city": "CA8 - ARB",
          "coordinates": {
           "latitude": 41.79627,
           "longitude": -123.37524
          },
          "count": 16,
          "country": "US",
          "countsByMeasurement": [
           {
            "count": 16,
            "parameter": "pm25"
           }
          ],
          "firstUpdated": "2019-11-21T19:00:00.000Z",
          "id": "US-3940",
          "lastUpdated": "2019-11-25T23:00:00.000Z",
          "location": "MMCA81027",
          "parameters": [
           "pm25"
          ],
          "sourceName": "AirNow",
          "sourceType": "government"
         },
         "type": "Feature"
        },
        {
         "geometry": {
          "coordinates": [
           -124.12585,
           40.55204
          ],
          "type": "Point"
         },
         "properties": {
          "city": "NPS",
          "coordinates": {
           "latitude": 40.55204,
           "longitude": -124.12585
          },
          "count": 16,
          "country": "US",
          "countsByMeasurement": [
           {
            "count": 16,
            "parameter": "pm25"
           }
          ],
          "firstUpdated": "2020-10-11T06:00:00.000Z",
          "id": "US-4969",
          "lastUpdated": "2020-10-11T13:00:00.000Z",
          "location": "MMNPS1027",
          "parameters": [
           "pm25"
          ],
          "sourceName": "AirNow",
          "sourceType": "government"
         },
         "type": "Feature"
        },
        {
         "geometry": {
          "coordinates": [
           -122.70074,
           38.47358
          ],
          "type": "Point"
         },
         "properties": {
          "city": "CA8 - ARB",
          "coordinates": {
           "latitude": 38.47358,
           "longitude": -122.70074
          },
          "count": 5,
          "country": "US",
          "countsByMeasurement": [
           {
            "count": 5,
            "parameter": "pm25"
           }
          ],
          "firstUpdated": "2017-11-19T09:00:00.000Z",
          "id": "US-2474",
          "lastUpdated": "2017-12-04T04:00:00.000Z",
          "location": "Hidden Valley School",
          "parameters": [
           "pm25"
          ],
          "sourceName": "AirNow",
          "sourceType": "government"
         },
         "type": "Feature"
        },
        {
         "geometry": {
          "coordinates": [
           -117.94383,
           36.0494
          ],
          "type": "Point"
         },
         "properties": {
          "city": "GBU",
          "coordinates": {
           "latitude": 36.0494,
           "longitude": -117.94383
          },
          "count": 30,
          "country": "US",
          "countsByMeasurement": [
           {
            "count": 30,
            "parameter": "pm25"
           }
          ],
          "firstUpdated": "2017-07-18T07:00:00.000Z",
          "id": "US-2074",
          "lastUpdated": "2017-07-19T16:00:00.000Z",
          "location": "GBUAPCD EBAM @ Coso",
          "parameters": [
           "pm25"
          ],
          "sourceName": "AirNow",
          "sourceType": "government"
         },
         "type": "Feature"
        },
        {
         "geometry": {
          "coordinates": [
           -123.53716,
           41.30421
          ],
          "type": "Point"
         },
         "properties": {
          "city": "CA8 - ARB",
          "coordinates": {
           "latitude": 41.30421,
           "longitude": -123.53716
          },
          "count": 3,
          "country": "US",
          "countsByMeasurement": [
           {
            "count": 3,
            "parameter": "pm25"
           }
          ],
          "firstUpdated": "2019-11-25T20:00:00.000Z",
          "id": "US-4020",
          "lastUpdated": "2019-11-25T22:00:00.000Z",
          "location": "MMCA81016",
          "parameters": [
           "pm25"
          ],
          "sourceName": "AirNow",
          "sourceType": "government"
         },
         "type": "Feature"
        },
        {
         "geometry": {
          "coordinates": [
           -115.56302,
           32.7921
          ],
          "type": "Point"
         },
         "properties": {
          "city": "TUOLUMNE",
          "coordinates": {
           "latitude": 32.7921,
           "longitude": -115.56302
          },
          "count": 43,
          "country": "US",
          "countsByMeasurement": [
           {
            "count": 43,
            "parameter": "pm25"
           }
          ],
          "firstUpdated": "2019-05-20T08:00:00.000Z",
          "id": "US-3359",
          "lastUpdated": "2019-05-28T17:00:00.000Z",
          "location": "MMCA81011",
          "parameters": [
           "pm25"
          ],
          "sourceName": "AirNow",
          "sourceType": "government"
         },
         "type": "Feature"
        },
        {
         "geometry": {
          "coordinates": [
           -120.94342,
           38.67386
          ],
          "type": "Point"
         },
         "properties": {
          "city": "CA8 - ARB",
          "coordinates": {
           "latitude": 38.67386,
           "longitude": -120.94342
          },
          "count": 46,
          "country": "US",
          "countsByMeasurement": [
           {
            "count": 46,
            "parameter": "pm25"
           }
          ],
          "firstUpdated": "2020-02-26T01:00:00.000Z",
          "id": "US-4430",
          "lastUpdated": "2020-02-28T00:00:00.000Z",
          "location": "MMCA81008",
          "parameters": [
           "pm25"
          ],
          "sourceName": "AirNow",
          "sourceType": "government"
         },
         "type": "Feature"
        },
        {
         "geometry": {
          "coordinates": [
           -122.3645,
           41.52805
          ],
          "type": "Point"
         },
         "properties": {
          "city": "CA8 - ARB",
          "coordinates": {
           "latitude": 41.52805,
           "longitude": -122.3645
          },
          "count": 9,
          "country": "US",
          "countsByMeasurement": [
           {
            "count": 9,
            "parameter": "pm25"
           }
          ],
          "firstUpdated": "2019-11-26T08:00:00.000Z",
          "id": "US-4027",
          "lastUpdated": "2019-11-26T16:00:00.000Z",
          "location": "MMCA81026",
          "parameters": [
           "pm25"
          ],
          "sourceName": "AirNow",
          "sourceType": "government"
         },
         "type": "Feature"
        },
        {
         "geometry": {
          "coordinates": [
           -118.81096,
           36.13586
          ],
          "type": "Point"
         },
         "properties": {
          "city": "FS1 - Forest Service",
          "coordinates": {
           "latitude": 36.13586,
           "longitude": -118.81096
          },
          "count": 22,
          "country": "US",
          "countsByMeasurement": [
           {
            "count": 22,
            "parameter": "pm25"
           }
          ],
          "firstUpdated": "2019-05-29T08:00:00.000Z",
          "id": "US-3392",
          "lastUpdated": "2019-05-30T17:00:00.000Z",
          "location": "Unit1027",
          "parameters": [
           "pm25"
          ],
          "sourceName": "AirNow",
          "sourceType": "government"
         },
         "type": "Feature"
        },
        {
         "geometry": {
          "coordinates": [
           -105.95567,
           35.67147
          ],
          "type": "Point"
         },
         "properties": {
          "city": "FS1 - Forest Service",
          "coordinates": {
           "latitude": 35.67147,
           "longitude": -105.95567
          },
          "count": 17,
          "country": "US",
          "countsByMeasurement": [
           {
            "count": 17,
            "parameter": "pm25"
           }
          ],
          "firstUpdated": "2019-10-25T06:00:00.000Z",
          "id": "US-3642",
          "lastUpdated": "2019-10-25T22:00:00.000Z",
          "location": "Unit328",
          "parameters": [
           "pm25"
          ],
          "sourceName": "AirNow",
          "sourceType": "government"
         },
         "type": "Feature"
        },
        {
         "geometry": {
          "coordinates": [
           -120.95815,
           47.19741
          ],
          "type": "Point"
         },
         "properties": {
          "city": "051",
          "coordinates": {
           "latitude": 47.19741,
           "longitude": -120.95815
          },
          "count": 5,
          "country": "US",
          "countsByMeasurement": [
           {
            "count": 5,
            "parameter": "pm25"
           }
          ],
          "firstUpdated": "2019-08-08T12:00:00.000Z",
          "id": "US-3525",
          "lastUpdated": "2019-08-08T16:00:00.000Z",
          "location": "Newport_Mobile",
          "parameters": [
           "pm25"
          ],
          "sourceName": "AirNow",
          "sourceType": "government"
         },
         "type": "Feature"
        },
        {
         "geometry": {
          "coordinates": [
           -120.19575,
           39.40386
          ],
          "type": "Point"
         },
         "properties": {
          "city": "CA8 - ARB",
          "coordinates": {
           "latitude": 39.40386,
           "longitude": -120.19575
          },
          "count": 4,
          "country": "US",
          "countsByMeasurement": [
           {
            "count": 4,
            "parameter": "pm25"
           }
          ],
          "firstUpdated": "2020-01-15T02:00:00.000Z",
          "id": "US-4264",
          "lastUpdated": "2020-01-15T15:00:00.000Z",
          "location": "MMCA81009",
          "parameters": [
           "pm25"
          ],
          "sourceName": "AirNow",
          "sourceType": "government"
         },
         "type": "Feature"
        },
        {
         "geometry": {
          "coordinates": [
           -120.12477,
           39.03515
          ],
          "type": "Point"
         },
         "properties": {
          "city": "CA8 - ARB",
          "coordinates": {
           "latitude": 39.03515,
           "longitude": -120.12477
          },
          "count": 1,
          "country": "US",
          "countsByMeasurement": [
           {
            "count": 1,
            "parameter": "pm25"
           }
          ],
          "firstUpdated": "2020-01-15T19:00:00.000Z",
          "id": "US-4269",
          "lastUpdated": "2020-01-15T19:00:00.000Z",
          "location": "MMCA81017",
          "parameters": [
           "pm25"
          ],
          "sourceName": "AirNow",
          "sourceType": "government"
         },
         "type": "Feature"
        },
        {
         "geometry": {
          "coordinates": [
           -119.27255,
           35.50346
          ],
          "type": "Point"
         },
         "properties": {
          "city": "CA8 - ARB",
          "coordinates": {
           "latitude": 35.50346,
           "longitude": -119.27255
          },
          "count": 1,
          "country": "US",
          "countsByMeasurement": [
           {
            "count": 1,
            "parameter": "pm25"
           }
          ],
          "firstUpdated": "2020-01-15T19:00:00.000Z",
          "id": "US-4270",
          "lastUpdated": "2020-01-15T19:00:00.000Z",
          "location": "MMCA81039",
          "parameters": [
           "pm25"
          ],
          "sourceName": "AirNow",
          "sourceType": "government"
         },
         "type": "Feature"
        },
        {
         "geometry": {
          "coordinates": [
           -122.47908,
           38.50755
          ],
          "type": "Point"
         },
         "properties": {
          "city": "CA8 - ARB",
          "coordinates": {
           "latitude": 38.50755,
           "longitude": -122.47908
          },
          "count": 38,
          "country": "US",
          "countsByMeasurement": [
           {
            "count": 38,
            "parameter": "pm25"
           }
          ],
          "firstUpdated": "2019-12-03T03:00:00.000Z",
          "id": "US-4101",
          "lastUpdated": "2019-12-04T17:00:00.000Z",
          "location": "MMCA81046",
          "parameters": [
           "pm25"
          ],
          "sourceName": "AirNow",
          "sourceType": "government"
         },
         "type": "Feature"
        },
        {
         "geometry": {
          "coordinates": [
           -119.12083,
           37.95691
          ],
          "type": "Point"
         },
         "properties": {
          "city": "GBU",
          "coordinates": {
           "latitude": 37.95691,
           "longitude": -119.12083
          },
          "count": 12,
          "country": "US",
          "countsByMeasurement": [
           {
            "count": 12,
            "parameter": "pm25"
           }
          ],
          "firstUpdated": "2016-08-09T07:00:00.000Z",
          "id": "US-1810",
          "lastUpdated": "2016-08-09T18:00:00.000Z",
          "location": "GBUAPCD EBAM 1",
          "parameters": [
           "pm25"
          ],
          "sourceName": "AirNow",
          "sourceType": "government"
         },
         "type": "Feature"
        },
        {
         "geometry": {
          "coordinates": [
           -119.78456,
           48.08879
          ],
          "type": "Point"
         },
         "properties": {
          "city": "047",
          "coordinates": {
           "latitude": 48.08879,
           "longitude": -119.78456
          },
          "count": 11,
          "country": "US",
          "countsByMeasurement": [
           {
            "count": 11,
            "parameter": "pm25"
           }
          ],
          "firstUpdated": "2018-09-10T06:00:00.000Z",
          "id": "US-3066",
          "lastUpdated": "2018-09-13T18:00:00.000Z",
          "location": "Brewster_Mobile",
          "parameters": [
           "pm25"
          ],
          "sourceName": "AirNow",
          "sourceType": "government"
         },
         "type": "Feature"
        },
        {
         "geometry": {
          "coordinates": [
           -120.98825,
           38.68441
          ],
          "type": "Point"
         },
         "properties": {
          "city": "CA8 - ARB",
          "coordinates": {
           "latitude": 38.68441,
           "longitude": -120.98825
          },
          "count": 46,
          "country": "US",
          "countsByMeasurement": [
           {
            "count": 46,
            "parameter": "pm25"
           }
          ],
          "firstUpdated": "2020-02-25T01:00:00.000Z",
          "id": "US-4426",
          "lastUpdated": "2020-02-27T01:00:00.000Z",
          "location": "MMCA81001",
          "parameters": [
           "pm25"
          ],
          "sourceName": "AirNow",
          "sourceType": "government"
         },
         "type": "Feature"
        },
        {
         "geometry": {
          "coordinates": [
           -118.33083,
           37.36073
          ],
          "type": "Point"
         },
         "properties": {
          "city": "GBU",
          "coordinates": {
           "latitude": 37.36073,
           "longitude": -118.33083
          },
          "count": 71,
          "country": "US",
          "countsByMeasurement": [
           {
            "count": 71,
            "parameter": "pm25"
           }
          ],
          "firstUpdated": "2016-12-03T07:00:00.000Z",
          "id": "US-1923",
          "lastUpdated": "2017-01-18T17:00:00.000Z",
          "location": "GBUAPCD EBAM @ Bisho",
          "parameters": [
           "pm25"
          ],
          "sourceName": "AirNow",
          "sourceType": "government"
         },
         "type": "Feature"
        },
        {
         "geometry": {
          "coordinates": [
           -123.2695,
           39.79336
          ],
          "type": "Point"
         },
         "properties": {
          "city": "CA8 - ARB",
          "coordinates": {
           "latitude": 39.79336,
           "longitude": -123.2695
          },
          "count": 16,
          "country": "US",
          "countsByMeasurement": [
           {
            "count": 16,
            "parameter": "pm25"
           }
          ],
          "firstUpdated": "2020-03-09T01:00:00.000Z",
          "id": "US-4526",
          "lastUpdated": "2020-03-09T17:00:00.000Z",
          "location": "MMCA81038",
          "parameters": [
           "pm25"
          ],
          "sourceName": "AirNow",
          "sourceType": "government"
         },
         "type": "Feature"
        },
        {
         "geometry": {
          "coordinates": [
           -120.98818,
           38.68436
          ],
          "type": "Point"
         },
         "properties": {
          "city": "CA8 - ARB",
          "coordinates": {
           "latitude": 38.68436,
           "longitude": -120.98818
          },
          "count": 36,
          "country": "US",
          "countsByMeasurement": [
           {
            "count": 36,
            "parameter": "pm25"
           }
          ],
          "firstUpdated": "2020-03-08T01:00:00.000Z",
          "id": "US-4521",
          "lastUpdated": "2020-03-09T15:00:00.000Z",
          "location": "1001",
          "parameters": [
           "pm25"
          ],
          "sourceName": "AirNow",
          "sourceType": "government"
         },
         "type": "Feature"
        },
        {
         "geometry": {
          "coordinates": [
           -120.94338,
           38.67386
          ],
          "type": "Point"
         },
         "properties": {
          "city": "CA8 - ARB",
          "coordinates": {
           "latitude": 38.67386,
           "longitude": -120.94338
          },
          "count": 62,
          "country": "US",
          "countsByMeasurement": [
           {
            "count": 62,
            "parameter": "pm25"
           }
          ],
          "firstUpdated": "2020-02-16T01:00:00.000Z",
          "id": "US-4383",
          "lastUpdated": "2020-03-09T17:00:00.000Z",
          "location": "1008",
          "parameters": [
           "pm25"
          ],
          "sourceName": "AirNow",
          "sourceType": "government"
         },
         "type": "Feature"
        }
       ],
       "type": "FeatureCollection"
      },
      "text/plain": [
       "<IPython.display.GeoJSON object>"
      ]
     },
     "metadata": {
      "application/geo+json": {
       "expanded": false,
       "root": "root"
      }
     },
     "output_type": "display_data"
    }
   ],
   "source": [
    "from IPython.display import GeoJSON\n",
    "import geojson\n",
    "from datetime import datetime\n",
    "\n",
    "def station_to_feature(station):\n",
    "    omit_fields = ['cities', 'locations', 'sourceNames', 'sourceTypes']\n",
    "    for field in omit_fields:\n",
    "        if field in station:\n",
    "            del station[field]\n",
    "    return geojson.Feature(geometry=geojson.Point(tuple(station['coordinates'].values())), properties=station)\n",
    "\n",
    "features = []\n",
    "\n",
    "date_format = \"%Y-%m-%dT%H:%M:%S.%fZ\"\n",
    "def get_last_updated_date(station):\n",
    "    last_updated = station['lastUpdated']\n",
    "    last_updated = datetime.strptime(last_updated, date_format)\n",
    "    return last_updated\n",
    "\n",
    "for _, group in groups:\n",
    "    last_record = sorted(group, key=get_last_updated_date, reverse=True)[0]\n",
    "    features.append(station_to_feature(last_record))\n",
    "    \n",
    "collection = geojson.FeatureCollection(features)\n",
    "with open(\"us-mobile-stations.geojson\", \"w\") as f:\n",
    "    geojson.dump(collection, f)\n",
    "\n",
    "GeoJSON(collection)"
   ]
  },
  {
   "cell_type": "code",
   "execution_count": null,
   "metadata": {},
   "outputs": [],
   "source": []
  }
 ],
 "metadata": {
  "kernelspec": {
   "display_name": "Python 3",
   "language": "python",
   "name": "python3"
  },
  "language_info": {
   "codemirror_mode": {
    "name": "ipython",
    "version": 3
   },
   "file_extension": ".py",
   "mimetype": "text/x-python",
   "name": "python",
   "nbconvert_exporter": "python",
   "pygments_lexer": "ipython3",
   "version": "3.8.5"
  }
 },
 "nbformat": 4,
 "nbformat_minor": 4
}

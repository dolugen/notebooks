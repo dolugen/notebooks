{
 "cells": [
  {
   "cell_type": "markdown",
   "metadata": {},
   "source": [
    "# GeoJSON"
   ]
  },
  {
   "cell_type": "markdown",
   "metadata": {},
   "source": [
    "- To render GeoJSON in Jupyter, use [geojson-extension](https://github.com/jupyterlab/jupyter-renderers/tree/master/packages/geojson-extension)\n",
    "- Python [geojson](https://github.com/jazzband/geojson) library"
   ]
  },
  {
   "cell_type": "code",
   "execution_count": 3,
   "metadata": {},
   "outputs": [
    {
     "data": {
      "application/geo+json": {
       "geometry": {
        "coordinates": [
         -118.4563712,
         34.0163116
        ],
        "type": "Point"
       },
       "type": "Feature"
      },
      "text/plain": [
       "<IPython.display.GeoJSON object>"
      ]
     },
     "metadata": {
      "application/geo+json": {
       "expanded": false,
       "root": "root"
      }
     },
     "output_type": "display_data"
    }
   ],
   "source": [
    "from IPython.display import GeoJSON\n",
    "\n",
    "GeoJSON({\n",
    "    \"type\": \"Feature\",\n",
    "    \"geometry\": {\n",
    "        \"type\": \"Point\",\n",
    "        \"coordinates\": [-118.4563712, 34.0163116]\n",
    "    }\n",
    "})"
   ]
  },
  {
   "cell_type": "markdown",
   "metadata": {},
   "source": [
    "# Create GeoJSON from unstructured geo data"
   ]
  },
  {
   "cell_type": "code",
   "execution_count": 10,
   "metadata": {},
   "outputs": [],
   "source": [
    "import httpx"
   ]
  },
  {
   "cell_type": "code",
   "execution_count": 27,
   "metadata": {},
   "outputs": [],
   "source": [
    "STATIONS_URL = \"https://api.openaq.org/v1/locations?limit=10000&country=DE&city=Berlin&has_geo=true\""
   ]
  },
  {
   "cell_type": "code",
   "execution_count": 32,
   "metadata": {},
   "outputs": [],
   "source": [
    "stations = httpx.get(STATIONS_URL).json()['results']"
   ]
  },
  {
   "cell_type": "code",
   "execution_count": 29,
   "metadata": {},
   "outputs": [
    {
     "data": {
      "application/geo+json": {
       "features": [
        {
         "geometry": {
          "coordinates": [
           13.34933,
           52.54304
          ],
          "type": "Point"
         },
         "properties": {
          "cities": [
           "Rainer Nothard",
           "Berlin"
          ],
          "city": "Berlin",
          "coordinates": {
           "latitude": 52.54304,
           "longitude": 13.34933
          },
          "count": 30488,
          "country": "DE",
          "countsByMeasurement": [
           {
            "count": 10034,
            "parameter": "no2"
           },
           {
            "count": 10324,
            "parameter": "o3"
           },
           {
            "count": 10130,
            "parameter": "pm10"
           }
          ],
          "firstUpdated": "2016-11-21T13:00:00.000Z",
          "id": "DE-363",
          "lastUpdated": "2020-10-09T05:00:00.000Z",
          "location": "DEBE010",
          "locations": [
           "B Wedding-Amrumer Str.",
           "DEBE010"
          ],
          "parameters": [
           "no2",
           "o3",
           "pm10"
          ],
          "sourceName": "EEA Germany",
          "sourceNames": [
           "EEA Germany"
          ],
          "sourceType": "government",
          "sourceTypes": [
           "government"
          ]
         },
         "type": "Feature"
        },
        {
         "geometry": {
          "coordinates": [
           13.34877,
           52.48581
          ],
          "type": "Point"
         },
         "properties": {
          "cities": [
           "Rainer Nothard",
           "Berlin"
          ],
          "city": "Berlin",
          "coordinates": {
           "latitude": 52.48581,
           "longitude": 13.34877
          },
          "count": 10002,
          "country": "DE",
          "countsByMeasurement": [
           {
            "count": 10002,
            "parameter": "no2"
           }
          ],
          "firstUpdated": "2016-11-21T13:00:00.000Z",
          "id": "DE-362",
          "lastUpdated": "2020-10-09T05:00:00.000Z",
          "location": "DEBE018",
          "locations": [
           "B Schöneberg-Belziger Straße",
           "B Sch�neberg-Belziger Stra�e",
           "DEBE018"
          ],
          "parameters": [
           "no2"
          ],
          "sourceName": "EEA Germany",
          "sourceNames": [
           "EEA Germany"
          ],
          "sourceType": "government",
          "sourceTypes": [
           "government"
          ]
         },
         "type": "Feature"
        },
        {
         "geometry": {
          "coordinates": [
           13.3681,
           52.39841
          ],
          "type": "Point"
         },
         "properties": {
          "cities": [
           "Rainer Nothard",
           "Berlin"
          ],
          "city": "Berlin",
          "coordinates": {
           "latitude": 52.39841,
           "longitude": 13.3681
          },
          "count": 19612,
          "country": "DE",
          "countsByMeasurement": [
           {
            "count": 9715,
            "parameter": "no2"
           },
           {
            "count": 9897,
            "parameter": "o3"
           }
          ],
          "firstUpdated": "2016-11-21T13:00:00.000Z",
          "id": "DE-354",
          "lastUpdated": "2020-10-09T05:00:00.000Z",
          "location": "DEBE027",
          "locations": [
           "B Marienfelde-Schichauweg",
           "DEBE027"
          ],
          "parameters": [
           "no2",
           "o3"
          ],
          "sourceName": "EEA Germany",
          "sourceNames": [
           "EEA Germany"
          ],
          "sourceType": "government",
          "sourceTypes": [
           "government"
          ]
         },
         "type": "Feature"
        },
        {
         "geometry": {
          "coordinates": [
           13.22514,
           52.47319
          ],
          "type": "Point"
         },
         "properties": {
          "cities": [
           "Rainer Nothard",
           "Berlin"
          ],
          "city": "Berlin",
          "coordinates": {
           "latitude": 52.47319,
           "longitude": 13.22514
          },
          "count": 30154,
          "country": "DE",
          "countsByMeasurement": [
           {
            "count": 9949,
            "parameter": "no2"
           },
           {
            "count": 10312,
            "parameter": "o3"
           },
           {
            "count": 9893,
            "parameter": "pm10"
           }
          ],
          "firstUpdated": "2016-11-21T13:00:00.000Z",
          "id": "DE-358",
          "lastUpdated": "2020-10-09T05:00:00.000Z",
          "location": "DEBE032",
          "locations": [
           "B Grunewald (3.5 m)",
           "DEBE032"
          ],
          "parameters": [
           "no2",
           "o3",
           "pm10"
          ],
          "sourceName": "EEA Germany",
          "sourceNames": [
           "EEA Germany"
          ],
          "sourceType": "government",
          "sourceTypes": [
           "government"
          ]
         },
         "type": "Feature"
        },
        {
         "geometry": {
          "coordinates": [
           13.43084,
           52.48945
          ],
          "type": "Point"
         },
         "properties": {
          "cities": [
           "Rainer Nothard",
           "Berlin"
          ],
          "city": "Berlin",
          "coordinates": {
           "latitude": 52.48945,
           "longitude": 13.43084
          },
          "count": 30256,
          "country": "DE",
          "countsByMeasurement": [
           {
            "count": 9957,
            "parameter": "no2"
           },
           {
            "count": 10245,
            "parameter": "o3"
           },
           {
            "count": 10054,
            "parameter": "pm10"
           }
          ],
          "firstUpdated": "2016-11-21T11:00:00.000Z",
          "id": "DE-281",
          "lastUpdated": "2020-10-09T05:00:00.000Z",
          "location": "DEBE034",
          "locations": [
           "B Neukölln-Nansenstraße",
           "B Neuk�lln-Nansenstra�e",
           "DEBE034"
          ],
          "parameters": [
           "no2",
           "o3",
           "pm10"
          ],
          "sourceName": "EEA Germany",
          "sourceNames": [
           "EEA Germany"
          ],
          "sourceType": "government",
          "sourceTypes": [
           "government"
          ]
         },
         "type": "Feature"
        },
        {
         "geometry": {
          "coordinates": [
           13.48953,
           52.64352
          ],
          "type": "Point"
         },
         "properties": {
          "cities": [
           "Rainer Nothard",
           "Berlin"
          ],
          "city": "Berlin",
          "coordinates": {
           "latitude": 52.64352,
           "longitude": 13.48953
          },
          "count": 29941,
          "country": "DE",
          "countsByMeasurement": [
           {
            "count": 9787,
            "parameter": "no2"
           },
           {
            "count": 10142,
            "parameter": "o3"
           },
           {
            "count": 10012,
            "parameter": "pm10"
           }
          ],
          "firstUpdated": "2016-11-21T11:00:00.000Z",
          "id": "DE-51",
          "lastUpdated": "2020-10-09T05:00:00.000Z",
          "location": "DEBE051",
          "locations": [
           "B Buch",
           "DEBE051"
          ],
          "parameters": [
           "no2",
           "o3",
           "pm10"
          ],
          "sourceName": "EEA Germany",
          "sourceNames": [
           "EEA Germany"
          ],
          "sourceType": "government",
          "sourceTypes": [
           "government"
          ]
         },
         "type": "Feature"
        },
        {
         "geometry": {
          "coordinates": [
           13.64705,
           52.4477
          ],
          "type": "Point"
         },
         "properties": {
          "cities": [
           "Rainer Nothard",
           "Berlin"
          ],
          "city": "Berlin",
          "coordinates": {
           "latitude": 52.4477,
           "longitude": 13.64705
          },
          "count": 29287,
          "country": "DE",
          "countsByMeasurement": [
           {
            "count": 9611,
            "parameter": "no2"
           },
           {
            "count": 9945,
            "parameter": "o3"
           },
           {
            "count": 9731,
            "parameter": "pm10"
           }
          ],
          "firstUpdated": "2016-11-21T11:00:00.000Z",
          "id": "DE-69",
          "lastUpdated": "2020-10-09T05:00:00.000Z",
          "location": "DEBE056",
          "locations": [
           "B Friedrichshagen",
           "DEBE056"
          ],
          "parameters": [
           "no2",
           "o3",
           "pm10"
          ],
          "sourceName": "EEA Germany",
          "sourceNames": [
           "EEA Germany"
          ],
          "sourceType": "government",
          "sourceTypes": [
           "government"
          ]
         },
         "type": "Feature"
        },
        {
         "geometry": {
          "coordinates": [
           13.31825,
           52.46361
          ],
          "type": "Point"
         },
         "properties": {
          "cities": [
           "Rainer Nothard",
           "Berlin"
          ],
          "city": "Berlin",
          "coordinates": {
           "latitude": 52.46361,
           "longitude": 13.31825
          },
          "count": 30602,
          "country": "DE",
          "countsByMeasurement": [
           {
            "count": 10605,
            "parameter": "co"
           },
           {
            "count": 9886,
            "parameter": "no2"
           },
           {
            "count": 10111,
            "parameter": "pm10"
           }
          ],
          "firstUpdated": "2016-11-21T11:00:00.000Z",
          "id": "DE-242",
          "lastUpdated": "2020-10-09T05:00:00.000Z",
          "location": "DEBE061",
          "locations": [
           "B Steglitz-Schildhornstr.",
           "DEBE061"
          ],
          "parameters": [
           "co",
           "no2",
           "pm10"
          ],
          "sourceName": "EEA Germany",
          "sourceNames": [
           "EEA Germany"
          ],
          "sourceType": "government",
          "sourceTypes": [
           "government"
          ]
         },
         "type": "Feature"
        },
        {
         "geometry": {
          "coordinates": [
           13.29608,
           52.65327
          ],
          "type": "Point"
         },
         "properties": {
          "cities": [
           "Rainer Nothard",
           "Berlin"
          ],
          "city": "Berlin",
          "coordinates": {
           "latitude": 52.65327,
           "longitude": 13.29608
          },
          "count": 20291,
          "country": "DE",
          "countsByMeasurement": [
           {
            "count": 9992,
            "parameter": "no2"
           },
           {
            "count": 10299,
            "parameter": "o3"
           }
          ],
          "firstUpdated": "2016-11-21T13:00:00.000Z",
          "id": "DE-356",
          "lastUpdated": "2020-10-09T05:00:00.000Z",
          "location": "DEBE062",
          "locations": [
           "B Frohnau, Funkturm (3.5 m)",
           "DEBE062"
          ],
          "parameters": [
           "no2",
           "o3"
          ],
          "sourceName": "EEA Germany",
          "sourceNames": [
           "EEA Germany"
          ],
          "sourceType": "government",
          "sourceTypes": [
           "government"
          ]
         },
         "type": "Feature"
        },
        {
         "geometry": {
          "coordinates": [
           13.44165,
           52.46753
          ],
          "type": "Point"
         },
         "properties": {
          "cities": [
           "Rainer Nothard",
           "Berlin"
          ],
          "city": "Berlin",
          "coordinates": {
           "latitude": 52.46753,
           "longitude": 13.44165
          },
          "count": 20050,
          "country": "DE",
          "countsByMeasurement": [
           {
            "count": 9975,
            "parameter": "no2"
           },
           {
            "count": 10075,
            "parameter": "pm10"
           }
          ],
          "firstUpdated": "2016-11-21T11:00:00.000Z",
          "id": "DE-87",
          "lastUpdated": "2020-10-09T05:00:00.000Z",
          "location": "DEBE063",
          "locations": [
           "B Neukölln-Silbersteinstr.",
           "B Neuk�lln-Silbersteinstr.",
           "DEBE063"
          ],
          "parameters": [
           "no2",
           "pm10"
          ],
          "sourceName": "EEA Germany",
          "sourceNames": [
           "EEA Germany"
          ],
          "sourceType": "government",
          "sourceTypes": [
           "government"
          ]
         },
         "type": "Feature"
        },
        {
         "geometry": {
          "coordinates": [
           13.43397,
           52.48171
          ],
          "type": "Point"
         },
         "properties": {
          "cities": [
           "Rainer Nothard",
           "Berlin"
          ],
          "city": "Berlin",
          "coordinates": {
           "latitude": 52.48171,
           "longitude": 13.43397
          },
          "count": 20004,
          "country": "DE",
          "countsByMeasurement": [
           {
            "count": 9935,
            "parameter": "no2"
           },
           {
            "count": 10069,
            "parameter": "pm10"
           }
          ],
          "firstUpdated": "2016-11-21T11:00:00.000Z",
          "id": "DE-252",
          "lastUpdated": "2020-10-09T05:00:00.000Z",
          "location": "DEBE064",
          "locations": [
           "B Neukölln-Karl-Marx-Str. 76",
           "B Neuk�lln-Karl-Marx-Str. 76",
           "DEBE064"
          ],
          "parameters": [
           "no2",
           "pm10"
          ],
          "sourceName": "EEA Germany",
          "sourceNames": [
           "EEA Germany"
          ],
          "sourceType": "government",
          "sourceTypes": [
           "government"
          ]
         },
         "type": "Feature"
        },
        {
         "geometry": {
          "coordinates": [
           13.46993,
           52.51407
          ],
          "type": "Point"
         },
         "properties": {
          "cities": [
           "Rainer Nothard",
           "Berlin"
          ],
          "city": "Berlin",
          "coordinates": {
           "latitude": 52.51407,
           "longitude": 13.46993
          },
          "count": 40572,
          "country": "DE",
          "countsByMeasurement": [
           {
            "count": 10336,
            "parameter": "co"
           },
           {
            "count": 9841,
            "parameter": "no2"
           },
           {
            "count": 1407,
            "parameter": "o3"
           },
           {
            "count": 9955,
            "parameter": "pm10"
           },
           {
            "count": 9033,
            "parameter": "so2"
           }
          ],
          "firstUpdated": "2016-11-21T11:00:00.000Z",
          "id": "DE-262",
          "lastUpdated": "2020-10-09T05:00:00.000Z",
          "location": "DEBE065",
          "locations": [
           "B Friedrichshain-Frankfurter Allee",
           "DEBE065"
          ],
          "parameters": [
           "co",
           "no2",
           "o3",
           "pm10",
           "so2"
          ],
          "sourceName": "EEA Germany",
          "sourceNames": [
           "EEA Germany"
          ],
          "sourceType": "government",
          "sourceTypes": [
           "government"
          ]
         },
         "type": "Feature"
        },
        {
         "geometry": {
          "coordinates": [
           13.5295,
           52.48529
          ],
          "type": "Point"
         },
         "properties": {
          "cities": [
           "Rainer Nothard",
           "Berlin"
          ],
          "city": "Berlin",
          "coordinates": {
           "latitude": 52.48529,
           "longitude": 13.5295
          },
          "count": 17169,
          "country": "DE",
          "countsByMeasurement": [
           {
            "count": 9934,
            "parameter": "no2"
           },
           {
            "count": 7235,
            "parameter": "so2"
           }
          ],
          "firstUpdated": "2016-11-21T11:00:00.000Z",
          "id": "DE-2",
          "lastUpdated": "2020-10-09T05:00:00.000Z",
          "location": "DEBE066",
          "locations": [
           "B Karlshorst-Rheingoldstr./Königswinterstr.",
           "B Karlshorst-Rheingoldstr./K�nigswinterstr.",
           "DEBE066"
          ],
          "parameters": [
           "no2",
           "so2"
          ],
          "sourceName": "EEA Germany",
          "sourceNames": [
           "EEA Germany"
          ],
          "sourceType": "government",
          "sourceTypes": [
           "government"
          ]
         },
         "type": "Feature"
        },
        {
         "geometry": {
          "coordinates": [
           13.33297,
           52.5066
          ],
          "type": "Point"
         },
         "properties": {
          "cities": [
           "Rainer Nothard",
           "Berlin"
          ],
          "city": "Berlin",
          "coordinates": {
           "latitude": 52.5066,
           "longitude": 13.33297
          },
          "count": 9935,
          "country": "DE",
          "countsByMeasurement": [
           {
            "count": 9935,
            "parameter": "no2"
           }
          ],
          "firstUpdated": "2016-11-21T11:00:00.000Z",
          "id": "DE-199",
          "lastUpdated": "2020-10-09T05:00:00.000Z",
          "location": "DEBE067",
          "locations": [
           "B Hardenbergplatz",
           "DEBE067"
          ],
          "parameters": [
           "no2"
          ],
          "sourceName": "EEA Germany",
          "sourceNames": [
           "EEA Germany"
          ],
          "sourceType": "government",
          "sourceTypes": [
           "government"
          ]
         },
         "type": "Feature"
        },
        {
         "geometry": {
          "coordinates": [
           13.41883,
           52.51361
          ],
          "type": "Point"
         },
         "properties": {
          "cities": [
           "Rainer Nothard",
           "Berlin"
          ],
          "city": "Berlin",
          "coordinates": {
           "latitude": 52.51361,
           "longitude": 13.41883
          },
          "count": 20181,
          "country": "DE",
          "countsByMeasurement": [
           {
            "count": 10013,
            "parameter": "no2"
           },
           {
            "count": 10168,
            "parameter": "pm10"
           }
          ],
          "firstUpdated": "2016-11-21T11:00:00.000Z",
          "id": "DE-178",
          "lastUpdated": "2020-10-09T05:00:00.000Z",
          "location": "DEBE068",
          "locations": [
           "B Mitte, Brückenstraße",
           "B Mitte, Br�ckenstra�e",
           "DEBE068"
          ],
          "parameters": [
           "no2",
           "pm10"
          ],
          "sourceName": "EEA Germany",
          "sourceNames": [
           "EEA Germany"
          ],
          "sourceType": "government",
          "sourceTypes": [
           "government"
          ]
         },
         "type": "Feature"
        },
        {
         "geometry": {
          "coordinates": [
           13.38772,
           52.43811
          ],
          "type": "Point"
         },
         "properties": {
          "cities": [
           "Rainer Nothard",
           "Berlin"
          ],
          "city": "Berlin",
          "coordinates": {
           "latitude": 52.43811,
           "longitude": 13.38772
          },
          "count": 20046,
          "country": "DE",
          "countsByMeasurement": [
           {
            "count": 10001,
            "parameter": "no2"
           },
           {
            "count": 10045,
            "parameter": "pm10"
           }
          ],
          "firstUpdated": "2016-11-21T11:00:00.000Z",
          "id": "DE-124",
          "lastUpdated": "2020-10-09T05:00:00.000Z",
          "location": "DEBE069",
          "locations": [
           "B Mariendorf, Mariendorfer Damm",
           "DEBE069"
          ],
          "parameters": [
           "no2",
           "pm10"
          ],
          "sourceName": "EEA Germany",
          "sourceNames": [
           "EEA Germany"
          ],
          "sourceType": "government",
          "sourceTypes": [
           "government"
          ]
         },
         "type": "Feature"
        }
       ],
       "type": "FeatureCollection"
      },
      "text/plain": [
       "<IPython.display.GeoJSON object>"
      ]
     },
     "metadata": {
      "application/geo+json": {
       "expanded": false,
       "root": "root"
      }
     },
     "output_type": "display_data"
    }
   ],
   "source": [
    "def station_to_feature(station):\n",
    "    return {\n",
    "        \"type\": \"Feature\",\n",
    "        \"geometry\": {\n",
    "            \"type\": \"Point\",\n",
    "            \"coordinates\": list(station['coordinates'].values())\n",
    "        },\n",
    "        \"properties\": station\n",
    "    }\n",
    "\n",
    "station_features = [station_to_feature(station) for station in stations]\n",
    "GeoJSON({\n",
    "  \"type\": \"FeatureCollection\",\n",
    "  \"features\": station_features\n",
    "})"
   ]
  },
  {
   "cell_type": "code",
   "execution_count": 41,
   "metadata": {},
   "outputs": [],
   "source": [
    "from geojson import Feature, Point, FeatureCollection, dump\n",
    "\n",
    "def station_to_feature(station):\n",
    "    return Feature(geometry=Point(tuple(station['coordinates'].values())), properties=station)\n",
    "\n",
    "collection = FeatureCollection([station_to_feature(station) for station in stations])\n",
    "\n",
    "with open(\"berlin-stations.geojson\", \"w\") as f:\n",
    "    dump(collection, f)"
   ]
  },
  {
   "cell_type": "markdown",
   "metadata": {},
   "source": [
    "[See the output GeoJSON file: `berlin-stations.geojson`](berlin-stations.geojson)"
   ]
  },
  {
   "cell_type": "code",
   "execution_count": 43,
   "metadata": {},
   "outputs": [
    {
     "data": {
      "application/geo+json": {
       "features": [
        {
         "geometry": {
          "coordinates": [
           13.34933,
           52.54304
          ],
          "type": "Point"
         },
         "properties": {
          "cities": [
           "Rainer Nothard",
           "Berlin"
          ],
          "city": "Berlin",
          "coordinates": {
           "latitude": 52.54304,
           "longitude": 13.34933
          },
          "count": 30488,
          "country": "DE",
          "countsByMeasurement": [
           {
            "count": 10034,
            "parameter": "no2"
           },
           {
            "count": 10324,
            "parameter": "o3"
           },
           {
            "count": 10130,
            "parameter": "pm10"
           }
          ],
          "firstUpdated": "2016-11-21T13:00:00.000Z",
          "id": "DE-363",
          "lastUpdated": "2020-10-09T05:00:00.000Z",
          "location": "DEBE010",
          "locations": [
           "B Wedding-Amrumer Str.",
           "DEBE010"
          ],
          "parameters": [
           "no2",
           "o3",
           "pm10"
          ],
          "sourceName": "EEA Germany",
          "sourceNames": [
           "EEA Germany"
          ],
          "sourceType": "government",
          "sourceTypes": [
           "government"
          ]
         },
         "type": "Feature"
        },
        {
         "geometry": {
          "coordinates": [
           13.34877,
           52.48581
          ],
          "type": "Point"
         },
         "properties": {
          "cities": [
           "Rainer Nothard",
           "Berlin"
          ],
          "city": "Berlin",
          "coordinates": {
           "latitude": 52.48581,
           "longitude": 13.34877
          },
          "count": 10002,
          "country": "DE",
          "countsByMeasurement": [
           {
            "count": 10002,
            "parameter": "no2"
           }
          ],
          "firstUpdated": "2016-11-21T13:00:00.000Z",
          "id": "DE-362",
          "lastUpdated": "2020-10-09T05:00:00.000Z",
          "location": "DEBE018",
          "locations": [
           "B Schöneberg-Belziger Straße",
           "B Sch�neberg-Belziger Stra�e",
           "DEBE018"
          ],
          "parameters": [
           "no2"
          ],
          "sourceName": "EEA Germany",
          "sourceNames": [
           "EEA Germany"
          ],
          "sourceType": "government",
          "sourceTypes": [
           "government"
          ]
         },
         "type": "Feature"
        },
        {
         "geometry": {
          "coordinates": [
           13.3681,
           52.39841
          ],
          "type": "Point"
         },
         "properties": {
          "cities": [
           "Rainer Nothard",
           "Berlin"
          ],
          "city": "Berlin",
          "coordinates": {
           "latitude": 52.39841,
           "longitude": 13.3681
          },
          "count": 19612,
          "country": "DE",
          "countsByMeasurement": [
           {
            "count": 9715,
            "parameter": "no2"
           },
           {
            "count": 9897,
            "parameter": "o3"
           }
          ],
          "firstUpdated": "2016-11-21T13:00:00.000Z",
          "id": "DE-354",
          "lastUpdated": "2020-10-09T05:00:00.000Z",
          "location": "DEBE027",
          "locations": [
           "B Marienfelde-Schichauweg",
           "DEBE027"
          ],
          "parameters": [
           "no2",
           "o3"
          ],
          "sourceName": "EEA Germany",
          "sourceNames": [
           "EEA Germany"
          ],
          "sourceType": "government",
          "sourceTypes": [
           "government"
          ]
         },
         "type": "Feature"
        },
        {
         "geometry": {
          "coordinates": [
           13.22514,
           52.47319
          ],
          "type": "Point"
         },
         "properties": {
          "cities": [
           "Rainer Nothard",
           "Berlin"
          ],
          "city": "Berlin",
          "coordinates": {
           "latitude": 52.47319,
           "longitude": 13.22514
          },
          "count": 30154,
          "country": "DE",
          "countsByMeasurement": [
           {
            "count": 9949,
            "parameter": "no2"
           },
           {
            "count": 10312,
            "parameter": "o3"
           },
           {
            "count": 9893,
            "parameter": "pm10"
           }
          ],
          "firstUpdated": "2016-11-21T13:00:00.000Z",
          "id": "DE-358",
          "lastUpdated": "2020-10-09T05:00:00.000Z",
          "location": "DEBE032",
          "locations": [
           "B Grunewald (3.5 m)",
           "DEBE032"
          ],
          "parameters": [
           "no2",
           "o3",
           "pm10"
          ],
          "sourceName": "EEA Germany",
          "sourceNames": [
           "EEA Germany"
          ],
          "sourceType": "government",
          "sourceTypes": [
           "government"
          ]
         },
         "type": "Feature"
        },
        {
         "geometry": {
          "coordinates": [
           13.43084,
           52.48945
          ],
          "type": "Point"
         },
         "properties": {
          "cities": [
           "Rainer Nothard",
           "Berlin"
          ],
          "city": "Berlin",
          "coordinates": {
           "latitude": 52.48945,
           "longitude": 13.43084
          },
          "count": 30256,
          "country": "DE",
          "countsByMeasurement": [
           {
            "count": 9957,
            "parameter": "no2"
           },
           {
            "count": 10245,
            "parameter": "o3"
           },
           {
            "count": 10054,
            "parameter": "pm10"
           }
          ],
          "firstUpdated": "2016-11-21T11:00:00.000Z",
          "id": "DE-281",
          "lastUpdated": "2020-10-09T05:00:00.000Z",
          "location": "DEBE034",
          "locations": [
           "B Neukölln-Nansenstraße",
           "B Neuk�lln-Nansenstra�e",
           "DEBE034"
          ],
          "parameters": [
           "no2",
           "o3",
           "pm10"
          ],
          "sourceName": "EEA Germany",
          "sourceNames": [
           "EEA Germany"
          ],
          "sourceType": "government",
          "sourceTypes": [
           "government"
          ]
         },
         "type": "Feature"
        },
        {
         "geometry": {
          "coordinates": [
           13.48953,
           52.64352
          ],
          "type": "Point"
         },
         "properties": {
          "cities": [
           "Rainer Nothard",
           "Berlin"
          ],
          "city": "Berlin",
          "coordinates": {
           "latitude": 52.64352,
           "longitude": 13.48953
          },
          "count": 29941,
          "country": "DE",
          "countsByMeasurement": [
           {
            "count": 9787,
            "parameter": "no2"
           },
           {
            "count": 10142,
            "parameter": "o3"
           },
           {
            "count": 10012,
            "parameter": "pm10"
           }
          ],
          "firstUpdated": "2016-11-21T11:00:00.000Z",
          "id": "DE-51",
          "lastUpdated": "2020-10-09T05:00:00.000Z",
          "location": "DEBE051",
          "locations": [
           "B Buch",
           "DEBE051"
          ],
          "parameters": [
           "no2",
           "o3",
           "pm10"
          ],
          "sourceName": "EEA Germany",
          "sourceNames": [
           "EEA Germany"
          ],
          "sourceType": "government",
          "sourceTypes": [
           "government"
          ]
         },
         "type": "Feature"
        },
        {
         "geometry": {
          "coordinates": [
           13.64705,
           52.4477
          ],
          "type": "Point"
         },
         "properties": {
          "cities": [
           "Rainer Nothard",
           "Berlin"
          ],
          "city": "Berlin",
          "coordinates": {
           "latitude": 52.4477,
           "longitude": 13.64705
          },
          "count": 29287,
          "country": "DE",
          "countsByMeasurement": [
           {
            "count": 9611,
            "parameter": "no2"
           },
           {
            "count": 9945,
            "parameter": "o3"
           },
           {
            "count": 9731,
            "parameter": "pm10"
           }
          ],
          "firstUpdated": "2016-11-21T11:00:00.000Z",
          "id": "DE-69",
          "lastUpdated": "2020-10-09T05:00:00.000Z",
          "location": "DEBE056",
          "locations": [
           "B Friedrichshagen",
           "DEBE056"
          ],
          "parameters": [
           "no2",
           "o3",
           "pm10"
          ],
          "sourceName": "EEA Germany",
          "sourceNames": [
           "EEA Germany"
          ],
          "sourceType": "government",
          "sourceTypes": [
           "government"
          ]
         },
         "type": "Feature"
        },
        {
         "geometry": {
          "coordinates": [
           13.31825,
           52.46361
          ],
          "type": "Point"
         },
         "properties": {
          "cities": [
           "Rainer Nothard",
           "Berlin"
          ],
          "city": "Berlin",
          "coordinates": {
           "latitude": 52.46361,
           "longitude": 13.31825
          },
          "count": 30602,
          "country": "DE",
          "countsByMeasurement": [
           {
            "count": 10605,
            "parameter": "co"
           },
           {
            "count": 9886,
            "parameter": "no2"
           },
           {
            "count": 10111,
            "parameter": "pm10"
           }
          ],
          "firstUpdated": "2016-11-21T11:00:00.000Z",
          "id": "DE-242",
          "lastUpdated": "2020-10-09T05:00:00.000Z",
          "location": "DEBE061",
          "locations": [
           "B Steglitz-Schildhornstr.",
           "DEBE061"
          ],
          "parameters": [
           "co",
           "no2",
           "pm10"
          ],
          "sourceName": "EEA Germany",
          "sourceNames": [
           "EEA Germany"
          ],
          "sourceType": "government",
          "sourceTypes": [
           "government"
          ]
         },
         "type": "Feature"
        },
        {
         "geometry": {
          "coordinates": [
           13.29608,
           52.65327
          ],
          "type": "Point"
         },
         "properties": {
          "cities": [
           "Rainer Nothard",
           "Berlin"
          ],
          "city": "Berlin",
          "coordinates": {
           "latitude": 52.65327,
           "longitude": 13.29608
          },
          "count": 20291,
          "country": "DE",
          "countsByMeasurement": [
           {
            "count": 9992,
            "parameter": "no2"
           },
           {
            "count": 10299,
            "parameter": "o3"
           }
          ],
          "firstUpdated": "2016-11-21T13:00:00.000Z",
          "id": "DE-356",
          "lastUpdated": "2020-10-09T05:00:00.000Z",
          "location": "DEBE062",
          "locations": [
           "B Frohnau, Funkturm (3.5 m)",
           "DEBE062"
          ],
          "parameters": [
           "no2",
           "o3"
          ],
          "sourceName": "EEA Germany",
          "sourceNames": [
           "EEA Germany"
          ],
          "sourceType": "government",
          "sourceTypes": [
           "government"
          ]
         },
         "type": "Feature"
        },
        {
         "geometry": {
          "coordinates": [
           13.44165,
           52.46753
          ],
          "type": "Point"
         },
         "properties": {
          "cities": [
           "Rainer Nothard",
           "Berlin"
          ],
          "city": "Berlin",
          "coordinates": {
           "latitude": 52.46753,
           "longitude": 13.44165
          },
          "count": 20050,
          "country": "DE",
          "countsByMeasurement": [
           {
            "count": 9975,
            "parameter": "no2"
           },
           {
            "count": 10075,
            "parameter": "pm10"
           }
          ],
          "firstUpdated": "2016-11-21T11:00:00.000Z",
          "id": "DE-87",
          "lastUpdated": "2020-10-09T05:00:00.000Z",
          "location": "DEBE063",
          "locations": [
           "B Neukölln-Silbersteinstr.",
           "B Neuk�lln-Silbersteinstr.",
           "DEBE063"
          ],
          "parameters": [
           "no2",
           "pm10"
          ],
          "sourceName": "EEA Germany",
          "sourceNames": [
           "EEA Germany"
          ],
          "sourceType": "government",
          "sourceTypes": [
           "government"
          ]
         },
         "type": "Feature"
        },
        {
         "geometry": {
          "coordinates": [
           13.43397,
           52.48171
          ],
          "type": "Point"
         },
         "properties": {
          "cities": [
           "Rainer Nothard",
           "Berlin"
          ],
          "city": "Berlin",
          "coordinates": {
           "latitude": 52.48171,
           "longitude": 13.43397
          },
          "count": 20004,
          "country": "DE",
          "countsByMeasurement": [
           {
            "count": 9935,
            "parameter": "no2"
           },
           {
            "count": 10069,
            "parameter": "pm10"
           }
          ],
          "firstUpdated": "2016-11-21T11:00:00.000Z",
          "id": "DE-252",
          "lastUpdated": "2020-10-09T05:00:00.000Z",
          "location": "DEBE064",
          "locations": [
           "B Neukölln-Karl-Marx-Str. 76",
           "B Neuk�lln-Karl-Marx-Str. 76",
           "DEBE064"
          ],
          "parameters": [
           "no2",
           "pm10"
          ],
          "sourceName": "EEA Germany",
          "sourceNames": [
           "EEA Germany"
          ],
          "sourceType": "government",
          "sourceTypes": [
           "government"
          ]
         },
         "type": "Feature"
        },
        {
         "geometry": {
          "coordinates": [
           13.46993,
           52.51407
          ],
          "type": "Point"
         },
         "properties": {
          "cities": [
           "Rainer Nothard",
           "Berlin"
          ],
          "city": "Berlin",
          "coordinates": {
           "latitude": 52.51407,
           "longitude": 13.46993
          },
          "count": 40572,
          "country": "DE",
          "countsByMeasurement": [
           {
            "count": 10336,
            "parameter": "co"
           },
           {
            "count": 9841,
            "parameter": "no2"
           },
           {
            "count": 1407,
            "parameter": "o3"
           },
           {
            "count": 9955,
            "parameter": "pm10"
           },
           {
            "count": 9033,
            "parameter": "so2"
           }
          ],
          "firstUpdated": "2016-11-21T11:00:00.000Z",
          "id": "DE-262",
          "lastUpdated": "2020-10-09T05:00:00.000Z",
          "location": "DEBE065",
          "locations": [
           "B Friedrichshain-Frankfurter Allee",
           "DEBE065"
          ],
          "parameters": [
           "co",
           "no2",
           "o3",
           "pm10",
           "so2"
          ],
          "sourceName": "EEA Germany",
          "sourceNames": [
           "EEA Germany"
          ],
          "sourceType": "government",
          "sourceTypes": [
           "government"
          ]
         },
         "type": "Feature"
        },
        {
         "geometry": {
          "coordinates": [
           13.5295,
           52.48529
          ],
          "type": "Point"
         },
         "properties": {
          "cities": [
           "Rainer Nothard",
           "Berlin"
          ],
          "city": "Berlin",
          "coordinates": {
           "latitude": 52.48529,
           "longitude": 13.5295
          },
          "count": 17169,
          "country": "DE",
          "countsByMeasurement": [
           {
            "count": 9934,
            "parameter": "no2"
           },
           {
            "count": 7235,
            "parameter": "so2"
           }
          ],
          "firstUpdated": "2016-11-21T11:00:00.000Z",
          "id": "DE-2",
          "lastUpdated": "2020-10-09T05:00:00.000Z",
          "location": "DEBE066",
          "locations": [
           "B Karlshorst-Rheingoldstr./Königswinterstr.",
           "B Karlshorst-Rheingoldstr./K�nigswinterstr.",
           "DEBE066"
          ],
          "parameters": [
           "no2",
           "so2"
          ],
          "sourceName": "EEA Germany",
          "sourceNames": [
           "EEA Germany"
          ],
          "sourceType": "government",
          "sourceTypes": [
           "government"
          ]
         },
         "type": "Feature"
        },
        {
         "geometry": {
          "coordinates": [
           13.33297,
           52.5066
          ],
          "type": "Point"
         },
         "properties": {
          "cities": [
           "Rainer Nothard",
           "Berlin"
          ],
          "city": "Berlin",
          "coordinates": {
           "latitude": 52.5066,
           "longitude": 13.33297
          },
          "count": 9935,
          "country": "DE",
          "countsByMeasurement": [
           {
            "count": 9935,
            "parameter": "no2"
           }
          ],
          "firstUpdated": "2016-11-21T11:00:00.000Z",
          "id": "DE-199",
          "lastUpdated": "2020-10-09T05:00:00.000Z",
          "location": "DEBE067",
          "locations": [
           "B Hardenbergplatz",
           "DEBE067"
          ],
          "parameters": [
           "no2"
          ],
          "sourceName": "EEA Germany",
          "sourceNames": [
           "EEA Germany"
          ],
          "sourceType": "government",
          "sourceTypes": [
           "government"
          ]
         },
         "type": "Feature"
        },
        {
         "geometry": {
          "coordinates": [
           13.41883,
           52.51361
          ],
          "type": "Point"
         },
         "properties": {
          "cities": [
           "Rainer Nothard",
           "Berlin"
          ],
          "city": "Berlin",
          "coordinates": {
           "latitude": 52.51361,
           "longitude": 13.41883
          },
          "count": 20181,
          "country": "DE",
          "countsByMeasurement": [
           {
            "count": 10013,
            "parameter": "no2"
           },
           {
            "count": 10168,
            "parameter": "pm10"
           }
          ],
          "firstUpdated": "2016-11-21T11:00:00.000Z",
          "id": "DE-178",
          "lastUpdated": "2020-10-09T05:00:00.000Z",
          "location": "DEBE068",
          "locations": [
           "B Mitte, Brückenstraße",
           "B Mitte, Br�ckenstra�e",
           "DEBE068"
          ],
          "parameters": [
           "no2",
           "pm10"
          ],
          "sourceName": "EEA Germany",
          "sourceNames": [
           "EEA Germany"
          ],
          "sourceType": "government",
          "sourceTypes": [
           "government"
          ]
         },
         "type": "Feature"
        },
        {
         "geometry": {
          "coordinates": [
           13.38772,
           52.43811
          ],
          "type": "Point"
         },
         "properties": {
          "cities": [
           "Rainer Nothard",
           "Berlin"
          ],
          "city": "Berlin",
          "coordinates": {
           "latitude": 52.43811,
           "longitude": 13.38772
          },
          "count": 20046,
          "country": "DE",
          "countsByMeasurement": [
           {
            "count": 10001,
            "parameter": "no2"
           },
           {
            "count": 10045,
            "parameter": "pm10"
           }
          ],
          "firstUpdated": "2016-11-21T11:00:00.000Z",
          "id": "DE-124",
          "lastUpdated": "2020-10-09T05:00:00.000Z",
          "location": "DEBE069",
          "locations": [
           "B Mariendorf, Mariendorfer Damm",
           "DEBE069"
          ],
          "parameters": [
           "no2",
           "pm10"
          ],
          "sourceName": "EEA Germany",
          "sourceNames": [
           "EEA Germany"
          ],
          "sourceType": "government",
          "sourceTypes": [
           "government"
          ]
         },
         "type": "Feature"
        }
       ],
       "type": "FeatureCollection"
      },
      "text/plain": [
       "<IPython.display.GeoJSON object>"
      ]
     },
     "metadata": {
      "application/geo+json": {
       "expanded": false,
       "root": "root"
      }
     },
     "output_type": "display_data"
    }
   ],
   "source": [
    "GeoJSON(collection)"
   ]
  },
  {
   "cell_type": "markdown",
   "metadata": {},
   "source": [
    "# [openaq-geojson](https://github.com/dolugen/openaq-geojson)\n",
    "\n",
    "Trying the app on Jupyter."
   ]
  },
  {
   "cell_type": "code",
   "execution_count": 46,
   "metadata": {},
   "outputs": [
    {
     "data": {
      "application/geo+json": {
       "features": [
        {
         "geometry": {
          "coordinates": [
           106.92139,
           47.93291
          ],
          "type": "Point"
         },
         "properties": {
          "cities": [
           "Ulaanbaatar"
          ],
          "city": "Ulaanbaatar",
          "coordinates": {
           "latitude": 47.93291,
           "longitude": 106.92139
          },
          "count": 372614,
          "country": "MN",
          "countsByMeasurement": [
           {
            "count": 73528,
            "parameter": "co"
           },
           {
            "count": 71074,
            "parameter": "no2"
           },
           {
            "count": 78203,
            "parameter": "o3"
           },
           {
            "count": 78912,
            "parameter": "pm10"
           },
           {
            "count": 70897,
            "parameter": "so2"
           }
          ],
          "firstUpdated": "2015-09-01T00:00:00.000Z",
          "id": "MN-4",
          "lastUpdated": "2019-03-13T22:00:00.000Z",
          "location": "100 ail",
          "locations": [
           "100 ail"
          ],
          "parameters": [
           "co",
           "no2",
           "o3",
           "pm10",
           "so2"
          ],
          "sourceName": "Agaar.mn",
          "sourceNames": [
           "Agaar.mn"
          ],
          "sourceType": "government",
          "sourceTypes": [
           "government"
          ]
         },
         "type": "Feature"
        },
        {
         "geometry": {
          "coordinates": [
           106.84806,
           47.91798
          ],
          "type": "Point"
         },
         "properties": {
          "cities": [
           "Ulaanbaatar"
          ],
          "city": "Ulaanbaatar",
          "coordinates": {
           "latitude": 47.91798,
           "longitude": 106.84806
          },
          "count": 5967,
          "country": "MN",
          "countsByMeasurement": [
           {
            "count": 1196,
            "parameter": "co"
           },
           {
            "count": 1196,
            "parameter": "no2"
           },
           {
            "count": 1196,
            "parameter": "pm10"
           },
           {
            "count": 1196,
            "parameter": "pm25"
           },
           {
            "count": 1183,
            "parameter": "so2"
           }
          ],
          "firstUpdated": "2019-03-01T07:45:00.000Z",
          "id": "MN-44",
          "lastUpdated": "2019-03-13T21:45:00.000Z",
          "location": "1-r khoroolol",
          "locations": [
           "1-r khoroolol"
          ],
          "parameters": [
           "co",
           "no2",
           "pm10",
           "pm25",
           "so2"
          ],
          "sourceName": "Agaar.mn",
          "sourceNames": [
           "Agaar.mn"
          ],
          "sourceType": "government",
          "sourceTypes": [
           "government"
          ]
         },
         "type": "Feature"
        },
        {
         "geometry": {
          "coordinates": [
           106.5053,
           47.55047
          ],
          "type": "Point"
         },
         "properties": {
          "cities": [
           "Ulaanbaatar"
          ],
          "city": "Ulaanbaatar",
          "coordinates": {
           "latitude": 47.55047,
           "longitude": 106.5053
          },
          "count": 20,
          "country": "MN",
          "countsByMeasurement": [
           {
            "count": 4,
            "parameter": "co"
           },
           {
            "count": 4,
            "parameter": "no2"
           },
           {
            "count": 4,
            "parameter": "pm10"
           },
           {
            "count": 4,
            "parameter": "pm25"
           },
           {
            "count": 4,
            "parameter": "so2"
           }
          ],
          "firstUpdated": "2019-03-01T06:45:00.000Z",
          "id": "MN-42",
          "lastUpdated": "2019-03-01T07:30:00.000Z",
          "location": "1-r khoroolol",
          "locations": [
           "1-r khoroolol"
          ],
          "parameters": [
           "co",
           "no2",
           "pm10",
           "pm25",
           "so2"
          ],
          "sourceName": "Agaar.mn",
          "sourceNames": [
           "Agaar.mn"
          ],
          "sourceType": "government",
          "sourceTypes": [
           "government"
          ]
         },
         "type": "Feature"
        },
        {
         "geometry": {
          "coordinates": [
           106.99791,
           47.91343
          ],
          "type": "Point"
         },
         "properties": {
          "cities": [
           "Ulaanbaatar"
          ],
          "city": "Ulaanbaatar",
          "coordinates": {
           "latitude": 47.91343,
           "longitude": 106.99791
          },
          "count": 200631,
          "country": "MN",
          "countsByMeasurement": [
           {
            "count": 29989,
            "parameter": "co"
           },
           {
            "count": 35841,
            "parameter": "no2"
           },
           {
            "count": 32920,
            "parameter": "o3"
           },
           {
            "count": 33356,
            "parameter": "pm10"
           },
           {
            "count": 33359,
            "parameter": "pm25"
           },
           {
            "count": 35166,
            "parameter": "so2"
           }
          ],
          "firstUpdated": "2015-09-04T00:30:00.000Z",
          "id": "MN-10",
          "lastUpdated": "2019-03-13T22:30:00.000Z",
          "location": "Amgalan",
          "locations": [
           "Amgalan"
          ],
          "parameters": [
           "co",
           "no2",
           "o3",
           "pm10",
           "pm25",
           "so2"
          ],
          "sourceName": "Agaar.mn",
          "sourceNames": [
           "Agaar.mn"
          ],
          "sourceType": "government",
          "sourceTypes": [
           "government"
          ]
         },
         "type": "Feature"
        },
        {
         "geometry": {
          "coordinates": [
           106.8942,
           47.91538
          ],
          "type": "Point"
         },
         "properties": {
          "cities": [
           "Ulaanbaatar"
          ],
          "city": "Ulaanbaatar",
          "coordinates": {
           "latitude": 47.91538,
           "longitude": 106.8942
          },
          "count": 330235,
          "country": "MN",
          "countsByMeasurement": [
           {
            "count": 46271,
            "parameter": "co"
           },
           {
            "count": 67370,
            "parameter": "no2"
           },
           {
            "count": 74107,
            "parameter": "pm10"
           },
           {
            "count": 73408,
            "parameter": "pm25"
           },
           {
            "count": 69079,
            "parameter": "so2"
           }
          ],
          "firstUpdated": "2015-09-01T00:00:00.000Z",
          "id": "MN-8",
          "lastUpdated": "2019-03-13T22:00:00.000Z",
          "location": "Baruun 4 zam",
          "locations": [
           "Baruun 4 zam"
          ],
          "parameters": [
           "co",
           "no2",
           "pm10",
           "pm25",
           "so2"
          ],
          "sourceName": "Agaar.mn",
          "sourceNames": [
           "Agaar.mn"
          ],
          "sourceType": "government",
          "sourceTypes": [
           "government"
          ]
         },
         "type": "Feature"
        },
        {
         "geometry": {
          "coordinates": [
           106.82275,
           47.95756
          ],
          "type": "Point"
         },
         "properties": {
          "cities": [
           "Ulaanbaatar"
          ],
          "city": "Ulaanbaatar",
          "coordinates": {
           "latitude": 47.95756,
           "longitude": 106.82275
          },
          "count": 73317,
          "country": "MN",
          "countsByMeasurement": [
           {
            "count": 23902,
            "parameter": "pm10"
           },
           {
            "count": 24061,
            "parameter": "pm25"
           },
           {
            "count": 25354,
            "parameter": "so2"
           }
          ],
          "firstUpdated": "2016-05-25T07:00:00.000Z",
          "id": "MN-12",
          "lastUpdated": "2019-03-13T18:00:00.000Z",
          "location": "Bayankhoshuu",
          "locations": [
           "Bayankhoshuu"
          ],
          "parameters": [
           "pm10",
           "pm25",
           "so2"
          ],
          "sourceName": "Agaar.mn",
          "sourceNames": [
           "Agaar.mn"
          ],
          "sourceType": "government",
          "sourceTypes": [
           "government"
          ]
         },
         "type": "Feature"
        },
        {
         "geometry": {
          "coordinates": [
           106.93736,
           47.91761
          ],
          "type": "Point"
         },
         "properties": {
          "cities": [
           "Ulaanbaatar"
          ],
          "city": "Ulaanbaatar",
          "coordinates": {
           "latitude": 47.91761,
           "longitude": 106.93736
          },
          "count": 443913,
          "country": "MN",
          "countsByMeasurement": [
           {
            "count": 74650,
            "parameter": "co"
           },
           {
            "count": 76323,
            "parameter": "no2"
           },
           {
            "count": 66046,
            "parameter": "o3"
           },
           {
            "count": 77202,
            "parameter": "pm10"
           },
           {
            "count": 75778,
            "parameter": "pm25"
           },
           {
            "count": 73914,
            "parameter": "so2"
           }
          ],
          "firstUpdated": "2015-09-01T00:00:00.000Z",
          "id": "MN-7",
          "lastUpdated": "2019-03-13T22:00:00.000Z",
          "location": "Bukhiin urguu",
          "locations": [
           "Bukhiin urguu"
          ],
          "parameters": [
           "co",
           "no2",
           "o3",
           "pm10",
           "pm25",
           "so2"
          ],
          "sourceName": "Agaar.mn",
          "sourceNames": [
           "Agaar.mn"
          ],
          "sourceType": "government",
          "sourceTypes": [
           "government"
          ]
         },
         "type": "Feature"
        },
        {
         "geometry": {
          "coordinates": [
           106.93216,
           47.96298
          ],
          "type": "Point"
         },
         "properties": {
          "cities": [
           "Ulaanbaatar"
          ],
          "city": "Ulaanbaatar",
          "coordinates": {
           "latitude": 47.96298,
           "longitude": 106.93216
          },
          "count": 2,
          "country": "MN",
          "countsByMeasurement": [
           {
            "count": 2,
            "parameter": "no2"
           }
          ],
          "firstUpdated": "2019-03-01T07:30:00.000Z",
          "id": "MN-43",
          "lastUpdated": "2019-03-01T08:00:00.000Z",
          "location": "Dambadarjaa",
          "locations": [
           "Dambadarjaa"
          ],
          "parameters": [
           "no2"
          ],
          "sourceName": "Agaar.mn",
          "sourceNames": [
           "Agaar.mn"
          ],
          "sourceType": "government",
          "sourceTypes": [
           "government"
          ]
         },
         "type": "Feature"
        },
        {
         "geometry": {
          "coordinates": [
           106.88247,
           47.89434
          ],
          "type": "Point"
         },
         "properties": {
          "cities": [
           "Ulaanbaatar"
          ],
          "city": "Ulaanbaatar",
          "coordinates": {
           "latitude": 47.89434,
           "longitude": 106.88247
          },
          "count": 130872,
          "country": "MN",
          "countsByMeasurement": [
           {
            "count": 3488,
            "parameter": "co"
           },
           {
            "count": 4726,
            "parameter": "no2"
           },
           {
            "count": 35184,
            "parameter": "o3"
           },
           {
            "count": 65553,
            "parameter": "pm10"
           },
           {
            "count": 21921,
            "parameter": "so2"
           }
          ],
          "firstUpdated": "2015-09-01T00:00:00.000Z",
          "id": "MN-6",
          "lastUpdated": "2019-03-13T22:00:00.000Z",
          "location": "Misheel expo",
          "locations": [
           "Misheel expo"
          ],
          "parameters": [
           "co",
           "no2",
           "o3",
           "pm10",
           "so2"
          ],
          "sourceName": "Agaar.mn",
          "sourceNames": [
           "Agaar.mn"
          ],
          "sourceType": "government",
          "sourceTypes": [
           "government"
          ]
         },
         "type": "Feature"
        },
        {
         "geometry": {
          "coordinates": [
           106.88863,
           47.92973
          ],
          "type": "Point"
         },
         "properties": {
          "cities": [
           "Ulaanbaatar"
          ],
          "city": "Ulaanbaatar",
          "coordinates": {
           "latitude": 47.92973,
           "longitude": 106.88863
          },
          "count": 208522,
          "country": "MN",
          "countsByMeasurement": [
           {
            "count": 33766,
            "parameter": "co"
           },
           {
            "count": 38095,
            "parameter": "no2"
           },
           {
            "count": 29118,
            "parameter": "o3"
           },
           {
            "count": 37659,
            "parameter": "pm10"
           },
           {
            "count": 37659,
            "parameter": "pm25"
           },
           {
            "count": 32225,
            "parameter": "so2"
           }
          ],
          "firstUpdated": "2015-09-01T00:00:00.000Z",
          "id": "MN-1",
          "lastUpdated": "2019-03-13T22:30:00.000Z",
          "location": "MNB",
          "locations": [
           "MNB"
          ],
          "parameters": [
           "co",
           "no2",
           "o3",
           "pm10",
           "pm25",
           "so2"
          ],
          "sourceName": "Agaar.mn",
          "sourceNames": [
           "Agaar.mn"
          ],
          "sourceType": "government",
          "sourceTypes": [
           "government"
          ]
         },
         "type": "Feature"
        },
        {
         "geometry": {
          "coordinates": [
           106.85071,
           47.90354
          ],
          "type": "Point"
         },
         "properties": {
          "cities": [
           "Ulaanbaatar"
          ],
          "city": "Ulaanbaatar",
          "coordinates": {
           "latitude": 47.90354,
           "longitude": 106.85071
          },
          "count": 270588,
          "country": "MN",
          "countsByMeasurement": [
           {
            "count": 74165,
            "parameter": "co"
           },
           {
            "count": 53859,
            "parameter": "no2"
           },
           {
            "count": 70755,
            "parameter": "pm10"
           },
           {
            "count": 71809,
            "parameter": "so2"
           }
          ],
          "firstUpdated": "2015-09-01T00:00:00.000Z",
          "id": "MN-2",
          "lastUpdated": "2019-03-13T21:45:00.000Z",
          "location": "Mongol gazar",
          "locations": [
           "Mongol gazar"
          ],
          "parameters": [
           "co",
           "no2",
           "pm10",
           "so2"
          ],
          "sourceName": "Agaar.mn",
          "sourceNames": [
           "Agaar.mn"
          ],
          "sourceType": "government",
          "sourceTypes": [
           "government"
          ]
         },
         "type": "Feature"
        },
        {
         "geometry": {
          "coordinates": [
           106.77909,
           47.86394
          ],
          "type": "Point"
         },
         "properties": {
          "cities": [
           "Ulaanbaatar"
          ],
          "city": "Ulaanbaatar",
          "coordinates": {
           "latitude": 47.86394,
           "longitude": 106.77909
          },
          "count": 208599,
          "country": "MN",
          "countsByMeasurement": [
           {
            "count": 29724,
            "parameter": "co"
           },
           {
            "count": 35792,
            "parameter": "no2"
           },
           {
            "count": 35820,
            "parameter": "o3"
           },
           {
            "count": 36382,
            "parameter": "pm10"
           },
           {
            "count": 36382,
            "parameter": "pm25"
           },
           {
            "count": 34499,
            "parameter": "so2"
           }
          ],
          "firstUpdated": "2015-09-01T00:00:00.000Z",
          "id": "MN-3",
          "lastUpdated": "2019-03-13T22:30:00.000Z",
          "location": "Nisekh",
          "locations": [
           "Nisekh"
          ],
          "parameters": [
           "co",
           "no2",
           "o3",
           "pm10",
           "pm25",
           "so2"
          ],
          "sourceName": "Agaar.mn",
          "sourceNames": [
           "Agaar.mn"
          ],
          "sourceType": "government",
          "sourceTypes": [
           "government"
          ]
         },
         "type": "Feature"
        },
        {
         "geometry": {
          "coordinates": [
           106.79481,
           47.9225
          ],
          "type": "Point"
         },
         "properties": {
          "cities": [
           "Ulaanbaatar"
          ],
          "city": "Ulaanbaatar",
          "coordinates": {
           "latitude": 47.9225,
           "longitude": 106.79481
          },
          "count": 207946,
          "country": "MN",
          "countsByMeasurement": [
           {
            "count": 36313,
            "parameter": "co"
           },
           {
            "count": 34413,
            "parameter": "no2"
           },
           {
            "count": 33077,
            "parameter": "o3"
           },
           {
            "count": 36214,
            "parameter": "pm10"
           },
           {
            "count": 36214,
            "parameter": "pm25"
           },
           {
            "count": 31715,
            "parameter": "so2"
           }
          ],
          "firstUpdated": "2015-09-01T00:00:00.000Z",
          "id": "MN-5",
          "lastUpdated": "2019-03-13T22:30:00.000Z",
          "location": "Tolgoit",
          "locations": [
           "Tolgoit"
          ],
          "parameters": [
           "co",
           "no2",
           "o3",
           "pm10",
           "pm25",
           "so2"
          ],
          "sourceName": "Agaar.mn",
          "sourceNames": [
           "Agaar.mn"
          ],
          "sourceType": "government",
          "sourceTypes": [
           "government"
          ]
         },
         "type": "Feature"
        },
        {
         "geometry": {
          "coordinates": [
           107.11802,
           47.86646
          ],
          "type": "Point"
         },
         "properties": {
          "cities": [
           "Ulaanbaatar"
          ],
          "city": "Ulaanbaatar",
          "coordinates": {
           "latitude": 47.86646,
           "longitude": 107.11802
          },
          "count": 243425,
          "country": "MN",
          "countsByMeasurement": [
           {
            "count": 32647,
            "parameter": "co"
           },
           {
            "count": 57505,
            "parameter": "no2"
           },
           {
            "count": 51350,
            "parameter": "o3"
           },
           {
            "count": 57362,
            "parameter": "pm10"
           },
           {
            "count": 44561,
            "parameter": "so2"
           }
          ],
          "firstUpdated": "2015-09-02T03:30:00.000Z",
          "id": "MN-9",
          "lastUpdated": "2019-03-13T21:45:00.000Z",
          "location": "Urgakh naran",
          "locations": [
           "Urgakh naran"
          ],
          "parameters": [
           "co",
           "no2",
           "o3",
           "pm10",
           "so2"
          ],
          "sourceName": "Agaar.mn",
          "sourceNames": [
           "Agaar.mn"
          ],
          "sourceType": "government",
          "sourceTypes": [
           "government"
          ]
         },
         "type": "Feature"
        },
        {
         "geometry": {
          "coordinates": [
           106.93019,
           47.92844
          ],
          "type": "Point"
         },
         "properties": {
          "cities": [
           "Ulaanbaatar"
          ],
          "city": "Ulaanbaatar",
          "coordinates": {
           "latitude": 47.92844,
           "longitude": 106.93019
          },
          "count": 7884,
          "country": "MN",
          "countsByMeasurement": [
           {
            "count": 7884,
            "parameter": "pm25"
           }
          ],
          "firstUpdated": "2015-12-11T22:00:00.000Z",
          "id": "MN-11",
          "lastUpdated": "2016-11-09T16:00:00.000Z",
          "location": "US Diplomatic Post: Ulaanbaatar",
          "locations": [
           "US Diplomatic Post: Ulaanbaatar"
          ],
          "parameters": [
           "pm25"
          ],
          "sourceName": "StateAir_Ulaanbaatar",
          "sourceNames": [
           "StateAir_Ulaanbaatar"
          ],
          "sourceType": "government",
          "sourceTypes": [
           "government"
          ]
         },
         "type": "Feature"
        },
        {
         "geometry": {
          "coordinates": [
           106.92947,
           47.92839
          ],
          "type": "Point"
         },
         "properties": {
          "cities": [
           "Ulaanbaatar"
          ],
          "city": "Ulaanbaatar",
          "coordinates": {
           "latitude": 47.92839,
           "longitude": 106.92947
          },
          "count": 42349,
          "country": "MN",
          "countsByMeasurement": [
           {
            "count": 42349,
            "parameter": "pm25"
           }
          ],
          "firstUpdated": "2016-11-09T17:00:00.000Z",
          "id": "MN-13",
          "lastUpdated": "2020-10-09T14:00:00.000Z",
          "location": "US Diplomatic Post: Ulaanbaatar",
          "locations": [
           "US Diplomatic Post: Ulaanbaatar"
          ],
          "parameters": [
           "pm25"
          ],
          "sourceName": "StateAir_Ulaanbaatar",
          "sourceNames": [
           "StateAir_Ulaanbaatar"
          ],
          "sourceType": "government",
          "sourceTypes": [
           "government"
          ]
         },
         "type": "Feature"
        },
        {
         "geometry": {
          "coordinates": [
           106.90408,
           47.95143
          ],
          "type": "Point"
         },
         "properties": {
          "cities": [
           "Ulaanbaatar"
          ],
          "city": "Ulaanbaatar",
          "coordinates": {
           "latitude": 47.95143,
           "longitude": 106.90408
          },
          "count": 59570,
          "country": "MN",
          "countsByMeasurement": [
           {
            "count": 29808,
            "parameter": "no2"
           },
           {
            "count": 3,
            "parameter": "pm10"
           },
           {
            "count": 29759,
            "parameter": "so2"
           }
          ],
          "firstUpdated": "2016-12-24T00:00:00.000Z",
          "id": "MN-14",
          "lastUpdated": "2019-12-31T00:00:00.000Z",
          "location": "УБ-11",
          "locations": [
           "УБ-11"
          ],
          "parameters": [
           "no2",
           "pm10",
           "so2"
          ],
          "sourceName": "Tsag-Agaar.gov.mn",
          "sourceNames": [
           "Tsag-Agaar.gov.mn"
          ],
          "sourceType": "government",
          "sourceTypes": [
           "government"
          ]
         },
         "type": "Feature"
        },
        {
         "geometry": {
          "coordinates": [
           106.84806,
           47.91786
          ],
          "type": "Point"
         },
         "properties": {
          "cities": [
           "Ulaanbaatar"
          ],
          "city": "Ulaanbaatar",
          "coordinates": {
           "latitude": 47.91786,
           "longitude": 106.84806
          },
          "count": 89383,
          "country": "MN",
          "countsByMeasurement": [
           {
            "count": 47669,
            "parameter": "no2"
           },
           {
            "count": 41714,
            "parameter": "so2"
           }
          ],
          "firstUpdated": "2017-09-04T00:00:00.000Z",
          "id": "MN-17",
          "lastUpdated": "2018-01-08T00:00:00.000Z",
          "location": "УБ-3",
          "locations": [
           "УБ-3"
          ],
          "parameters": [
           "no2",
           "so2"
          ],
          "sourceName": "Tsag-Agaar.gov.mn",
          "sourceNames": [
           "Tsag-Agaar.gov.mn"
          ],
          "sourceType": "government",
          "sourceTypes": [
           "government"
          ]
         },
         "type": "Feature"
        },
        {
         "geometry": {
          "coordinates": [
           106.97203,
           47.91345
          ],
          "type": "Point"
         },
         "properties": {
          "cities": [
           "Ulaanbaatar"
          ],
          "city": "Ulaanbaatar",
          "coordinates": {
           "latitude": 47.91345,
           "longitude": 106.97203
          },
          "count": 51087,
          "country": "MN",
          "countsByMeasurement": [
           {
            "count": 25580,
            "parameter": "no2"
           },
           {
            "count": 25507,
            "parameter": "so2"
           }
          ],
          "firstUpdated": "2017-05-24T00:00:00.000Z",
          "id": "MN-16",
          "lastUpdated": "2019-12-31T00:00:00.000Z",
          "location": "УБ-6",
          "locations": [
           "УБ-6"
          ],
          "parameters": [
           "no2",
           "so2"
          ],
          "sourceName": "Tsag-Agaar.gov.mn",
          "sourceNames": [
           "Tsag-Agaar.gov.mn"
          ],
          "sourceType": "government",
          "sourceTypes": [
           "government"
          ]
         },
         "type": "Feature"
        },
        {
         "geometry": {
          "coordinates": [
           106.94051,
           47.98191
          ],
          "type": "Point"
         },
         "properties": {
          "cities": [
           "Ulaanbaatar"
          ],
          "city": "Ulaanbaatar",
          "coordinates": {
           "latitude": 47.98191,
           "longitude": 106.94051
          },
          "count": 69431,
          "country": "MN",
          "countsByMeasurement": [
           {
            "count": 34741,
            "parameter": "no2"
           },
           {
            "count": 34690,
            "parameter": "so2"
           }
          ],
          "firstUpdated": "2016-12-25T00:00:00.000Z",
          "id": "MN-15",
          "lastUpdated": "2019-11-30T00:00:00.000Z",
          "location": "УБ-9",
          "locations": [
           "УБ-9"
          ],
          "parameters": [
           "no2",
           "so2"
          ],
          "sourceName": "Tsag-Agaar.gov.mn",
          "sourceNames": [
           "Tsag-Agaar.gov.mn"
          ],
          "sourceType": "government",
          "sourceTypes": [
           "government"
          ]
         },
         "type": "Feature"
        },
        {
         "geometry": {
          "coordinates": [
           96.26234,
           46.37653
          ],
          "type": "Point"
         },
         "properties": {
          "cities": [
           "Алтай хот"
          ],
          "city": "Алтай хот",
          "coordinates": {
           "latitude": 46.37653,
           "longitude": 96.26234
          },
          "count": 102805,
          "country": "MN",
          "countsByMeasurement": [
           {
            "count": 51322,
            "parameter": "no2"
           },
           {
            "count": 162,
            "parameter": "pm10"
           },
           {
            "count": 51321,
            "parameter": "so2"
           }
          ],
          "firstUpdated": "2017-11-13T06:00:00.000Z",
          "id": "MN-41",
          "lastUpdated": "2019-12-31T12:00:00.000Z",
          "location": "Алтай",
          "locations": [
           "Алтай"
          ],
          "parameters": [
           "no2",
           "pm10",
           "so2"
          ],
          "sourceName": "Tsag-Agaar.gov.mn",
          "sourceNames": [
           "Tsag-Agaar.gov.mn"
          ],
          "sourceType": "government",
          "sourceTypes": [
           "government"
          ]
         },
         "type": "Feature"
        },
        {
         "geometry": {
          "coordinates": [
           102.78922,
           46.25891
          ],
          "type": "Point"
         },
         "properties": {
          "cities": [
           "Арвайхээр хот"
          ],
          "city": "Арвайхээр хот",
          "coordinates": {
           "latitude": 46.25891,
           "longitude": 102.78922
          },
          "count": 94293,
          "country": "MN",
          "countsByMeasurement": [
           {
            "count": 47115,
            "parameter": "no2"
           },
           {
            "count": 80,
            "parameter": "pm10"
           },
           {
            "count": 47098,
            "parameter": "so2"
           }
          ],
          "firstUpdated": "2017-10-13T06:00:00.000Z",
          "id": "MN-35",
          "lastUpdated": "2019-12-31T06:00:00.000Z",
          "location": "Арвайхээр",
          "locations": [
           "Арвайхээр"
          ],
          "parameters": [
           "no2",
           "pm10",
           "so2"
          ],
          "sourceName": "Tsag-Agaar.gov.mn",
          "sourceNames": [
           "Tsag-Agaar.gov.mn"
          ],
          "sourceType": "government",
          "sourceTypes": [
           "government"
          ]
         },
         "type": "Feature"
        },
        {
         "geometry": {
          "coordinates": [
           113.28025,
           46.68031
          ],
          "type": "Point"
         },
         "properties": {
          "cities": [
           "Баруун-Урт хот"
          ],
          "city": "Баруун-Урт хот",
          "coordinates": {
           "latitude": 46.68031,
           "longitude": 113.28025
          },
          "count": 143522,
          "country": "MN",
          "countsByMeasurement": [
           {
            "count": 67570,
            "parameter": "no2"
           },
           {
            "count": 8393,
            "parameter": "pm10"
           },
           {
            "count": 67559,
            "parameter": "so2"
           }
          ],
          "firstUpdated": "2017-10-13T06:00:00.000Z",
          "id": "MN-29",
          "lastUpdated": "2020-01-15T00:00:00.000Z",
          "location": "Баруун-Урт",
          "locations": [
           "Баруун-Урт"
          ],
          "parameters": [
           "no2",
           "pm10",
           "so2"
          ],
          "sourceName": "Tsag-Agaar.gov.mn",
          "sourceNames": [
           "Tsag-Agaar.gov.mn"
          ],
          "sourceType": "government",
          "sourceTypes": [
           "government"
          ]
         },
         "type": "Feature"
        },
        {
         "geometry": {
          "coordinates": [
           100.72009,
           46.19711
          ],
          "type": "Point"
         },
         "properties": {
          "cities": [
           "Баянхонгор хот"
          ],
          "city": "Баянхонгор хот",
          "coordinates": {
           "latitude": 46.19711,
           "longitude": 100.72009
          },
          "count": 14903,
          "country": "MN",
          "countsByMeasurement": [
           {
            "count": 9498,
            "parameter": "no2"
           },
           {
            "count": 61,
            "parameter": "pm10"
           },
           {
            "count": 5344,
            "parameter": "so2"
           }
          ],
          "firstUpdated": "2017-10-12T12:00:00.000Z",
          "id": "MN-22",
          "lastUpdated": "2020-01-08T00:00:00.000Z",
          "location": "Баянхонгор",
          "locations": [
           "Баянхонгор"
          ],
          "parameters": [
           "no2",
           "pm10",
           "so2"
          ],
          "sourceName": "Tsag-Agaar.gov.mn",
          "sourceNames": [
           "Tsag-Agaar.gov.mn"
          ],
          "sourceType": "government",
          "sourceTypes": [
           "government"
          ]
         },
         "type": "Feature"
        },
        {
         "geometry": {
          "coordinates": [
           103.51867,
           48.81822
          ],
          "type": "Point"
         },
         "properties": {
          "cities": [
           "Булган хот"
          ],
          "city": "Булган хот",
          "coordinates": {
           "latitude": 48.81822,
           "longitude": 103.51867
          },
          "count": 77429,
          "country": "MN",
          "countsByMeasurement": [
           {
            "count": 38726,
            "parameter": "no2"
           },
           {
            "count": 38703,
            "parameter": "so2"
           }
          ],
          "firstUpdated": "2017-10-13T06:00:00.000Z",
          "id": "MN-38",
          "lastUpdated": "2019-12-31T12:00:00.000Z",
          "location": "Булган",
          "locations": [
           "Булган"
          ],
          "parameters": [
           "no2",
           "so2"
          ],
          "sourceName": "Tsag-Agaar.gov.mn",
          "sourceNames": [
           "Tsag-Agaar.gov.mn"
          ],
          "sourceType": "government",
          "sourceTypes": [
           "government"
          ]
         },
         "type": "Feature"
        },
        {
         "geometry": {
          "coordinates": [
           104.42267,
           43.56761
          ],
          "type": "Point"
         },
         "properties": {
          "cities": [
           "Даланзадгад хот"
          ],
          "city": "Даланзадгад хот",
          "coordinates": {
           "latitude": 43.56761,
           "longitude": 104.42267
          },
          "count": 140725,
          "country": "MN",
          "countsByMeasurement": [
           {
            "count": 68218,
            "parameter": "no2"
           },
           {
            "count": 4318,
            "parameter": "pm10"
           },
           {
            "count": 68189,
            "parameter": "so2"
           }
          ],
          "firstUpdated": "2017-10-13T06:00:00.000Z",
          "id": "MN-34",
          "lastUpdated": "2019-12-31T00:00:00.000Z",
          "location": "Даланзадгад",
          "locations": [
           "Даланзадгад"
          ],
          "parameters": [
           "no2",
           "pm10",
           "so2"
          ],
          "sourceName": "Tsag-Agaar.gov.mn",
          "sourceNames": [
           "Tsag-Agaar.gov.mn"
          ],
          "sourceType": "government",
          "sourceTypes": [
           "government"
          ]
         },
         "type": "Feature"
        },
        {
         "geometry": {
          "coordinates": [
           105.9065,
           49.49039
          ],
          "type": "Point"
         },
         "properties": {
          "cities": [
           "Дархан хот"
          ],
          "city": "Дархан хот",
          "coordinates": {
           "latitude": 49.49039,
           "longitude": 105.9065
          },
          "count": 119995,
          "country": "MN",
          "countsByMeasurement": [
           {
            "count": 51410,
            "parameter": "no2"
           },
           {
            "count": 17175,
            "parameter": "pm10"
           },
           {
            "count": 51410,
            "parameter": "so2"
           }
          ],
          "firstUpdated": "2017-10-13T06:00:00.000Z",
          "id": "MN-28",
          "lastUpdated": "2019-12-31T12:00:00.000Z",
          "location": "Дархан",
          "locations": [
           "Дархан"
          ],
          "parameters": [
           "no2",
           "pm10",
           "so2"
          ],
          "sourceName": "Tsag-Agaar.gov.mn",
          "sourceNames": [
           "Tsag-Agaar.gov.mn"
          ],
          "sourceType": "government",
          "sourceTypes": [
           "government"
          ]
         },
         "type": "Feature"
        },
        {
         "geometry": {
          "coordinates": [
           106.95365,
           47.71039
          ],
          "type": "Point"
         },
         "properties": {
          "cities": [
           "Зуунмод хот"
          ],
          "city": "Зуунмод хот",
          "coordinates": {
           "latitude": 47.71039,
           "longitude": 106.95365
          },
          "count": 77581,
          "country": "MN",
          "countsByMeasurement": [
           {
            "count": 38796,
            "parameter": "no2"
           },
           {
            "count": 38785,
            "parameter": "so2"
           }
          ],
          "firstUpdated": "2017-10-13T06:00:00.000Z",
          "id": "MN-33",
          "lastUpdated": "2019-12-31T12:00:00.000Z",
          "location": "Зуунмод",
          "locations": [
           "Зуунмод"
          ],
          "parameters": [
           "no2",
           "so2"
          ],
          "sourceName": "Tsag-Agaar.gov.mn",
          "sourceNames": [
           "Tsag-Agaar.gov.mn"
          ],
          "sourceType": "government",
          "sourceTypes": [
           "government"
          ]
         },
         "type": "Feature"
        },
        {
         "geometry": {
          "coordinates": [
           106.27489,
           45.76711
          ],
          "type": "Point"
         },
         "properties": {
          "cities": [
           "Мандалговь хот"
          ],
          "city": "Мандалговь хот",
          "coordinates": {
           "latitude": 45.76711,
           "longitude": 106.27489
          },
          "count": 102653,
          "country": "MN",
          "countsByMeasurement": [
           {
            "count": 51327,
            "parameter": "no2"
           },
           {
            "count": 51326,
            "parameter": "so2"
           }
          ],
          "firstUpdated": "2017-10-13T06:00:00.000Z",
          "id": "MN-31",
          "lastUpdated": "2019-12-31T12:00:00.000Z",
          "location": "Мандалговь",
          "locations": [
           "Мандалговь"
          ],
          "parameters": [
           "no2",
           "so2"
          ],
          "sourceName": "Tsag-Agaar.gov.mn",
          "sourceNames": [
           "Tsag-Agaar.gov.mn"
          ],
          "sourceType": "government",
          "sourceTypes": [
           "government"
          ]
         },
         "type": "Feature"
        },
        {
         "geometry": {
          "coordinates": [
           106.85,
           48.86666
          ],
          "type": "Point"
         },
         "properties": {
          "cities": [
           "Мандал сум"
          ],
          "city": "Мандал сум",
          "coordinates": {
           "latitude": 48.86666,
           "longitude": 106.85
          },
          "count": 102671,
          "country": "MN",
          "countsByMeasurement": [
           {
            "count": 51336,
            "parameter": "no2"
           },
           {
            "count": 51335,
            "parameter": "so2"
           }
          ],
          "firstUpdated": "2017-10-13T06:00:00.000Z",
          "id": "MN-39",
          "lastUpdated": "2019-12-31T12:00:00.000Z",
          "location": "Зүүнхараа",
          "locations": [
           "Зүүнхараа"
          ],
          "parameters": [
           "no2",
           "so2"
          ],
          "sourceName": "Tsag-Agaar.gov.mn",
          "sourceNames": [
           "Tsag-Agaar.gov.mn"
          ],
          "sourceType": "government",
          "sourceTypes": [
           "government"
          ]
         },
         "type": "Feature"
        },
        {
         "geometry": {
          "coordinates": [
           100.16653,
           49.63886
          ],
          "type": "Point"
         },
         "properties": {
          "cities": [
           "Мөрөн хот"
          ],
          "city": "Мөрөн хот",
          "coordinates": {
           "latitude": 49.63886,
           "longitude": 100.16653
          },
          "count": 4009,
          "country": "MN",
          "countsByMeasurement": [
           {
            "count": 1694,
            "parameter": "no2"
           },
           {
            "count": 621,
            "parameter": "pm10"
           },
           {
            "count": 1694,
            "parameter": "so2"
           }
          ],
          "firstUpdated": "2017-10-13T06:00:00.000Z",
          "id": "MN-37",
          "lastUpdated": "2020-01-13T00:00:00.000Z",
          "location": "Мөрөн",
          "locations": [
           "Мөрөн"
          ],
          "parameters": [
           "no2",
           "pm10",
           "so2"
          ],
          "sourceName": "Tsag-Agaar.gov.mn",
          "sourceNames": [
           "Tsag-Agaar.gov.mn"
          ],
          "sourceType": "government",
          "sourceTypes": [
           "government"
          ]
         },
         "type": "Feature"
        },
        {
         "geometry": {
          "coordinates": [
           89.96494,
           48.9692
          ],
          "type": "Point"
         },
         "properties": {
          "cities": [
           "Өлгий хот"
          ],
          "city": "Өлгий хот",
          "coordinates": {
           "latitude": 48.9692,
           "longitude": 89.96494
          },
          "count": 110373,
          "country": "MN",
          "countsByMeasurement": [
           {
            "count": 55198,
            "parameter": "no2"
           },
           {
            "count": 55175,
            "parameter": "so2"
           }
          ],
          "firstUpdated": "2017-10-13T12:00:00.000Z",
          "id": "MN-40",
          "lastUpdated": "2019-12-31T12:00:00.000Z",
          "location": "Өлгий",
          "locations": [
           "Өлгий"
          ],
          "parameters": [
           "no2",
           "so2"
          ],
          "sourceName": "Tsag-Agaar.gov.mn",
          "sourceNames": [
           "Tsag-Agaar.gov.mn"
          ],
          "sourceType": "government",
          "sourceTypes": [
           "government"
          ]
         },
         "type": "Feature"
        },
        {
         "geometry": {
          "coordinates": [
           110.14639,
           45.06664
          ],
          "type": "Point"
         },
         "properties": {
          "cities": [
           "Сайншанд хот"
          ],
          "city": "Сайншанд хот",
          "coordinates": {
           "latitude": 45.06664,
           "longitude": 110.14639
          },
          "count": 82006,
          "country": "MN",
          "countsByMeasurement": [
           {
            "count": 38823,
            "parameter": "no2"
           },
           {
            "count": 4360,
            "parameter": "pm10"
           },
           {
            "count": 38823,
            "parameter": "so2"
           }
          ],
          "firstUpdated": "2017-10-13T06:00:00.000Z",
          "id": "MN-23",
          "lastUpdated": "2019-12-31T12:00:00.000Z",
          "location": "Сайншанд",
          "locations": [
           "Сайншанд"
          ],
          "parameters": [
           "no2",
           "pm10",
           "so2"
          ],
          "sourceName": "Tsag-Agaar.gov.mn",
          "sourceNames": [
           "Tsag-Agaar.gov.mn"
          ],
          "sourceType": "government",
          "sourceTypes": [
           "government"
          ]
         },
         "type": "Feature"
        },
        {
         "geometry": {
          "coordinates": [
           106.19278,
           50.23969
          ],
          "type": "Point"
         },
         "properties": {
          "cities": [
           "Сүхбаатар хот"
          ],
          "city": "Сүхбаатар хот",
          "coordinates": {
           "latitude": 50.23969,
           "longitude": 106.19278
          },
          "count": 102915,
          "country": "MN",
          "countsByMeasurement": [
           {
            "count": 51454,
            "parameter": "no2"
           },
           {
            "count": 10,
            "parameter": "pm10"
           },
           {
            "count": 51451,
            "parameter": "so2"
           }
          ],
          "firstUpdated": "2017-10-13T06:00:00.000Z",
          "id": "MN-36",
          "lastUpdated": "2019-12-31T12:00:00.000Z",
          "location": "Сүхбаатар",
          "locations": [
           "Сүхбаатар"
          ],
          "parameters": [
           "no2",
           "pm10",
           "so2"
          ],
          "sourceName": "Tsag-Agaar.gov.mn",
          "sourceNames": [
           "Tsag-Agaar.gov.mn"
          ],
          "sourceType": "government",
          "sourceTypes": [
           "government"
          ]
         },
         "type": "Feature"
        },
        {
         "geometry": {
          "coordinates": [
           92.07736,
           49.97194
          ],
          "type": "Point"
         },
         "properties": {
          "cities": [
           "Улаангом хот"
          ],
          "city": "Улаангом хот",
          "coordinates": {
           "latitude": 49.97194,
           "longitude": 92.07736
          },
          "count": 136781,
          "country": "MN",
          "countsByMeasurement": [
           {
            "count": 68306,
            "parameter": "no2"
           },
           {
            "count": 166,
            "parameter": "pm10"
           },
           {
            "count": 68309,
            "parameter": "so2"
           }
          ],
          "firstUpdated": "2017-10-13T06:00:00.000Z",
          "id": "MN-30",
          "lastUpdated": "2019-12-31T00:00:00.000Z",
          "location": "Улаангом",
          "locations": [
           "Улаангом"
          ],
          "parameters": [
           "no2",
           "pm10",
           "so2"
          ],
          "sourceName": "Tsag-Agaar.gov.mn",
          "sourceNames": [
           "Tsag-Agaar.gov.mn"
          ],
          "sourceType": "government",
          "sourceTypes": [
           "government"
          ]
         },
         "type": "Feature"
        },
        {
         "geometry": {
          "coordinates": [
           96.84739,
           47.72689
          ],
          "type": "Point"
         },
         "properties": {
          "cities": [
           "Улиастай хот"
          ],
          "city": "Улиастай хот",
          "coordinates": {
           "latitude": 47.72689,
           "longitude": 96.84739
          },
          "count": 81915,
          "country": "MN",
          "countsByMeasurement": [
           {
            "count": 38780,
            "parameter": "no2"
           },
           {
            "count": 4360,
            "parameter": "pm10"
           },
           {
            "count": 38775,
            "parameter": "so2"
           }
          ],
          "firstUpdated": "2017-10-13T06:00:00.000Z",
          "id": "MN-25",
          "lastUpdated": "2019-12-31T12:00:00.000Z",
          "location": "Улиастай",
          "locations": [
           "Улиастай"
          ],
          "parameters": [
           "no2",
           "pm10",
           "so2"
          ],
          "sourceName": "Tsag-Agaar.gov.mn",
          "sourceNames": [
           "Tsag-Agaar.gov.mn"
          ],
          "sourceType": "government",
          "sourceTypes": [
           "government"
          ]
         },
         "type": "Feature"
        },
        {
         "geometry": {
          "coordinates": [
           91.63392,
           47.996
          ],
          "type": "Point"
         },
         "properties": {
          "cities": [
           "Ховд хот"
          ],
          "city": "Ховд хот",
          "coordinates": {
           "latitude": 47.996,
           "longitude": 91.63392
          },
          "count": 166135,
          "country": "MN",
          "countsByMeasurement": [
           {
            "count": 76700,
            "parameter": "no2"
           },
           {
            "count": 12763,
            "parameter": "pm10"
           },
           {
            "count": 76672,
            "parameter": "so2"
           }
          ],
          "firstUpdated": "2017-10-13T06:00:00.000Z",
          "id": "MN-24",
          "lastUpdated": "2019-12-31T12:00:00.000Z",
          "location": "Ховд",
          "locations": [
           "Ховд"
          ],
          "parameters": [
           "no2",
           "pm10",
           "so2"
          ],
          "sourceName": "Tsag-Agaar.gov.mn",
          "sourceNames": [
           "Tsag-Agaar.gov.mn"
          ],
          "sourceType": "government",
          "sourceTypes": [
           "government"
          ]
         },
         "type": "Feature"
        },
        {
         "geometry": {
          "coordinates": [
           101.46245,
           47.47219
          ],
          "type": "Point"
         },
         "properties": {
          "cities": [
           "Цэцэрлэг хот"
          ],
          "city": "Цэцэрлэг хот",
          "coordinates": {
           "latitude": 47.47219,
           "longitude": 101.46245
          },
          "count": 153183,
          "country": "MN",
          "countsByMeasurement": [
           {
            "count": 76632,
            "parameter": "no2"
           },
           {
            "count": 76551,
            "parameter": "so2"
           }
          ],
          "firstUpdated": "2017-10-13T06:00:00.000Z",
          "id": "MN-32",
          "lastUpdated": "2019-12-31T12:00:00.000Z",
          "location": "Цэцэрлэг",
          "locations": [
           "Цэцэрлэг"
          ],
          "parameters": [
           "no2",
           "so2"
          ],
          "sourceName": "Tsag-Agaar.gov.mn",
          "sourceNames": [
           "Tsag-Agaar.gov.mn"
          ],
          "sourceType": "government",
          "sourceTypes": [
           "government"
          ]
         },
         "type": "Feature"
        },
        {
         "geometry": {
          "coordinates": [
           110.64867,
           47.32397
          ],
          "type": "Point"
         },
         "properties": {
          "cities": [
           "Чингис хот"
          ],
          "city": "Чингис хот",
          "coordinates": {
           "latitude": 47.32397,
           "longitude": 110.64867
          },
          "count": 43892,
          "country": "MN",
          "countsByMeasurement": [
           {
            "count": 26215,
            "parameter": "no2"
           },
           {
            "count": 17677,
            "parameter": "so2"
           }
          ],
          "firstUpdated": "2017-09-26T00:00:00.000Z",
          "id": "MN-18",
          "lastUpdated": "2019-12-31T12:00:00.000Z",
          "location": "Өндөрхаан",
          "locations": [
           "Өндөрхаан"
          ],
          "parameters": [
           "no2",
           "so2"
          ],
          "sourceName": "Tsag-Agaar.gov.mn",
          "sourceNames": [
           "Tsag-Agaar.gov.mn"
          ],
          "sourceType": "government",
          "sourceTypes": [
           "government"
          ]
         },
         "type": "Feature"
        },
        {
         "geometry": {
          "coordinates": [
           114.53758,
           48.08055
          ],
          "type": "Point"
         },
         "properties": {
          "cities": [
           "Чойбалсан хот"
          ],
          "city": "Чойбалсан хот",
          "coordinates": {
           "latitude": 48.08055,
           "longitude": 114.53758
          },
          "count": 153134,
          "country": "MN",
          "countsByMeasurement": [
           {
            "count": 76597,
            "parameter": "no2"
           },
           {
            "count": 76537,
            "parameter": "so2"
           }
          ],
          "firstUpdated": "2017-10-13T06:00:00.000Z",
          "id": "MN-27",
          "lastUpdated": "2019-12-31T12:00:00.000Z",
          "location": "Чойбалсан",
          "locations": [
           "Чойбалсан"
          ],
          "parameters": [
           "no2",
           "so2"
          ],
          "sourceName": "Tsag-Agaar.gov.mn",
          "sourceNames": [
           "Tsag-Agaar.gov.mn"
          ],
          "sourceType": "government",
          "sourceTypes": [
           "government"
          ]
         },
         "type": "Feature"
        },
        {
         "geometry": {
          "coordinates": [
           108.24611,
           46.35778
          ],
          "type": "Point"
         },
         "properties": {
          "cities": [
           "Чойр хот"
          ],
          "city": "Чойр хот",
          "coordinates": {
           "latitude": 46.35778,
           "longitude": 108.24611
          },
          "count": 93929,
          "country": "MN",
          "countsByMeasurement": [
           {
            "count": 46965,
            "parameter": "no2"
           },
           {
            "count": 46964,
            "parameter": "so2"
           }
          ],
          "firstUpdated": "2017-10-13T06:00:00.000Z",
          "id": "MN-26",
          "lastUpdated": "2019-12-31T12:00:00.000Z",
          "location": "Чойр",
          "locations": [
           "Чойр"
          ],
          "parameters": [
           "no2",
           "so2"
          ],
          "sourceName": "Tsag-Agaar.gov.mn",
          "sourceNames": [
           "Tsag-Agaar.gov.mn"
          ],
          "sourceType": "government",
          "sourceTypes": [
           "government"
          ]
         },
         "type": "Feature"
        },
        {
         "geometry": {
          "coordinates": [
           106.41189,
           49.26144
          ],
          "type": "Point"
         },
         "properties": {
          "cities": [
           "Шарын гол сум"
          ],
          "city": "Шарын гол сум",
          "coordinates": {
           "latitude": 49.26144,
           "longitude": 106.41189
          },
          "count": 2226,
          "country": "MN",
          "countsByMeasurement": [
           {
            "count": 1108,
            "parameter": "no2"
           },
           {
            "count": 10,
            "parameter": "pm10"
           },
           {
            "count": 1108,
            "parameter": "so2"
           }
          ],
          "firstUpdated": "2017-10-12T06:00:00.000Z",
          "id": "MN-20",
          "lastUpdated": "2019-12-16T06:00:00.000Z",
          "location": "Шарын гол",
          "locations": [
           "Шарын гол"
          ],
          "parameters": [
           "no2",
           "pm10",
           "so2"
          ],
          "sourceName": "Tsag-Agaar.gov.mn",
          "sourceNames": [
           "Tsag-Agaar.gov.mn"
          ],
          "sourceType": "government",
          "sourceTypes": [
           "government"
          ]
         },
         "type": "Feature"
        },
        {
         "geometry": {
          "coordinates": [
           104.04528,
           49.01939
          ],
          "type": "Point"
         },
         "properties": {
          "cities": [
           "Erdenet city",
           "Эрдэнэт хот"
          ],
          "city": "Эрдэнэт хот",
          "coordinates": {
           "latitude": 49.01939,
           "longitude": 104.04528
          },
          "count": 102903,
          "country": "MN",
          "countsByMeasurement": [
           {
            "count": 51334,
            "parameter": "no2"
           },
           {
            "count": 250,
            "parameter": "pm10"
           },
           {
            "count": 51319,
            "parameter": "so2"
           }
          ],
          "firstUpdated": "2017-10-12T06:00:00.000Z",
          "id": "MN-19",
          "lastUpdated": "2019-12-31T12:00:00.000Z",
          "location": "Эрдэнэт1",
          "locations": [
           "Эрдэнэт1"
          ],
          "parameters": [
           "no2",
           "pm10",
           "so2"
          ],
          "sourceName": "Tsag-Agaar.gov.mn",
          "sourceNames": [
           "Tsag-Agaar.gov.mn"
          ],
          "sourceType": "government",
          "sourceTypes": [
           "government"
          ]
         },
         "type": "Feature"
        },
        {
         "geometry": {
          "coordinates": [
           104.02814,
           49.01706
          ],
          "type": "Point"
         },
         "properties": {
          "cities": [
           "Erdenet city",
           "Эрдэнэт хот"
          ],
          "city": "Эрдэнэт хот",
          "coordinates": {
           "latitude": 49.01706,
           "longitude": 104.02814
          },
          "count": 102651,
          "country": "MN",
          "countsByMeasurement": [
           {
            "count": 51337,
            "parameter": "no2"
           },
           {
            "count": 2,
            "parameter": "pm10"
           },
           {
            "count": 51312,
            "parameter": "so2"
           }
          ],
          "firstUpdated": "2017-10-12T06:00:00.000Z",
          "id": "MN-21",
          "lastUpdated": "2019-12-31T12:00:00.000Z",
          "location": "Эрдэнэт2",
          "locations": [
           "Эрдэнэт2"
          ],
          "parameters": [
           "no2",
           "pm10",
           "so2"
          ],
          "sourceName": "Tsag-Agaar.gov.mn",
          "sourceNames": [
           "Tsag-Agaar.gov.mn"
          ],
          "sourceType": "government",
          "sourceTypes": [
           "government"
          ]
         },
         "type": "Feature"
        }
       ],
       "type": "FeatureCollection"
      },
      "text/plain": [
       "<IPython.display.GeoJSON object>"
      ]
     },
     "metadata": {
      "application/geo+json": {
       "expanded": false,
       "root": "root"
      }
     },
     "output_type": "display_data"
    }
   ],
   "source": [
    "stations = httpx.get(\"https://openaq-geojson.herokuapp.com?country=MN\").json()\n",
    "GeoJSON(stations)"
   ]
  },
  {
   "cell_type": "code",
   "execution_count": null,
   "metadata": {},
   "outputs": [],
   "source": []
  }
 ],
 "metadata": {
  "kernelspec": {
   "display_name": "Python 3",
   "language": "python",
   "name": "python3"
  },
  "language_info": {
   "codemirror_mode": {
    "name": "ipython",
    "version": 3
   },
   "file_extension": ".py",
   "mimetype": "text/x-python",
   "name": "python",
   "nbconvert_exporter": "python",
   "pygments_lexer": "ipython3",
   "version": "3.9.0"
  }
 },
 "nbformat": 4,
 "nbformat_minor": 4
}

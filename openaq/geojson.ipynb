{
 "cells": [
  {
   "cell_type": "markdown",
   "metadata": {},
   "source": [
    "# GeoJSON"
   ]
  },
  {
   "cell_type": "markdown",
   "metadata": {},
   "source": [
    "- To render GeoJSON in Jupyter, use [geojson-extension](https://github.com/jupyterlab/jupyter-renderers/tree/master/packages/geojson-extension)\n",
    "- Python [geojson](https://github.com/jazzband/geojson) library"
   ]
  },
  {
   "cell_type": "code",
   "execution_count": 3,
   "metadata": {},
   "outputs": [
    {
     "data": {
      "application/geo+json": {
       "geometry": {
        "coordinates": [
         -118.4563712,
         34.0163116
        ],
        "type": "Point"
       },
       "type": "Feature"
      },
      "text/plain": [
       "<IPython.display.GeoJSON object>"
      ]
     },
     "metadata": {
      "application/geo+json": {
       "expanded": false,
       "root": "root"
      }
     },
     "output_type": "display_data"
    }
   ],
   "source": [
    "from IPython.display import GeoJSON\n",
    "\n",
    "GeoJSON({\n",
    "    \"type\": \"Feature\",\n",
    "    \"geometry\": {\n",
    "        \"type\": \"Point\",\n",
    "        \"coordinates\": [-118.4563712, 34.0163116]\n",
    "    }\n",
    "})"
   ]
  },
  {
   "cell_type": "markdown",
   "metadata": {},
   "source": [
    "# Create GeoJSON from unstructured geo data"
   ]
  },
  {
   "cell_type": "code",
   "execution_count": 10,
   "metadata": {},
   "outputs": [],
   "source": [
    "import httpx"
   ]
  },
  {
   "cell_type": "code",
   "execution_count": 27,
   "metadata": {},
   "outputs": [],
   "source": [
    "STATIONS_URL = \"https://api.openaq.org/v1/locations?limit=10000&country=DE&city=Berlin&has_geo=true\""
   ]
  },
  {
   "cell_type": "code",
   "execution_count": 32,
   "metadata": {},
   "outputs": [],
   "source": [
    "stations = httpx.get(STATIONS_URL).json()['results']"
   ]
  },
  {
   "cell_type": "code",
   "execution_count": 29,
   "metadata": {},
   "outputs": [
    {
     "data": {
      "application/geo+json": {
       "features": [
        {
         "geometry": {
          "coordinates": [
           13.34933,
           52.54304
          ],
          "type": "Point"
         },
         "properties": {
          "cities": [
           "Rainer Nothard",
           "Berlin"
          ],
          "city": "Berlin",
          "coordinates": {
           "latitude": 52.54304,
           "longitude": 13.34933
          },
          "count": 30488,
          "country": "DE",
          "countsByMeasurement": [
           {
            "count": 10034,
            "parameter": "no2"
           },
           {
            "count": 10324,
            "parameter": "o3"
           },
           {
            "count": 10130,
            "parameter": "pm10"
           }
          ],
          "firstUpdated": "2016-11-21T13:00:00.000Z",
          "id": "DE-363",
          "lastUpdated": "2020-10-09T05:00:00.000Z",
          "location": "DEBE010",
          "locations": [
           "B Wedding-Amrumer Str.",
           "DEBE010"
          ],
          "parameters": [
           "no2",
           "o3",
           "pm10"
          ],
          "sourceName": "EEA Germany",
          "sourceNames": [
           "EEA Germany"
          ],
          "sourceType": "government",
          "sourceTypes": [
           "government"
          ]
         },
         "type": "Feature"
        },
        {
         "geometry": {
          "coordinates": [
           13.34877,
           52.48581
          ],
          "type": "Point"
         },
         "properties": {
          "cities": [
           "Rainer Nothard",
           "Berlin"
          ],
          "city": "Berlin",
          "coordinates": {
           "latitude": 52.48581,
           "longitude": 13.34877
          },
          "count": 10002,
          "country": "DE",
          "countsByMeasurement": [
           {
            "count": 10002,
            "parameter": "no2"
           }
          ],
          "firstUpdated": "2016-11-21T13:00:00.000Z",
          "id": "DE-362",
          "lastUpdated": "2020-10-09T05:00:00.000Z",
          "location": "DEBE018",
          "locations": [
           "B Schöneberg-Belziger Straße",
           "B Sch�neberg-Belziger Stra�e",
           "DEBE018"
          ],
          "parameters": [
           "no2"
          ],
          "sourceName": "EEA Germany",
          "sourceNames": [
           "EEA Germany"
          ],
          "sourceType": "government",
          "sourceTypes": [
           "government"
          ]
         },
         "type": "Feature"
        },
        {
         "geometry": {
          "coordinates": [
           13.3681,
           52.39841
          ],
          "type": "Point"
         },
         "properties": {
          "cities": [
           "Rainer Nothard",
           "Berlin"
          ],
          "city": "Berlin",
          "coordinates": {
           "latitude": 52.39841,
           "longitude": 13.3681
          },
          "count": 19612,
          "country": "DE",
          "countsByMeasurement": [
           {
            "count": 9715,
            "parameter": "no2"
           },
           {
            "count": 9897,
            "parameter": "o3"
           }
          ],
          "firstUpdated": "2016-11-21T13:00:00.000Z",
          "id": "DE-354",
          "lastUpdated": "2020-10-09T05:00:00.000Z",
          "location": "DEBE027",
          "locations": [
           "B Marienfelde-Schichauweg",
           "DEBE027"
          ],
          "parameters": [
           "no2",
           "o3"
          ],
          "sourceName": "EEA Germany",
          "sourceNames": [
           "EEA Germany"
          ],
          "sourceType": "government",
          "sourceTypes": [
           "government"
          ]
         },
         "type": "Feature"
        },
        {
         "geometry": {
          "coordinates": [
           13.22514,
           52.47319
          ],
          "type": "Point"
         },
         "properties": {
          "cities": [
           "Rainer Nothard",
           "Berlin"
          ],
          "city": "Berlin",
          "coordinates": {
           "latitude": 52.47319,
           "longitude": 13.22514
          },
          "count": 30154,
          "country": "DE",
          "countsByMeasurement": [
           {
            "count": 9949,
            "parameter": "no2"
           },
           {
            "count": 10312,
            "parameter": "o3"
           },
           {
            "count": 9893,
            "parameter": "pm10"
           }
          ],
          "firstUpdated": "2016-11-21T13:00:00.000Z",
          "id": "DE-358",
          "lastUpdated": "2020-10-09T05:00:00.000Z",
          "location": "DEBE032",
          "locations": [
           "B Grunewald (3.5 m)",
           "DEBE032"
          ],
          "parameters": [
           "no2",
           "o3",
           "pm10"
          ],
          "sourceName": "EEA Germany",
          "sourceNames": [
           "EEA Germany"
          ],
          "sourceType": "government",
          "sourceTypes": [
           "government"
          ]
         },
         "type": "Feature"
        },
        {
         "geometry": {
          "coordinates": [
           13.43084,
           52.48945
          ],
          "type": "Point"
         },
         "properties": {
          "cities": [
           "Rainer Nothard",
           "Berlin"
          ],
          "city": "Berlin",
          "coordinates": {
           "latitude": 52.48945,
           "longitude": 13.43084
          },
          "count": 30256,
          "country": "DE",
          "countsByMeasurement": [
           {
            "count": 9957,
            "parameter": "no2"
           },
           {
            "count": 10245,
            "parameter": "o3"
           },
           {
            "count": 10054,
            "parameter": "pm10"
           }
          ],
          "firstUpdated": "2016-11-21T11:00:00.000Z",
          "id": "DE-281",
          "lastUpdated": "2020-10-09T05:00:00.000Z",
          "location": "DEBE034",
          "locations": [
           "B Neukölln-Nansenstraße",
           "B Neuk�lln-Nansenstra�e",
           "DEBE034"
          ],
          "parameters": [
           "no2",
           "o3",
           "pm10"
          ],
          "sourceName": "EEA Germany",
          "sourceNames": [
           "EEA Germany"
          ],
          "sourceType": "government",
          "sourceTypes": [
           "government"
          ]
         },
         "type": "Feature"
        },
        {
         "geometry": {
          "coordinates": [
           13.48953,
           52.64352
          ],
          "type": "Point"
         },
         "properties": {
          "cities": [
           "Rainer Nothard",
           "Berlin"
          ],
          "city": "Berlin",
          "coordinates": {
           "latitude": 52.64352,
           "longitude": 13.48953
          },
          "count": 29941,
          "country": "DE",
          "countsByMeasurement": [
           {
            "count": 9787,
            "parameter": "no2"
           },
           {
            "count": 10142,
            "parameter": "o3"
           },
           {
            "count": 10012,
            "parameter": "pm10"
           }
          ],
          "firstUpdated": "2016-11-21T11:00:00.000Z",
          "id": "DE-51",
          "lastUpdated": "2020-10-09T05:00:00.000Z",
          "location": "DEBE051",
          "locations": [
           "B Buch",
           "DEBE051"
          ],
          "parameters": [
           "no2",
           "o3",
           "pm10"
          ],
          "sourceName": "EEA Germany",
          "sourceNames": [
           "EEA Germany"
          ],
          "sourceType": "government",
          "sourceTypes": [
           "government"
          ]
         },
         "type": "Feature"
        },
        {
         "geometry": {
          "coordinates": [
           13.64705,
           52.4477
          ],
          "type": "Point"
         },
         "properties": {
          "cities": [
           "Rainer Nothard",
           "Berlin"
          ],
          "city": "Berlin",
          "coordinates": {
           "latitude": 52.4477,
           "longitude": 13.64705
          },
          "count": 29287,
          "country": "DE",
          "countsByMeasurement": [
           {
            "count": 9611,
            "parameter": "no2"
           },
           {
            "count": 9945,
            "parameter": "o3"
           },
           {
            "count": 9731,
            "parameter": "pm10"
           }
          ],
          "firstUpdated": "2016-11-21T11:00:00.000Z",
          "id": "DE-69",
          "lastUpdated": "2020-10-09T05:00:00.000Z",
          "location": "DEBE056",
          "locations": [
           "B Friedrichshagen",
           "DEBE056"
          ],
          "parameters": [
           "no2",
           "o3",
           "pm10"
          ],
          "sourceName": "EEA Germany",
          "sourceNames": [
           "EEA Germany"
          ],
          "sourceType": "government",
          "sourceTypes": [
           "government"
          ]
         },
         "type": "Feature"
        },
        {
         "geometry": {
          "coordinates": [
           13.31825,
           52.46361
          ],
          "type": "Point"
         },
         "properties": {
          "cities": [
           "Rainer Nothard",
           "Berlin"
          ],
          "city": "Berlin",
          "coordinates": {
           "latitude": 52.46361,
           "longitude": 13.31825
          },
          "count": 30602,
          "country": "DE",
          "countsByMeasurement": [
           {
            "count": 10605,
            "parameter": "co"
           },
           {
            "count": 9886,
            "parameter": "no2"
           },
           {
            "count": 10111,
            "parameter": "pm10"
           }
          ],
          "firstUpdated": "2016-11-21T11:00:00.000Z",
          "id": "DE-242",
          "lastUpdated": "2020-10-09T05:00:00.000Z",
          "location": "DEBE061",
          "locations": [
           "B Steglitz-Schildhornstr.",
           "DEBE061"
          ],
          "parameters": [
           "co",
           "no2",
           "pm10"
          ],
          "sourceName": "EEA Germany",
          "sourceNames": [
           "EEA Germany"
          ],
          "sourceType": "government",
          "sourceTypes": [
           "government"
          ]
         },
         "type": "Feature"
        },
        {
         "geometry": {
          "coordinates": [
           13.29608,
           52.65327
          ],
          "type": "Point"
         },
         "properties": {
          "cities": [
           "Rainer Nothard",
           "Berlin"
          ],
          "city": "Berlin",
          "coordinates": {
           "latitude": 52.65327,
           "longitude": 13.29608
          },
          "count": 20291,
          "country": "DE",
          "countsByMeasurement": [
           {
            "count": 9992,
            "parameter": "no2"
           },
           {
            "count": 10299,
            "parameter": "o3"
           }
          ],
          "firstUpdated": "2016-11-21T13:00:00.000Z",
          "id": "DE-356",
          "lastUpdated": "2020-10-09T05:00:00.000Z",
          "location": "DEBE062",
          "locations": [
           "B Frohnau, Funkturm (3.5 m)",
           "DEBE062"
          ],
          "parameters": [
           "no2",
           "o3"
          ],
          "sourceName": "EEA Germany",
          "sourceNames": [
           "EEA Germany"
          ],
          "sourceType": "government",
          "sourceTypes": [
           "government"
          ]
         },
         "type": "Feature"
        },
        {
         "geometry": {
          "coordinates": [
           13.44165,
           52.46753
          ],
          "type": "Point"
         },
         "properties": {
          "cities": [
           "Rainer Nothard",
           "Berlin"
          ],
          "city": "Berlin",
          "coordinates": {
           "latitude": 52.46753,
           "longitude": 13.44165
          },
          "count": 20050,
          "country": "DE",
          "countsByMeasurement": [
           {
            "count": 9975,
            "parameter": "no2"
           },
           {
            "count": 10075,
            "parameter": "pm10"
           }
          ],
          "firstUpdated": "2016-11-21T11:00:00.000Z",
          "id": "DE-87",
          "lastUpdated": "2020-10-09T05:00:00.000Z",
          "location": "DEBE063",
          "locations": [
           "B Neukölln-Silbersteinstr.",
           "B Neuk�lln-Silbersteinstr.",
           "DEBE063"
          ],
          "parameters": [
           "no2",
           "pm10"
          ],
          "sourceName": "EEA Germany",
          "sourceNames": [
           "EEA Germany"
          ],
          "sourceType": "government",
          "sourceTypes": [
           "government"
          ]
         },
         "type": "Feature"
        },
        {
         "geometry": {
          "coordinates": [
           13.43397,
           52.48171
          ],
          "type": "Point"
         },
         "properties": {
          "cities": [
           "Rainer Nothard",
           "Berlin"
          ],
          "city": "Berlin",
          "coordinates": {
           "latitude": 52.48171,
           "longitude": 13.43397
          },
          "count": 20004,
          "country": "DE",
          "countsByMeasurement": [
           {
            "count": 9935,
            "parameter": "no2"
           },
           {
            "count": 10069,
            "parameter": "pm10"
           }
          ],
          "firstUpdated": "2016-11-21T11:00:00.000Z",
          "id": "DE-252",
          "lastUpdated": "2020-10-09T05:00:00.000Z",
          "location": "DEBE064",
          "locations": [
           "B Neukölln-Karl-Marx-Str. 76",
           "B Neuk�lln-Karl-Marx-Str. 76",
           "DEBE064"
          ],
          "parameters": [
           "no2",
           "pm10"
          ],
          "sourceName": "EEA Germany",
          "sourceNames": [
           "EEA Germany"
          ],
          "sourceType": "government",
          "sourceTypes": [
           "government"
          ]
         },
         "type": "Feature"
        },
        {
         "geometry": {
          "coordinates": [
           13.46993,
           52.51407
          ],
          "type": "Point"
         },
         "properties": {
          "cities": [
           "Rainer Nothard",
           "Berlin"
          ],
          "city": "Berlin",
          "coordinates": {
           "latitude": 52.51407,
           "longitude": 13.46993
          },
          "count": 40572,
          "country": "DE",
          "countsByMeasurement": [
           {
            "count": 10336,
            "parameter": "co"
           },
           {
            "count": 9841,
            "parameter": "no2"
           },
           {
            "count": 1407,
            "parameter": "o3"
           },
           {
            "count": 9955,
            "parameter": "pm10"
           },
           {
            "count": 9033,
            "parameter": "so2"
           }
          ],
          "firstUpdated": "2016-11-21T11:00:00.000Z",
          "id": "DE-262",
          "lastUpdated": "2020-10-09T05:00:00.000Z",
          "location": "DEBE065",
          "locations": [
           "B Friedrichshain-Frankfurter Allee",
           "DEBE065"
          ],
          "parameters": [
           "co",
           "no2",
           "o3",
           "pm10",
           "so2"
          ],
          "sourceName": "EEA Germany",
          "sourceNames": [
           "EEA Germany"
          ],
          "sourceType": "government",
          "sourceTypes": [
           "government"
          ]
         },
         "type": "Feature"
        },
        {
         "geometry": {
          "coordinates": [
           13.5295,
           52.48529
          ],
          "type": "Point"
         },
         "properties": {
          "cities": [
           "Rainer Nothard",
           "Berlin"
          ],
          "city": "Berlin",
          "coordinates": {
           "latitude": 52.48529,
           "longitude": 13.5295
          },
          "count": 17169,
          "country": "DE",
          "countsByMeasurement": [
           {
            "count": 9934,
            "parameter": "no2"
           },
           {
            "count": 7235,
            "parameter": "so2"
           }
          ],
          "firstUpdated": "2016-11-21T11:00:00.000Z",
          "id": "DE-2",
          "lastUpdated": "2020-10-09T05:00:00.000Z",
          "location": "DEBE066",
          "locations": [
           "B Karlshorst-Rheingoldstr./Königswinterstr.",
           "B Karlshorst-Rheingoldstr./K�nigswinterstr.",
           "DEBE066"
          ],
          "parameters": [
           "no2",
           "so2"
          ],
          "sourceName": "EEA Germany",
          "sourceNames": [
           "EEA Germany"
          ],
          "sourceType": "government",
          "sourceTypes": [
           "government"
          ]
         },
         "type": "Feature"
        },
        {
         "geometry": {
          "coordinates": [
           13.33297,
           52.5066
          ],
          "type": "Point"
         },
         "properties": {
          "cities": [
           "Rainer Nothard",
           "Berlin"
          ],
          "city": "Berlin",
          "coordinates": {
           "latitude": 52.5066,
           "longitude": 13.33297
          },
          "count": 9935,
          "country": "DE",
          "countsByMeasurement": [
           {
            "count": 9935,
            "parameter": "no2"
           }
          ],
          "firstUpdated": "2016-11-21T11:00:00.000Z",
          "id": "DE-199",
          "lastUpdated": "2020-10-09T05:00:00.000Z",
          "location": "DEBE067",
          "locations": [
           "B Hardenbergplatz",
           "DEBE067"
          ],
          "parameters": [
           "no2"
          ],
          "sourceName": "EEA Germany",
          "sourceNames": [
           "EEA Germany"
          ],
          "sourceType": "government",
          "sourceTypes": [
           "government"
          ]
         },
         "type": "Feature"
        },
        {
         "geometry": {
          "coordinates": [
           13.41883,
           52.51361
          ],
          "type": "Point"
         },
         "properties": {
          "cities": [
           "Rainer Nothard",
           "Berlin"
          ],
          "city": "Berlin",
          "coordinates": {
           "latitude": 52.51361,
           "longitude": 13.41883
          },
          "count": 20181,
          "country": "DE",
          "countsByMeasurement": [
           {
            "count": 10013,
            "parameter": "no2"
           },
           {
            "count": 10168,
            "parameter": "pm10"
           }
          ],
          "firstUpdated": "2016-11-21T11:00:00.000Z",
          "id": "DE-178",
          "lastUpdated": "2020-10-09T05:00:00.000Z",
          "location": "DEBE068",
          "locations": [
           "B Mitte, Brückenstraße",
           "B Mitte, Br�ckenstra�e",
           "DEBE068"
          ],
          "parameters": [
           "no2",
           "pm10"
          ],
          "sourceName": "EEA Germany",
          "sourceNames": [
           "EEA Germany"
          ],
          "sourceType": "government",
          "sourceTypes": [
           "government"
          ]
         },
         "type": "Feature"
        },
        {
         "geometry": {
          "coordinates": [
           13.38772,
           52.43811
          ],
          "type": "Point"
         },
         "properties": {
          "cities": [
           "Rainer Nothard",
           "Berlin"
          ],
          "city": "Berlin",
          "coordinates": {
           "latitude": 52.43811,
           "longitude": 13.38772
          },
          "count": 20046,
          "country": "DE",
          "countsByMeasurement": [
           {
            "count": 10001,
            "parameter": "no2"
           },
           {
            "count": 10045,
            "parameter": "pm10"
           }
          ],
          "firstUpdated": "2016-11-21T11:00:00.000Z",
          "id": "DE-124",
          "lastUpdated": "2020-10-09T05:00:00.000Z",
          "location": "DEBE069",
          "locations": [
           "B Mariendorf, Mariendorfer Damm",
           "DEBE069"
          ],
          "parameters": [
           "no2",
           "pm10"
          ],
          "sourceName": "EEA Germany",
          "sourceNames": [
           "EEA Germany"
          ],
          "sourceType": "government",
          "sourceTypes": [
           "government"
          ]
         },
         "type": "Feature"
        }
       ],
       "type": "FeatureCollection"
      },
      "text/plain": [
       "<IPython.display.GeoJSON object>"
      ]
     },
     "metadata": {
      "application/geo+json": {
       "expanded": false,
       "root": "root"
      }
     },
     "output_type": "display_data"
    }
   ],
   "source": [
    "def station_to_feature(station):\n",
    "    return {\n",
    "        \"type\": \"Feature\",\n",
    "        \"geometry\": {\n",
    "            \"type\": \"Point\",\n",
    "            \"coordinates\": list(station['coordinates'].values())\n",
    "        },\n",
    "        \"properties\": station\n",
    "    }\n",
    "\n",
    "station_features = [station_to_feature(station) for station in stations]\n",
    "GeoJSON({\n",
    "  \"type\": \"FeatureCollection\",\n",
    "  \"features\": station_features\n",
    "})"
   ]
  },
  {
   "cell_type": "code",
   "execution_count": 35,
   "metadata": {},
   "outputs": [
    {
     "data": {
      "text/plain": [
       "(13.34933, 52.54304)"
      ]
     },
     "execution_count": 35,
     "metadata": {},
     "output_type": "execute_result"
    }
   ],
   "source": [
    "tuple(stations[0]['coordinates'].values())"
   ]
  },
  {
   "cell_type": "code",
   "execution_count": 41,
   "metadata": {},
   "outputs": [],
   "source": [
    "from geojson import Feature, Point, FeatureCollection, dump\n",
    "\n",
    "def station_to_feature(station):\n",
    "    return Feature(geometry=Point(tuple(station['coordinates'].values())), properties=station)\n",
    "\n",
    "collection = FeatureCollection([station_to_feature(station) for station in stations])\n",
    "\n",
    "with open(\"berlin-stations.geojson\", \"w\") as f:\n",
    "    dump(collection, f)"
   ]
  },
  {
   "cell_type": "code",
   "execution_count": 43,
   "metadata": {},
   "outputs": [
    {
     "data": {
      "application/geo+json": {
       "features": [
        {
         "geometry": {
          "coordinates": [
           13.34933,
           52.54304
          ],
          "type": "Point"
         },
         "properties": {
          "cities": [
           "Rainer Nothard",
           "Berlin"
          ],
          "city": "Berlin",
          "coordinates": {
           "latitude": 52.54304,
           "longitude": 13.34933
          },
          "count": 30488,
          "country": "DE",
          "countsByMeasurement": [
           {
            "count": 10034,
            "parameter": "no2"
           },
           {
            "count": 10324,
            "parameter": "o3"
           },
           {
            "count": 10130,
            "parameter": "pm10"
           }
          ],
          "firstUpdated": "2016-11-21T13:00:00.000Z",
          "id": "DE-363",
          "lastUpdated": "2020-10-09T05:00:00.000Z",
          "location": "DEBE010",
          "locations": [
           "B Wedding-Amrumer Str.",
           "DEBE010"
          ],
          "parameters": [
           "no2",
           "o3",
           "pm10"
          ],
          "sourceName": "EEA Germany",
          "sourceNames": [
           "EEA Germany"
          ],
          "sourceType": "government",
          "sourceTypes": [
           "government"
          ]
         },
         "type": "Feature"
        },
        {
         "geometry": {
          "coordinates": [
           13.34877,
           52.48581
          ],
          "type": "Point"
         },
         "properties": {
          "cities": [
           "Rainer Nothard",
           "Berlin"
          ],
          "city": "Berlin",
          "coordinates": {
           "latitude": 52.48581,
           "longitude": 13.34877
          },
          "count": 10002,
          "country": "DE",
          "countsByMeasurement": [
           {
            "count": 10002,
            "parameter": "no2"
           }
          ],
          "firstUpdated": "2016-11-21T13:00:00.000Z",
          "id": "DE-362",
          "lastUpdated": "2020-10-09T05:00:00.000Z",
          "location": "DEBE018",
          "locations": [
           "B Schöneberg-Belziger Straße",
           "B Sch�neberg-Belziger Stra�e",
           "DEBE018"
          ],
          "parameters": [
           "no2"
          ],
          "sourceName": "EEA Germany",
          "sourceNames": [
           "EEA Germany"
          ],
          "sourceType": "government",
          "sourceTypes": [
           "government"
          ]
         },
         "type": "Feature"
        },
        {
         "geometry": {
          "coordinates": [
           13.3681,
           52.39841
          ],
          "type": "Point"
         },
         "properties": {
          "cities": [
           "Rainer Nothard",
           "Berlin"
          ],
          "city": "Berlin",
          "coordinates": {
           "latitude": 52.39841,
           "longitude": 13.3681
          },
          "count": 19612,
          "country": "DE",
          "countsByMeasurement": [
           {
            "count": 9715,
            "parameter": "no2"
           },
           {
            "count": 9897,
            "parameter": "o3"
           }
          ],
          "firstUpdated": "2016-11-21T13:00:00.000Z",
          "id": "DE-354",
          "lastUpdated": "2020-10-09T05:00:00.000Z",
          "location": "DEBE027",
          "locations": [
           "B Marienfelde-Schichauweg",
           "DEBE027"
          ],
          "parameters": [
           "no2",
           "o3"
          ],
          "sourceName": "EEA Germany",
          "sourceNames": [
           "EEA Germany"
          ],
          "sourceType": "government",
          "sourceTypes": [
           "government"
          ]
         },
         "type": "Feature"
        },
        {
         "geometry": {
          "coordinates": [
           13.22514,
           52.47319
          ],
          "type": "Point"
         },
         "properties": {
          "cities": [
           "Rainer Nothard",
           "Berlin"
          ],
          "city": "Berlin",
          "coordinates": {
           "latitude": 52.47319,
           "longitude": 13.22514
          },
          "count": 30154,
          "country": "DE",
          "countsByMeasurement": [
           {
            "count": 9949,
            "parameter": "no2"
           },
           {
            "count": 10312,
            "parameter": "o3"
           },
           {
            "count": 9893,
            "parameter": "pm10"
           }
          ],
          "firstUpdated": "2016-11-21T13:00:00.000Z",
          "id": "DE-358",
          "lastUpdated": "2020-10-09T05:00:00.000Z",
          "location": "DEBE032",
          "locations": [
           "B Grunewald (3.5 m)",
           "DEBE032"
          ],
          "parameters": [
           "no2",
           "o3",
           "pm10"
          ],
          "sourceName": "EEA Germany",
          "sourceNames": [
           "EEA Germany"
          ],
          "sourceType": "government",
          "sourceTypes": [
           "government"
          ]
         },
         "type": "Feature"
        },
        {
         "geometry": {
          "coordinates": [
           13.43084,
           52.48945
          ],
          "type": "Point"
         },
         "properties": {
          "cities": [
           "Rainer Nothard",
           "Berlin"
          ],
          "city": "Berlin",
          "coordinates": {
           "latitude": 52.48945,
           "longitude": 13.43084
          },
          "count": 30256,
          "country": "DE",
          "countsByMeasurement": [
           {
            "count": 9957,
            "parameter": "no2"
           },
           {
            "count": 10245,
            "parameter": "o3"
           },
           {
            "count": 10054,
            "parameter": "pm10"
           }
          ],
          "firstUpdated": "2016-11-21T11:00:00.000Z",
          "id": "DE-281",
          "lastUpdated": "2020-10-09T05:00:00.000Z",
          "location": "DEBE034",
          "locations": [
           "B Neukölln-Nansenstraße",
           "B Neuk�lln-Nansenstra�e",
           "DEBE034"
          ],
          "parameters": [
           "no2",
           "o3",
           "pm10"
          ],
          "sourceName": "EEA Germany",
          "sourceNames": [
           "EEA Germany"
          ],
          "sourceType": "government",
          "sourceTypes": [
           "government"
          ]
         },
         "type": "Feature"
        },
        {
         "geometry": {
          "coordinates": [
           13.48953,
           52.64352
          ],
          "type": "Point"
         },
         "properties": {
          "cities": [
           "Rainer Nothard",
           "Berlin"
          ],
          "city": "Berlin",
          "coordinates": {
           "latitude": 52.64352,
           "longitude": 13.48953
          },
          "count": 29941,
          "country": "DE",
          "countsByMeasurement": [
           {
            "count": 9787,
            "parameter": "no2"
           },
           {
            "count": 10142,
            "parameter": "o3"
           },
           {
            "count": 10012,
            "parameter": "pm10"
           }
          ],
          "firstUpdated": "2016-11-21T11:00:00.000Z",
          "id": "DE-51",
          "lastUpdated": "2020-10-09T05:00:00.000Z",
          "location": "DEBE051",
          "locations": [
           "B Buch",
           "DEBE051"
          ],
          "parameters": [
           "no2",
           "o3",
           "pm10"
          ],
          "sourceName": "EEA Germany",
          "sourceNames": [
           "EEA Germany"
          ],
          "sourceType": "government",
          "sourceTypes": [
           "government"
          ]
         },
         "type": "Feature"
        },
        {
         "geometry": {
          "coordinates": [
           13.64705,
           52.4477
          ],
          "type": "Point"
         },
         "properties": {
          "cities": [
           "Rainer Nothard",
           "Berlin"
          ],
          "city": "Berlin",
          "coordinates": {
           "latitude": 52.4477,
           "longitude": 13.64705
          },
          "count": 29287,
          "country": "DE",
          "countsByMeasurement": [
           {
            "count": 9611,
            "parameter": "no2"
           },
           {
            "count": 9945,
            "parameter": "o3"
           },
           {
            "count": 9731,
            "parameter": "pm10"
           }
          ],
          "firstUpdated": "2016-11-21T11:00:00.000Z",
          "id": "DE-69",
          "lastUpdated": "2020-10-09T05:00:00.000Z",
          "location": "DEBE056",
          "locations": [
           "B Friedrichshagen",
           "DEBE056"
          ],
          "parameters": [
           "no2",
           "o3",
           "pm10"
          ],
          "sourceName": "EEA Germany",
          "sourceNames": [
           "EEA Germany"
          ],
          "sourceType": "government",
          "sourceTypes": [
           "government"
          ]
         },
         "type": "Feature"
        },
        {
         "geometry": {
          "coordinates": [
           13.31825,
           52.46361
          ],
          "type": "Point"
         },
         "properties": {
          "cities": [
           "Rainer Nothard",
           "Berlin"
          ],
          "city": "Berlin",
          "coordinates": {
           "latitude": 52.46361,
           "longitude": 13.31825
          },
          "count": 30602,
          "country": "DE",
          "countsByMeasurement": [
           {
            "count": 10605,
            "parameter": "co"
           },
           {
            "count": 9886,
            "parameter": "no2"
           },
           {
            "count": 10111,
            "parameter": "pm10"
           }
          ],
          "firstUpdated": "2016-11-21T11:00:00.000Z",
          "id": "DE-242",
          "lastUpdated": "2020-10-09T05:00:00.000Z",
          "location": "DEBE061",
          "locations": [
           "B Steglitz-Schildhornstr.",
           "DEBE061"
          ],
          "parameters": [
           "co",
           "no2",
           "pm10"
          ],
          "sourceName": "EEA Germany",
          "sourceNames": [
           "EEA Germany"
          ],
          "sourceType": "government",
          "sourceTypes": [
           "government"
          ]
         },
         "type": "Feature"
        },
        {
         "geometry": {
          "coordinates": [
           13.29608,
           52.65327
          ],
          "type": "Point"
         },
         "properties": {
          "cities": [
           "Rainer Nothard",
           "Berlin"
          ],
          "city": "Berlin",
          "coordinates": {
           "latitude": 52.65327,
           "longitude": 13.29608
          },
          "count": 20291,
          "country": "DE",
          "countsByMeasurement": [
           {
            "count": 9992,
            "parameter": "no2"
           },
           {
            "count": 10299,
            "parameter": "o3"
           }
          ],
          "firstUpdated": "2016-11-21T13:00:00.000Z",
          "id": "DE-356",
          "lastUpdated": "2020-10-09T05:00:00.000Z",
          "location": "DEBE062",
          "locations": [
           "B Frohnau, Funkturm (3.5 m)",
           "DEBE062"
          ],
          "parameters": [
           "no2",
           "o3"
          ],
          "sourceName": "EEA Germany",
          "sourceNames": [
           "EEA Germany"
          ],
          "sourceType": "government",
          "sourceTypes": [
           "government"
          ]
         },
         "type": "Feature"
        },
        {
         "geometry": {
          "coordinates": [
           13.44165,
           52.46753
          ],
          "type": "Point"
         },
         "properties": {
          "cities": [
           "Rainer Nothard",
           "Berlin"
          ],
          "city": "Berlin",
          "coordinates": {
           "latitude": 52.46753,
           "longitude": 13.44165
          },
          "count": 20050,
          "country": "DE",
          "countsByMeasurement": [
           {
            "count": 9975,
            "parameter": "no2"
           },
           {
            "count": 10075,
            "parameter": "pm10"
           }
          ],
          "firstUpdated": "2016-11-21T11:00:00.000Z",
          "id": "DE-87",
          "lastUpdated": "2020-10-09T05:00:00.000Z",
          "location": "DEBE063",
          "locations": [
           "B Neukölln-Silbersteinstr.",
           "B Neuk�lln-Silbersteinstr.",
           "DEBE063"
          ],
          "parameters": [
           "no2",
           "pm10"
          ],
          "sourceName": "EEA Germany",
          "sourceNames": [
           "EEA Germany"
          ],
          "sourceType": "government",
          "sourceTypes": [
           "government"
          ]
         },
         "type": "Feature"
        },
        {
         "geometry": {
          "coordinates": [
           13.43397,
           52.48171
          ],
          "type": "Point"
         },
         "properties": {
          "cities": [
           "Rainer Nothard",
           "Berlin"
          ],
          "city": "Berlin",
          "coordinates": {
           "latitude": 52.48171,
           "longitude": 13.43397
          },
          "count": 20004,
          "country": "DE",
          "countsByMeasurement": [
           {
            "count": 9935,
            "parameter": "no2"
           },
           {
            "count": 10069,
            "parameter": "pm10"
           }
          ],
          "firstUpdated": "2016-11-21T11:00:00.000Z",
          "id": "DE-252",
          "lastUpdated": "2020-10-09T05:00:00.000Z",
          "location": "DEBE064",
          "locations": [
           "B Neukölln-Karl-Marx-Str. 76",
           "B Neuk�lln-Karl-Marx-Str. 76",
           "DEBE064"
          ],
          "parameters": [
           "no2",
           "pm10"
          ],
          "sourceName": "EEA Germany",
          "sourceNames": [
           "EEA Germany"
          ],
          "sourceType": "government",
          "sourceTypes": [
           "government"
          ]
         },
         "type": "Feature"
        },
        {
         "geometry": {
          "coordinates": [
           13.46993,
           52.51407
          ],
          "type": "Point"
         },
         "properties": {
          "cities": [
           "Rainer Nothard",
           "Berlin"
          ],
          "city": "Berlin",
          "coordinates": {
           "latitude": 52.51407,
           "longitude": 13.46993
          },
          "count": 40572,
          "country": "DE",
          "countsByMeasurement": [
           {
            "count": 10336,
            "parameter": "co"
           },
           {
            "count": 9841,
            "parameter": "no2"
           },
           {
            "count": 1407,
            "parameter": "o3"
           },
           {
            "count": 9955,
            "parameter": "pm10"
           },
           {
            "count": 9033,
            "parameter": "so2"
           }
          ],
          "firstUpdated": "2016-11-21T11:00:00.000Z",
          "id": "DE-262",
          "lastUpdated": "2020-10-09T05:00:00.000Z",
          "location": "DEBE065",
          "locations": [
           "B Friedrichshain-Frankfurter Allee",
           "DEBE065"
          ],
          "parameters": [
           "co",
           "no2",
           "o3",
           "pm10",
           "so2"
          ],
          "sourceName": "EEA Germany",
          "sourceNames": [
           "EEA Germany"
          ],
          "sourceType": "government",
          "sourceTypes": [
           "government"
          ]
         },
         "type": "Feature"
        },
        {
         "geometry": {
          "coordinates": [
           13.5295,
           52.48529
          ],
          "type": "Point"
         },
         "properties": {
          "cities": [
           "Rainer Nothard",
           "Berlin"
          ],
          "city": "Berlin",
          "coordinates": {
           "latitude": 52.48529,
           "longitude": 13.5295
          },
          "count": 17169,
          "country": "DE",
          "countsByMeasurement": [
           {
            "count": 9934,
            "parameter": "no2"
           },
           {
            "count": 7235,
            "parameter": "so2"
           }
          ],
          "firstUpdated": "2016-11-21T11:00:00.000Z",
          "id": "DE-2",
          "lastUpdated": "2020-10-09T05:00:00.000Z",
          "location": "DEBE066",
          "locations": [
           "B Karlshorst-Rheingoldstr./Königswinterstr.",
           "B Karlshorst-Rheingoldstr./K�nigswinterstr.",
           "DEBE066"
          ],
          "parameters": [
           "no2",
           "so2"
          ],
          "sourceName": "EEA Germany",
          "sourceNames": [
           "EEA Germany"
          ],
          "sourceType": "government",
          "sourceTypes": [
           "government"
          ]
         },
         "type": "Feature"
        },
        {
         "geometry": {
          "coordinates": [
           13.33297,
           52.5066
          ],
          "type": "Point"
         },
         "properties": {
          "cities": [
           "Rainer Nothard",
           "Berlin"
          ],
          "city": "Berlin",
          "coordinates": {
           "latitude": 52.5066,
           "longitude": 13.33297
          },
          "count": 9935,
          "country": "DE",
          "countsByMeasurement": [
           {
            "count": 9935,
            "parameter": "no2"
           }
          ],
          "firstUpdated": "2016-11-21T11:00:00.000Z",
          "id": "DE-199",
          "lastUpdated": "2020-10-09T05:00:00.000Z",
          "location": "DEBE067",
          "locations": [
           "B Hardenbergplatz",
           "DEBE067"
          ],
          "parameters": [
           "no2"
          ],
          "sourceName": "EEA Germany",
          "sourceNames": [
           "EEA Germany"
          ],
          "sourceType": "government",
          "sourceTypes": [
           "government"
          ]
         },
         "type": "Feature"
        },
        {
         "geometry": {
          "coordinates": [
           13.41883,
           52.51361
          ],
          "type": "Point"
         },
         "properties": {
          "cities": [
           "Rainer Nothard",
           "Berlin"
          ],
          "city": "Berlin",
          "coordinates": {
           "latitude": 52.51361,
           "longitude": 13.41883
          },
          "count": 20181,
          "country": "DE",
          "countsByMeasurement": [
           {
            "count": 10013,
            "parameter": "no2"
           },
           {
            "count": 10168,
            "parameter": "pm10"
           }
          ],
          "firstUpdated": "2016-11-21T11:00:00.000Z",
          "id": "DE-178",
          "lastUpdated": "2020-10-09T05:00:00.000Z",
          "location": "DEBE068",
          "locations": [
           "B Mitte, Brückenstraße",
           "B Mitte, Br�ckenstra�e",
           "DEBE068"
          ],
          "parameters": [
           "no2",
           "pm10"
          ],
          "sourceName": "EEA Germany",
          "sourceNames": [
           "EEA Germany"
          ],
          "sourceType": "government",
          "sourceTypes": [
           "government"
          ]
         },
         "type": "Feature"
        },
        {
         "geometry": {
          "coordinates": [
           13.38772,
           52.43811
          ],
          "type": "Point"
         },
         "properties": {
          "cities": [
           "Rainer Nothard",
           "Berlin"
          ],
          "city": "Berlin",
          "coordinates": {
           "latitude": 52.43811,
           "longitude": 13.38772
          },
          "count": 20046,
          "country": "DE",
          "countsByMeasurement": [
           {
            "count": 10001,
            "parameter": "no2"
           },
           {
            "count": 10045,
            "parameter": "pm10"
           }
          ],
          "firstUpdated": "2016-11-21T11:00:00.000Z",
          "id": "DE-124",
          "lastUpdated": "2020-10-09T05:00:00.000Z",
          "location": "DEBE069",
          "locations": [
           "B Mariendorf, Mariendorfer Damm",
           "DEBE069"
          ],
          "parameters": [
           "no2",
           "pm10"
          ],
          "sourceName": "EEA Germany",
          "sourceNames": [
           "EEA Germany"
          ],
          "sourceType": "government",
          "sourceTypes": [
           "government"
          ]
         },
         "type": "Feature"
        }
       ],
       "type": "FeatureCollection"
      },
      "text/plain": [
       "<IPython.display.GeoJSON object>"
      ]
     },
     "metadata": {
      "application/geo+json": {
       "expanded": false,
       "root": "root"
      }
     },
     "output_type": "display_data"
    }
   ],
   "source": [
    "GeoJSON(collection)"
   ]
  },
  {
   "cell_type": "code",
   "execution_count": null,
   "metadata": {},
   "outputs": [],
   "source": []
  }
 ],
 "metadata": {
  "kernelspec": {
   "display_name": "Python 3",
   "language": "python",
   "name": "python3"
  },
  "language_info": {
   "codemirror_mode": {
    "name": "ipython",
    "version": 3
   },
   "file_extension": ".py",
   "mimetype": "text/x-python",
   "name": "python",
   "nbconvert_exporter": "python",
   "pygments_lexer": "ipython3",
   "version": "3.8.5"
  }
 },
 "nbformat": 4,
 "nbformat_minor": 4
}

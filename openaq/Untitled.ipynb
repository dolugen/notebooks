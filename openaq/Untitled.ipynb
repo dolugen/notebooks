{
 "cells": [
  {
   "cell_type": "code",
   "execution_count": 1,
   "metadata": {},
   "outputs": [
    {
     "name": "stdout",
     "output_type": "stream",
     "text": [
      "On branch master\n",
      "Changes not staged for commit:\n",
      "  (use \"git add <file>...\" to update what will be committed)\n",
      "  (use \"git restore <file>...\" to discard changes in working directory)\n",
      "\tmodified:   map-clusters.ipynb\n",
      "\n",
      "Untracked files:\n",
      "  (use \"git add <file>...\" to include in what will be committed)\n",
      "\t../binary conversion.ipynb\n",
      "\t../example.pdf\n",
      "\t../figure.png\n",
      "\t../first_figure.html\n",
      "\tUntitled.ipynb\n",
      "\tmapbox-tls.ipynb\n",
      "\t../out.pdf\n",
      "\t../plots.ipynb\n",
      "\t../reportlab-fund-reports-tutorial-py3.zip\n",
      "\t../reportlab-manual/\n",
      "\t../reportlab_tutorial/\n",
      "\t../snapshot.pdf\n",
      "\t../test-fpdf.ipynb\n",
      "\t../test-pdfkit.ipynb\n",
      "\t../test-reportlab.ipynb\n",
      "\t../test-xhtml2pdf.ipynb\n",
      "\n",
      "no changes added to commit (use \"git add\" and/or \"git commit -a\")\n"
     ]
    }
   ],
   "source": [
    "%%bash\n",
    "git status"
   ]
  },
  {
   "cell_type": "code",
   "execution_count": null,
   "metadata": {},
   "outputs": [],
   "source": []
  }
 ],
 "metadata": {
  "kernelspec": {
   "display_name": "Python 3",
   "language": "python",
   "name": "python3"
  },
  "language_info": {
   "codemirror_mode": {
    "name": "ipython",
    "version": 3
   },
   "file_extension": ".py",
   "mimetype": "text/x-python",
   "name": "python",
   "nbconvert_exporter": "python",
   "pygments_lexer": "ipython3",
   "version": "3.8.5"
  }
 },
 "nbformat": 4,
 "nbformat_minor": 4
}

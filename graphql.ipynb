{
 "cells": [
  {
   "cell_type": "markdown",
   "metadata": {},
   "source": [
    "# GraphQL"
   ]
  },
  {
   "cell_type": "code",
   "execution_count": 2,
   "metadata": {},
   "outputs": [
    {
     "name": "stdout",
     "output_type": "stream",
     "text": [
      "Requirement already satisfied: graphqlclient in /Users/dulguun/.local/share/virtualenvs/notebooks-wa7dC8Gm/lib/python3.9/site-packages (0.2.4)\n",
      "Requirement already satisfied: six in /Users/dulguun/.local/share/virtualenvs/notebooks-wa7dC8Gm/lib/python3.9/site-packages (from graphqlclient) (1.15.0)\n",
      "{\"data\":{\"continents\":[{\"code\":\"AF\",\"name\":\"Africa\"},{\"code\":\"AN\",\"name\":\"Antarctica\"},{\"code\":\"AS\",\"name\":\"Asia\"},{\"code\":\"EU\",\"name\":\"Europe\"},{\"code\":\"NA\",\"name\":\"North America\"},{\"code\":\"OC\",\"name\":\"Oceania\"},{\"code\":\"SA\",\"name\":\"South America\"}]}}\n",
      "\n"
     ]
    }
   ],
   "source": [
    "!pip install graphqlclient\n",
    "from graphqlclient import GraphQLClient\n",
    "\n",
    "client = GraphQLClient('https://countries.trevorblades.com/')\n",
    "\n",
    "result = client.execute('''\n",
    "query getContinents {\n",
    "  continents {\n",
    "    code\n",
    "    name\n",
    "  }\n",
    "}\n",
    "\n",
    "''')\n",
    "\n",
    "print(result)"
   ]
  },
  {
   "cell_type": "code",
   "execution_count": 3,
   "metadata": {},
   "outputs": [
    {
     "data": {
      "text/plain": [
       "str"
      ]
     },
     "execution_count": 3,
     "metadata": {},
     "output_type": "execute_result"
    }
   ],
   "source": [
    "type(result)"
   ]
  },
  {
   "cell_type": "code",
   "execution_count": 4,
   "metadata": {},
   "outputs": [
    {
     "data": {
      "text/plain": [
       "{'data': {'continents': [{'code': 'AF', 'name': 'Africa'},\n",
       "   {'code': 'AN', 'name': 'Antarctica'},\n",
       "   {'code': 'AS', 'name': 'Asia'},\n",
       "   {'code': 'EU', 'name': 'Europe'},\n",
       "   {'code': 'NA', 'name': 'North America'},\n",
       "   {'code': 'OC', 'name': 'Oceania'},\n",
       "   {'code': 'SA', 'name': 'South America'}]}}"
      ]
     },
     "execution_count": 4,
     "metadata": {},
     "output_type": "execute_result"
    }
   ],
   "source": [
    "import json\n",
    "json.loads(result)"
   ]
  },
  {
   "cell_type": "code",
   "execution_count": 1,
   "metadata": {},
   "outputs": [
    {
     "ename": "ModuleNotFoundError",
     "evalue": "No module named 'python_graphql_client'",
     "output_type": "error",
     "traceback": [
      "\u001b[0;31m---------------------------------------------------------------------------\u001b[0m",
      "\u001b[0;31mModuleNotFoundError\u001b[0m                       Traceback (most recent call last)",
      "\u001b[0;32m<ipython-input-1-b7881f14c85b>\u001b[0m in \u001b[0;36m<module>\u001b[0;34m\u001b[0m\n\u001b[1;32m      1\u001b[0m \u001b[0;31m#!pip install python-graphql-client\u001b[0m\u001b[0;34m\u001b[0m\u001b[0;34m\u001b[0m\u001b[0;34m\u001b[0m\u001b[0m\n\u001b[0;32m----> 2\u001b[0;31m \u001b[0;32mfrom\u001b[0m \u001b[0mpython_graphql_client\u001b[0m \u001b[0;32mimport\u001b[0m \u001b[0mGraphqlClient\u001b[0m\u001b[0;34m\u001b[0m\u001b[0;34m\u001b[0m\u001b[0m\n\u001b[0m\u001b[1;32m      3\u001b[0m \u001b[0mclient\u001b[0m \u001b[0;34m=\u001b[0m \u001b[0mGraphQLClient\u001b[0m\u001b[0;34m(\u001b[0m\u001b[0;34m'http://<ADDR>/graphql'\u001b[0m\u001b[0;34m)\u001b[0m\u001b[0;34m\u001b[0m\u001b[0;34m\u001b[0m\u001b[0m\n\u001b[1;32m      4\u001b[0m \u001b[0mclient\u001b[0m\u001b[0;34m.\u001b[0m\u001b[0minject_token\u001b[0m\u001b[0;34m(\u001b[0m\u001b[0;34m'Bearer <TOKEN>'\u001b[0m\u001b[0;34m)\u001b[0m\u001b[0;34m\u001b[0m\u001b[0;34m\u001b[0m\u001b[0m\n\u001b[1;32m      5\u001b[0m result = client.execute('''\n",
      "\u001b[0;31mModuleNotFoundError\u001b[0m: No module named 'python_graphql_client'"
     ]
    }
   ],
   "source": [
    "#!pip install python-graphql-client\n",
    "from python_graphql_client import GraphqlClient\n",
    "client = GraphQLClient('http://<ADDR>/graphql')\n",
    "client.inject_token('Bearer <TOKEN>')\n",
    "result = client.execute('''\n",
    "query {\n",
    "  authors (limit: 5){\n",
    "    id\n",
    "    name\n",
    "  }\n",
    "}\n",
    "''')\n",
    "json.loads(result)"
   ]
  },
  {
   "cell_type": "code",
   "execution_count": null,
   "metadata": {},
   "outputs": [],
   "source": []
  }
 ],
 "metadata": {
  "kernelspec": {
   "display_name": "Python 3",
   "language": "python",
   "name": "python3"
  },
  "language_info": {
   "codemirror_mode": {
    "name": "ipython",
    "version": 3
   },
   "file_extension": ".py",
   "mimetype": "text/x-python",
   "name": "python",
   "nbconvert_exporter": "python",
   "pygments_lexer": "ipython3",
   "version": "3.8.6"
  }
 },
 "nbformat": 4,
 "nbformat_minor": 4
}

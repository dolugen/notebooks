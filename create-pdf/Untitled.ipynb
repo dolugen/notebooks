{
 "cells": [
  {
   "cell_type": "markdown",
   "metadata": {},
   "source": [
    "# Create PDF with ReportLab"
   ]
  },
  {
   "cell_type": "markdown",
   "metadata": {},
   "source": [
    "The final PDF would have the following elements:\n",
    "- Title of the page\n",
    "- Paragraphs of text at the beginning\n",
    "- Chart image\n",
    "- Map image\n",
    "- Text that may overflow into the next page\n",
    "\n",
    "![sketch.jpg](sketch.jpg)"
   ]
  },
  {
   "cell_type": "markdown",
   "metadata": {},
   "source": [
    "## Test code"
   ]
  },
  {
   "cell_type": "markdown",
   "metadata": {},
   "source": [
    "First, let's create a test page to see that our setup works."
   ]
  },
  {
   "cell_type": "code",
   "execution_count": 3,
   "metadata": {},
   "outputs": [],
   "source": [
    "from reportlab.lib.pagesizes import letter\n",
    "from reportlab.pdfgen import canvas\n",
    "\n",
    "def create_test_page(filename):\n",
    "    doc = canvas.Canvas(filename, pagesize=letter)\n",
    "    doc.setFont('Helvetica', 14)\n",
    "    \n",
    "    doc.drawString(30, 750, 'TEST')\n",
    "    \n",
    "    doc.save()\n",
    "    \n",
    "create_test_page('test_page.pdf')"
   ]
  },
  {
   "cell_type": "markdown",
   "metadata": {},
   "source": [
    "For the pages I want to create, I won't be using the canvas, but higher level page templates (PLATYPUS).\n",
    "\n",
    "Following block creates a document using the doc template API:"
   ]
  },
  {
   "cell_type": "code",
   "execution_count": 6,
   "metadata": {},
   "outputs": [],
   "source": [
    "from reportlab.lib.pagesizes import letter\n",
    "from reportlab.platypus import SimpleDocTemplate, Paragraph\n",
    "from reportlab.lib.styles import getSampleStyleSheet\n",
    "\n",
    "def create_page(filename):\n",
    "    doc = SimpleDocTemplate(filename,\n",
    "                            pagesize=letter, \n",
    "                            rightMargin=72,\n",
    "                            leftMargin=72,\n",
    "                            topMargin=72,\n",
    "                            bottomMargin=18)\n",
    "    styles = getSampleStyleSheet()\n",
    "    \n",
    "    flowables = []\n",
    "    \n",
    "    text = \"Hello, I'm a Paragraph\"\n",
    "    para = Paragraph(text, style=styles[\"Normal\"])\n",
    "    flowables.append(para)\n",
    "    \n",
    "    doc.build(flowables)\n",
    "\n",
    "create_page(\"test_doc.pdf\")"
   ]
  },
  {
   "cell_type": "markdown",
   "metadata": {},
   "source": [
    "## Actual document creation"
   ]
  },
  {
   "cell_type": "code",
   "execution_count": 39,
   "metadata": {},
   "outputs": [],
   "source": [
    "from reportlab.lib.pagesizes import letter\n",
    "from reportlab.platypus import SimpleDocTemplate, Paragraph, Spacer, Image\n",
    "from reportlab.lib.styles import getSampleStyleSheet\n",
    "from reportlab.lib.units import inch\n",
    "from reportlab.graphics.shapes import Drawing, Rect\n",
    "from reportlab.lib import colors\n",
    "from reportlab.graphics.charts.barcharts import VerticalBarChart\n",
    "from reportlab.lib.colors import PCMYKColor\n",
    "\n",
    "def simple_bar_chart():\n",
    "    drawing = Drawing(400, 250)\n",
    "    bar = VerticalBarChart()\n",
    "    bar.x = 10\n",
    "    bar.y = 10\n",
    "    bar.width = 400\n",
    "    bar.height = 250\n",
    "    data = [[1, 2, 3, None, None, None, 5],\n",
    "            [10, 5, 2, 6, 8, 3, 5],\n",
    "            [5, 7, 2, 8, 8, 2, 5],\n",
    "            [2, 10, 2, 1, 8, 9, 5],\n",
    "            ]\n",
    "    bar.data = data\n",
    "    bar.categoryAxis.categoryNames = ['Year1', 'Year2', 'Year3', 'Year4', 'Year5', 'Year6', 'Year7']\n",
    "    bar.bars[0].fillColor = PCMYKColor(0,100,100,40,alpha=85) \n",
    "    bar.bars[1].fillColor = PCMYKColor(23,51,0,4,alpha=85)\n",
    "    drawing.add(bar, '')\n",
    "    return drawing\n",
    "\n",
    "def create_doc(filename):    \n",
    "    # PLACEHOLDER CONTENT\n",
    "    document_title = \"Air Quality Snapshot for Mongolia 2015 to 2020\"\n",
    "    quick_stats = [\n",
    "        \"<b>6</b> years had poor air quality (according to WHO guidelines)\",\n",
    "        \"The year of <b>2015</b> had the worst air with average PM 2.5 concentrations at <b>248.98 µg/m³</b>\",\n",
    "        \"There are <b>28</b> government air quality monitoring stations in this area\",\n",
    "        \"<b>29891</b> measurements were collected during this time\",\n",
    "    ]\n",
    "    # chart\n",
    "    chart = simple_bar_chart()\n",
    "    \n",
    "    # map\n",
    "    box = Drawing(width=400, height=200)\n",
    "    box.add(Rect(5, 5, 400, 200, fillColor=colors.white))\n",
    "    area_map = Image(\"placekitten.jpg\", 400, 250)\n",
    "    \n",
    "    # should contain multiple sections with headings\n",
    "    explainer_text = \"\"\"\n",
    "Veniam iusto ea est sed odio vitae nobis. Illum qui nisi sed rerum sunt voluptatem. Inventore nostrum facere doloribus qui.\n",
    "\n",
    "Sint suscipit vel saepe. Aut non libero praesentium deleniti maiores. Labore nihil est consequatur aut ipsam et expedita. Quia quo odit sit assumenda cum assumenda aut voluptatem. Quam eum maxime quisquam distinctio aut minima officia et. Veritatis alias explicabo perferendis et dicta.\n",
    "\n",
    "Facere temporibus dignissimos optio. Dolor cum dolor saepe. Quo quasi harum nostrum rerum eos nostrum.\n",
    "\n",
    "Et est rerum molestiae ratione et occaecati. A odit impedit dolorem laboriosam similique ducimus nihil eum. Nam non autem harum impedit magni provident et. Qui et et dolorem.\n",
    "\n",
    "Ullam rerum nemo enim occaecati sed adipisci qui perspiciatis. Voluptatem repellendus a quo consequatur. Voluptas voluptas iure tempore eos non eum. Aut voluptates voluptatibus distinctio totam officiis tempore.\n",
    "\n",
    "Veniam iusto ea est sed odio vitae nobis. Illum qui nisi sed rerum sunt voluptatem. Inventore nostrum facere doloribus qui.\n",
    "\n",
    "Sint suscipit vel saepe. Aut non libero praesentium deleniti maiores. Labore nihil est consequatur aut ipsam et expedita. Quia quo odit sit assumenda cum assumenda aut voluptatem. Quam eum maxime quisquam distinctio aut minima officia et. Veritatis alias explicabo perferendis et dicta.\n",
    "\n",
    "Facere temporibus dignissimos optio. Dolor cum dolor saepe. Quo quasi harum nostrum rerum eos nostrum.\n",
    "\n",
    "Et est rerum molestiae ratione et occaecati. A odit impedit dolorem laboriosam similique ducimus nihil eum. Nam non autem harum impedit magni provident et. Qui et et dolorem.\n",
    "\n",
    "Ullam rerum nemo enim occaecati sed adipisci qui perspiciatis. Voluptatem repellendus a quo consequatur. Voluptas voluptas iure tempore eos non eum. Aut voluptates voluptatibus distinctio totam officiis tempore.\n",
    "    \"\"\"\n",
    "    \n",
    "    # CREATE DOCUMENT \n",
    "    \n",
    "    doc = SimpleDocTemplate(filename,\n",
    "                            pagesize=letter, \n",
    "                            rightMargin=72,\n",
    "                            leftMargin=72,\n",
    "                            topMargin=72,\n",
    "                            bottomMargin=18)\n",
    "    styles = getSampleStyleSheet()\n",
    "    spacer = Spacer(1, 0.25*inch)\n",
    "    \n",
    "    flowables = []\n",
    "    flowables.append(Paragraph(document_title, styles[\"Heading1\"]))\n",
    "    flowables.append(spacer)\n",
    "    \n",
    "    for text in quick_stats:\n",
    "        flowables.append(Paragraph(text, styles[\"Normal\"]))\n",
    "    flowables.append(spacer)\n",
    "    \n",
    "    flowables.append(chart)\n",
    "    flowables.append(spacer)\n",
    "    flowables.append(area_map)\n",
    "    \n",
    "    for text in explainer_text.split('\\n'):\n",
    "        flowables.append(Paragraph(text, styles[\"Normal\"]))\n",
    "    \n",
    "    doc.build(flowables)\n",
    "    \n",
    "create_doc(\"report.pdf\")"
   ]
  }
 ],
 "metadata": {
  "kernelspec": {
   "display_name": "Python 3",
   "language": "python",
   "name": "python3"
  },
  "language_info": {
   "codemirror_mode": {
    "name": "ipython",
    "version": 3
   },
   "file_extension": ".py",
   "mimetype": "text/x-python",
   "name": "python",
   "nbconvert_exporter": "python",
   "pygments_lexer": "ipython3",
   "version": "3.8.5"
  }
 },
 "nbformat": 4,
 "nbformat_minor": 4
}
